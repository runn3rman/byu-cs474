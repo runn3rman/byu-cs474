{
 "cells": [
  {
   "cell_type": "markdown",
   "metadata": {},
   "source": [
    "[![Open In Colab](https://colab.research.google.com/assets/colab-badge.svg)](https://colab.research.google.com/github/porterjenkins/byu-cs474/blob/master/lab1_pytorch_intro.ipynb)"
   ]
  },
  {
   "cell_type": "markdown",
   "metadata": {
    "id": "FYabkPq6Osas"
   },
   "source": [
    "# Deep Learning Part 1: PyTorch, Autodifferentiation, and Optimization\n",
    "\n",
    "---\n",
    "\n",
    "While these labs can be completed on your own computer using Jupyter, we suggest using Google Colab. Colab provides a standardized virtual environment and allows you to request a GPU, which will let you perform deep learning much faster. If you choose to do these labs on your own computer, you may have to do extra work in getting your CUDA-compatible GPU working and getting the right versions of the packages for the labs.\n",
    "\n",
    "We won't use GPUs for this lab, but it will be vital to speed up training in some of the future labs."
   ]
  },
  {
   "cell_type": "markdown",
   "metadata": {
    "id": "F7yAMqLfOquC"
   },
   "source": [
    "# Preface: Jupyter Notebooks"
   ]
  },
  {
   "cell_type": "markdown",
   "metadata": {
    "id": "0a6MTkmnOquF"
   },
   "source": [
    "All of your labs will utilize jupyter notebooks, which are useful tools, but they have one big side effect: hidden states. Jupyter notebooks store the state of an executed cell, which can spell problems if you are not careful. To see what we mean execute cell 1 and cell 2."
   ]
  },
  {
   "cell_type": "code",
   "execution_count": 1,
   "metadata": {
    "id": "jmumQeH9OquF"
   },
   "outputs": [],
   "source": [
    "# cell 1\n",
    "x = 0"
   ]
  },
  {
   "cell_type": "code",
   "execution_count": 4,
   "metadata": {
    "id": "psSQuB-TOquG"
   },
   "outputs": [],
   "source": [
    "# cell 2\n",
    "x += 1"
   ]
  },
  {
   "cell_type": "markdown",
   "metadata": {
    "id": "m7FvNaj-OquH"
   },
   "source": [
    "Now print `x` below and validate that it equals 1."
   ]
  },
  {
   "cell_type": "code",
   "execution_count": 3,
   "metadata": {
    "id": "PV64iTjhOquH"
   },
   "outputs": [
    {
     "data": {
      "text/plain": [
       "1"
      ]
     },
     "execution_count": 3,
     "metadata": {},
     "output_type": "execute_result"
    }
   ],
   "source": [
    "x"
   ]
  },
  {
   "cell_type": "markdown",
   "metadata": {
    "id": "WxyZtWTeOquI"
   },
   "source": [
    "Now execute cell 2 again and print `x` below"
   ]
  },
  {
   "cell_type": "code",
   "execution_count": 5,
   "metadata": {
    "id": "G8Wpn0YEOquI"
   },
   "outputs": [
    {
     "data": {
      "text/plain": [
       "2"
      ]
     },
     "execution_count": 5,
     "metadata": {},
     "output_type": "execute_result"
    }
   ],
   "source": [
    "x"
   ]
  },
  {
   "cell_type": "markdown",
   "metadata": {
    "id": "OlXeevt7OquJ"
   },
   "source": [
    "This time `x` equals 2, which makes sense because we incremented it twice, but if an outsider looked at this code sequentially it would seem weird that x prints out 1 and 2. Since the state is hidden, an outsider can't assume code cells are run in sequential order, or that the cells weren't edited after being run.\n",
    "\n",
    "Jupyter notebooks are great for development: letting you quickly iterate on a program without executing everything sequentially, but at some point you may run into an issue with hidden state.\n",
    "\n",
    "There are two ways to reset the hidden state in this example. The quickest would be to execute cell 1 again which would reset `x` back to 0. Then if you execute cell 2 and print `x` twice with the two statements below, they should both output 1.\n",
    "\n",
    "To fully reset the state, just restart your Jupyter notebook runtime/session. This erases all data in RAM, but keeps anything stored on disk (installs, datasets, etc.). When you disconnect from the session in Colab, it deletes everything except for what is saved in your notebook file: code, text, and outputs."
   ]
  },
  {
   "cell_type": "markdown",
   "metadata": {
    "id": "hiquMGSKOquL"
   },
   "source": [
    "---\n",
    "\n",
    "# What is PyTorch and Automatic Differentiation"
   ]
  },
  {
   "cell_type": "code",
   "execution_count": 8,
   "metadata": {
    "id": "YedNwhuoOquL"
   },
   "outputs": [],
   "source": [
    "import torch"
   ]
  },
  {
   "cell_type": "markdown",
   "metadata": {
    "id": "4Mwd_l3-OquM"
   },
   "source": [
    "## Part 1: Tensors and Array Operations"
   ]
  },
  {
   "cell_type": "markdown",
   "metadata": {
    "id": "PHvGT9ceOquM"
   },
   "source": [
    "Some of you may already be familiar with NumPy or vector math and so this should be a simple and brief overview.\n",
    "\n",
    "PyTorch tries to be as close to NumPy as possible."
   ]
  },
  {
   "cell_type": "markdown",
   "metadata": {
    "id": "xdxCQ0gYOquN"
   },
   "source": [
    "### Tensor creation, shapes, and data types\n",
    "\n",
    "Tensors are n-dimensional containers: 0D tensors are scalars, 1D tensors are vectors, and 2D tensors are matrices. We'll often work with tensors with more than 2 dimensions.\n",
    "\n",
    "Let start by creating a simple tensor.\n",
    "Pass in the array `[1, 2]` into the `torch.tensor()` function and store the tensor as variable `v`."
   ]
  },
  {
   "cell_type": "code",
   "execution_count": 12,
   "metadata": {
    "id": "hD19cj9tOquN"
   },
   "outputs": [],
   "source": [
    "v = torch.tensor([1, 2])"
   ]
  },
  {
   "cell_type": "markdown",
   "metadata": {
    "id": "iKZqsb2yOquN"
   },
   "source": [
    "Let us look at shape and data type of `v`.\n",
    "You can view the shape of `v` with `v.shape` or calling `v.size()` and you can look at the data type of `v` with `v.dtype`.\n",
    "\n",
    "Print the shape and data type of `v` below."
   ]
  },
  {
   "cell_type": "code",
   "execution_count": 14,
   "metadata": {
    "id": "FILMXnbmOquO"
   },
   "outputs": [
    {
     "name": "stdout",
     "output_type": "stream",
     "text": [
      "torch.Size([2])\n",
      "torch.int64\n"
     ]
    }
   ],
   "source": [
    "print(v.shape)\n",
    "print(v.dtype)\n"
   ]
  },
  {
   "cell_type": "markdown",
   "metadata": {
    "id": "2-ZYtRxPOquO"
   },
   "source": [
    "We see that that the shape of `v.shape = torch.Size([2])` and its dtype is `torch.int64`.\n",
    "\n",
    "Initialize a new tensor `w` with the following array `[[1.0], [2.0]]` and print out its shape and dtype."
   ]
  },
  {
   "cell_type": "code",
   "execution_count": 15,
   "metadata": {
    "id": "8CEuvIr9OquO"
   },
   "outputs": [
    {
     "name": "stdout",
     "output_type": "stream",
     "text": [
      "Shape: torch.Size([2, 1])\n",
      "Data type: torch.float32\n"
     ]
    }
   ],
   "source": [
    "w = torch.tensor([[1.0], [2.0]])\n",
    "\n",
    "print(f\"Shape: {w.shape}\")\n",
    "print(f\"Data type: {w.dtype}\")"
   ]
  },
  {
   "cell_type": "markdown",
   "metadata": {
    "id": "Ij9Ek7qhOquO"
   },
   "source": [
    "This time our tensor has a shape of `torch.Size([2, 1])` and its dtype is `torch.float32`."
   ]
  },
  {
   "cell_type": "markdown",
   "metadata": {
    "id": "iZ41g6YqOquO"
   },
   "source": [
    "Let's now change `v` to look like `w`.\n",
    "First we will try to make `v` share the same shape as `w`. `v` has 1 dimension and `w` has 2.\n",
    "Both `v` and `w` have a value of 2 in dimension 0 (using 0-based indexing) and `w` has a value of 1 in dimension 1.\n",
    "\n",
    "To add a dimension to `v` we can call the `v.unsqueeze()` function.\n",
    "It takes in a dimension argument (`dim`) specifying where we want to add the dimension.\n",
    "Because `v` is missing its dimension 1, specify `1` as the `dim` argument.\n",
    "\n",
    "*Note: `.unsqueeze()` returns a reshaped tensor and doesn't modify `v`.*\n",
    "\n",
    "Do not modify `v` and assign the unsqueezed tensor to the `answer` variable."
   ]
  },
  {
   "cell_type": "code",
   "execution_count": 16,
   "metadata": {
    "id": "cfzdW8DoOquO"
   },
   "outputs": [],
   "source": [
    "answer = v.unsqueeze(dim=1)\n",
    "\n",
    "assert answer.shape == w.shape == torch.Size([2, 1])\n",
    "assert v.shape == torch.Size([2])"
   ]
  },
  {
   "cell_type": "markdown",
   "metadata": {
    "id": "Jb8Xg05hOquP"
   },
   "source": [
    "Now let's change the `v`'s data type. This easiest method is to call is the `.float()` function.\n",
    "\n",
    "*Note: Like `.unsqueeze()`, `.float()` returns a new tensor with the specified dtype and doesn't modify `v`*.\n",
    "Do not modify v and assign the float tensor to the `answer` variable."
   ]
  },
  {
   "cell_type": "code",
   "execution_count": 17,
   "metadata": {
    "id": "9B4G9NJ_OquP"
   },
   "outputs": [],
   "source": [
    "answer = v.float()\n",
    "\n",
    "assert answer.dtype == w.dtype == torch.float32\n",
    "assert v.dtype == torch.int64"
   ]
  },
  {
   "cell_type": "markdown",
   "metadata": {
    "id": "S1FoaU2NOquP"
   },
   "source": [
    "Now let's change `w` to look like `v`, but this time let's do it in one line.\n",
    "\n",
    "First we should change `w`'s dimensions so it matches `v`.\n",
    "To remove a dimension we can call the `.squeeze()` function and specify the dimension we want to remove.\n",
    "This will only remove the dimension if it has **value of 1**, if you squeeze a dimension with a value >1, then nothing changes.\n",
    "If you do not specify a dimension, all dimensions with a value of 1 are removed.\n",
    "**It is good coding practice to specify the dimension.**\n",
    "\n",
    "To make `w` share the same dtype as `v` we can use the `.long()` (because a long is a 64-bit integer).\n",
    "\n",
    "Now convert `w` to have the same shape and dtype as `v`, in 1 line of code. Remember `.squeeze()` and `.long()` returns tensors so you can chain the functions."
   ]
  },
  {
   "cell_type": "code",
   "execution_count": 19,
   "metadata": {
    "id": "4fylIEn8OquQ"
   },
   "outputs": [],
   "source": [
    "answer = w.squeeze(dim=1).long()\n",
    "\n",
    "assert answer.shape == v.shape == torch.Size([2])\n",
    "assert answer.dtype == v.dtype == torch.int64"
   ]
  },
  {
   "cell_type": "markdown",
   "metadata": {
    "id": "3nseyumWOquQ"
   },
   "source": [
    "While there are many other dtypes, `torch.float32` and `torch.int64` are the main ones you will encounter."
   ]
  },
  {
   "cell_type": "markdown",
   "metadata": {
    "id": "bXyNW0IhOquQ"
   },
   "source": [
    "There are a few other helpful tensor creation functions."
   ]
  },
  {
   "cell_type": "code",
   "execution_count": 20,
   "metadata": {
    "id": "wugxs7bcOquQ"
   },
   "outputs": [
    {
     "name": "stdout",
     "output_type": "stream",
     "text": [
      "Zeros:  tensor([[0., 0., 0.],\n",
      "        [0., 0., 0.],\n",
      "        [0., 0., 0.]])\n",
      "Ones:  tensor([1., 1.])\n",
      "Full:  tensor([[-1],\n",
      "        [-1],\n",
      "        [-1]])\n",
      "Rand:  tensor([[0.3728, 0.4778],\n",
      "        [0.2725, 0.8679]])\n",
      "Randn:  tensor([[-0.0374,  0.0601],\n",
      "        [ 1.5761,  0.5559]])\n",
      "Zeros like:  tensor([0, 0])\n"
     ]
    }
   ],
   "source": [
    "print('Zeros: ', torch.zeros(size=(3, 3))) # returns a 3x3 tensor filled with 0's\n",
    "print('Ones: ', torch.ones(2)) # returns a tensor with shape (3,) filled with 1's\n",
    "print('Full: ', torch.full((3, 1), fill_value=-1)) # returns a tensor with shape (3,) filled with -1's\n",
    "print('Rand: ', torch.rand(size=(2, 2))) # returns a 2x2 tensor filled with (uniform) random floats between 0 and 1\n",
    "print('Randn: ', torch.randn(size=(2,2))) # returns a 2x2 tensors filled with random floats drawn from a standard normal distribution\n",
    "\n",
    "print('Zeros like: ', torch.zeros_like(v)) # returns a tensor with the same shape and dtype as v, but filled with 0's.\n",
    "# You could similarly call ones_like(), full_like(), rand_like()"
   ]
  },
  {
   "cell_type": "markdown",
   "metadata": {
    "id": "fd4FzZLaOquR"
   },
   "source": [
    "You can also easily create a tensor with a sequence of integers with the `torch.arange()` function. Just like Python's `range()` function you can specify where the sequence should start, end, and the sequence step size."
   ]
  },
  {
   "cell_type": "code",
   "execution_count": 21,
   "metadata": {
    "id": "iLiKqVObOquS"
   },
   "outputs": [
    {
     "name": "stdout",
     "output_type": "stream",
     "text": [
      "tensor([0, 1, 2, 3, 4, 5])\n",
      "tensor([1, 2, 3, 4, 5, 6])\n",
      "tensor([1, 3, 5])\n"
     ]
    }
   ],
   "source": [
    "print(torch.arange(6)) # returns a tensor with shape (6,) containing a sequence from 0 to 6 (exclusive), i.e. [0, 1, 2, 3, 4, 5]\n",
    "print(torch.arange(1, 7)) # returns a tensor with shape (6,) containing a sequence from 1 to 7 (exclusive), i.e. [1, 2, 3, 4, 5, 6]\n",
    "print(torch.arange(1, 7, 2)) # returns a tensor with shape (6,) containing sequence [1, 3, 5]"
   ]
  },
  {
   "cell_type": "markdown",
   "metadata": {
    "id": "Q7dgX7SlOquS"
   },
   "source": [
    "### Changing shapes"
   ]
  },
  {
   "cell_type": "markdown",
   "metadata": {
    "id": "pKGdsuSaOquT"
   },
   "source": [
    "We have explained how you can add or remove dimensions to a tensor with `.unsqueeze()` and `.squeeze()`.\n",
    "But what if we want reshape a tensor?\n",
    "\n",
    "Using the `torch.arange()` function, create a tensor, named `x`, containing a sequence from 0 to 12 (exclusive)"
   ]
  },
  {
   "cell_type": "code",
   "execution_count": 22,
   "metadata": {
    "id": "vrGpHdRjOquT"
   },
   "outputs": [],
   "source": [
    "x = torch.arange(12)\n",
    "\n",
    "assert x.equal(torch.tensor([0, 1, 2, 3, 4, 5, 6, 7, 8, 9, 10, 11]))"
   ]
  },
  {
   "cell_type": "markdown",
   "metadata": {
    "id": "9GKaLp7yOquT"
   },
   "source": [
    "Let's say we want to change our tensor sequence (vector) into a matrix such that: $$\\begin{bmatrix} 0 & 1 & 2 & 3 & 4 & 5 & 6 & 7 & 8 & 9 & 10 & 11 \\end{bmatrix} \\rightarrow \\begin{bmatrix} 0 & 1 & 2 & 3 \\\\ 4 & 5 & 6 & 7 \\\\ 8 & 9 & 10 & 11 \\end{bmatrix}$$\n",
    "\n",
    "This matrix has 3 rows and 4 columns, i.e. shape=(3,4), so we can call the `.view()` function and specify the shape we want to view sequence of data.\n",
    "**Note: `.view()` returns a tensor*. Do **not** overwrite `x`, just print out `x.view(3, 4)` and validate that we get the desired matrix."
   ]
  },
  {
   "cell_type": "code",
   "execution_count": 23,
   "metadata": {
    "id": "QSATVKvKOquT"
   },
   "outputs": [
    {
     "data": {
      "text/plain": [
       "tensor([[ 0,  1,  2,  3],\n",
       "        [ 4,  5,  6,  7],\n",
       "        [ 8,  9, 10, 11]])"
      ]
     },
     "execution_count": 23,
     "metadata": {},
     "output_type": "execute_result"
    }
   ],
   "source": [
    "x.view(3,4)"
   ]
  },
  {
   "cell_type": "markdown",
   "metadata": {
    "id": "qqZuUqtYOquT"
   },
   "source": [
    "Now change the shape of `x` so that: $\\begin{bmatrix} 0 & 1 & 2 & 3 & 4 & 5 & 6 & 7& 8 & 9 & 10 & 11 \\end{bmatrix} \\rightarrow \\begin{bmatrix} 0 & 1 & 2 \\\\ 3 & 4 & 5 \\\\ 6 & 7 & 8 \\\\ 9 & 10 & 11 \\end{bmatrix}$"
   ]
  },
  {
   "cell_type": "code",
   "execution_count": 24,
   "metadata": {
    "id": "XkVpIIXzOquT"
   },
   "outputs": [
    {
     "data": {
      "text/plain": [
       "tensor([[ 0,  1,  2],\n",
       "        [ 3,  4,  5],\n",
       "        [ 6,  7,  8],\n",
       "        [ 9, 10, 11]])"
      ]
     },
     "execution_count": 24,
     "metadata": {},
     "output_type": "execute_result"
    }
   ],
   "source": [
    "x.view(4,3)"
   ]
  },
  {
   "cell_type": "markdown",
   "metadata": {
    "id": "8-x4Pg6wOquT"
   },
   "source": [
    "Now change the shape so that we have 2 matrices that are 3 by 2: $$\\begin{bmatrix} 0 & 1 & 2 & 3 & 4 & 5 & 6 & 7 & 8 & 9 & 10 & 11 \\end{bmatrix} \\rightarrow \\begin{bmatrix} \\begin{bmatrix} 0 & 1 \\\\ 2 & 3 \\\\ 4 & 5 \\end{bmatrix} \\\\ \\begin{bmatrix} 6 & 7 \\\\ 8 & 9 \\\\ 10 & 11 \\end{bmatrix} \\end{bmatrix}$$\n"
   ]
  },
  {
   "cell_type": "code",
   "execution_count": 25,
   "metadata": {
    "id": "BGi3-BWgOquT"
   },
   "outputs": [
    {
     "data": {
      "text/plain": [
       "tensor([[[ 0,  1],\n",
       "         [ 2,  3],\n",
       "         [ 4,  5]],\n",
       "\n",
       "        [[ 6,  7],\n",
       "         [ 8,  9],\n",
       "         [10, 11]]])"
      ]
     },
     "execution_count": 25,
     "metadata": {},
     "output_type": "execute_result"
    }
   ],
   "source": [
    "x.view(2, 3, 2)"
   ]
  },
  {
   "cell_type": "markdown",
   "metadata": {
    "id": "q00IyV1pOquT"
   },
   "source": [
    "Notice that the memory in all three cases is contiguous, meaning we can count the numbers from left to right and top to bottom, but what if we wanted our tensor to look like:\n",
    "$$\\begin{bmatrix} 0 & 1 & 2 & 3 & 4 & 5 & 6 & 7 & 8 & 9 & 10 & 11 \\end{bmatrix} \\rightarrow \\begin{bmatrix} 0 & 4 & 8 \\\\ 1 & 5 & 9 \\\\ 2 & 6 & 10 \\\\ 3 & 7 & 11 \\end{bmatrix}$$\n",
    "We can make use of the `.transpose()` function by first making our data sequence into a 3x4 matrix and then calling `.transpose()`:\n",
    "$$\\begin{aligned}\n",
    "\\begin{bmatrix} 0 & 1 & 2 & 3 & 4 & 5 & 6 & 7 & 8 & 9 & 10 & 11 \\end{bmatrix} \\rightarrow \\begin{bmatrix} 0 & 1 & 2 & 3 \\\\ 4 & 5 & 6 & 7 \\\\ 8 & 9 & 10 & 11 \\end{bmatrix} \\\\\n",
    "\\begin{bmatrix} 0 & 1 & 2 & 3 \\\\ 4 & 5 & 6 & 7 \\\\ 8 & 9 & 10 & 11 \\end{bmatrix}^\\textrm{T} \\rightarrow \\begin{bmatrix} 0 & 4 & 8 \\\\ 1 & 5 & 9 \\\\ 2 & 6 & 10 \\\\ 3 & 7 & 11 \\end{bmatrix}\n",
    "\\end{aligned}$$\n",
    "The `.transpose()` function takes in two arguments, the two dimensions you want to transpose, this is easy in our case since there are only two dimensions (because we only have two dimension you could also use `.T`, which is an alias for `.transpose()` in two dimensions).\n",
    "\n",
    "Use `.view()` and `.transpose()` and validate your new tensor is correct."
   ]
  },
  {
   "cell_type": "code",
   "execution_count": 26,
   "metadata": {
    "id": "-geOJlK7OquU"
   },
   "outputs": [
    {
     "data": {
      "text/plain": [
       "tensor([[ 0,  4,  8],\n",
       "        [ 1,  5,  9],\n",
       "        [ 2,  6, 10],\n",
       "        [ 3,  7, 11]])"
      ]
     },
     "execution_count": 26,
     "metadata": {},
     "output_type": "execute_result"
    }
   ],
   "source": [
    "x.view(3,4).transpose(-1,0)"
   ]
  },
  {
   "cell_type": "markdown",
   "metadata": {
    "id": "PkvWYceIOquU"
   },
   "source": [
    "What if we wanted to flatten the above tensor so that:\n",
    "$$\\begin{bmatrix} 0 & 4 & 8 \\\\ 1 & 5 & 9 \\\\ 2 & 6 & 10 \\\\ 3 & 7 & 11 \\end{bmatrix} \\rightarrow \\begin{bmatrix} 0 & 4 & 8 & 1 & 5 & 9 & 2 & 6 & 10 & 3 & 7 & 11 \\end{bmatrix}$$\n",
    "\n",
    "Use the same `.view()` and `.transpose()` functions you used above, but this time tack on `.view(12)` to flatten the matrix. You should run into `RuntimeError: view size is not compatible with input tensor's size and stride ...`."
   ]
  },
  {
   "cell_type": "code",
   "execution_count": 27,
   "metadata": {
    "id": "ZJHNg9abOquU"
   },
   "outputs": [
    {
     "ename": "RuntimeError",
     "evalue": "view size is not compatible with input tensor's size and stride (at least one dimension spans across two contiguous subspaces). Use .reshape(...) instead.",
     "output_type": "error",
     "traceback": [
      "\u001b[0;31m---------------------------------------------------------------------------\u001b[0m",
      "\u001b[0;31mRuntimeError\u001b[0m                              Traceback (most recent call last)",
      "Cell \u001b[0;32mIn[27], line 1\u001b[0m\n\u001b[0;32m----> 1\u001b[0m x\u001b[38;5;241m.\u001b[39mview(\u001b[38;5;241m3\u001b[39m,\u001b[38;5;241m4\u001b[39m)\u001b[38;5;241m.\u001b[39mtranspose(\u001b[38;5;241m-\u001b[39m\u001b[38;5;241m1\u001b[39m,\u001b[38;5;241m0\u001b[39m)\u001b[38;5;241m.\u001b[39mview(\u001b[38;5;241m12\u001b[39m)\n",
      "\u001b[0;31mRuntimeError\u001b[0m: view size is not compatible with input tensor's size and stride (at least one dimension spans across two contiguous subspaces). Use .reshape(...) instead."
     ]
    }
   ],
   "source": [
    "x.view(3,4).transpose(-1,0).view(12)"
   ]
  },
  {
   "cell_type": "markdown",
   "metadata": {
    "id": "pqtd-Kq0OquU"
   },
   "source": [
    "This error was thrown because the transpose messed with the contiguity of our data and `.view()` ensures that our data remains contiguous.\n",
    "If however, we want to enforce our change, we can call `.reshape()`.\n",
    "Go ahead and rerun the same line of code above, but this time replace `.view(12)` with `.reshape(12)`."
   ]
  },
  {
   "cell_type": "code",
   "execution_count": 28,
   "metadata": {
    "id": "HKbhfWluOquU"
   },
   "outputs": [
    {
     "data": {
      "text/plain": [
       "tensor([ 0,  4,  8,  1,  5,  9,  2,  6, 10,  3,  7, 11])"
      ]
     },
     "execution_count": 28,
     "metadata": {},
     "output_type": "execute_result"
    }
   ],
   "source": [
    "x.view(3,4).transpose(-1,0).reshape(12)"
   ]
  },
  {
   "cell_type": "markdown",
   "metadata": {
    "id": "5D5KFr-NOquU"
   },
   "source": [
    "`.view()` is faster than `.reshape()`, so you use `.reshape()` only when needed."
   ]
  },
  {
   "cell_type": "markdown",
   "metadata": {
    "id": "YXEamNTXOquV"
   },
   "source": [
    "### Broadcasting and Array Operations"
   ]
  },
  {
   "cell_type": "code",
   "execution_count": 55,
   "metadata": {
    "id": "TxuBiA4HOquV"
   },
   "outputs": [],
   "source": [
    "s = torch.tensor(1)\n",
    "v1 = torch.tensor([1])\n",
    "v2 = torch.tensor([1, 2])\n",
    "v3 = torch.tensor([1, 2, 3])\n",
    "A = torch.tensor([[1, 2],\n",
    "                  [3, 4]])\n",
    "B = torch.tensor([[1, 2, 3],\n",
    "                  [4, 5, 6]])"
   ]
  },
  {
   "cell_type": "markdown",
   "metadata": {
    "id": "wNZjR5CoOquV"
   },
   "source": [
    "Print out the shape of `s`"
   ]
  },
  {
   "cell_type": "code",
   "execution_count": 30,
   "metadata": {
    "id": "Q06EhiAgOquV"
   },
   "outputs": [
    {
     "data": {
      "text/plain": [
       "torch.Size([])"
      ]
     },
     "execution_count": 30,
     "metadata": {},
     "output_type": "execute_result"
    }
   ],
   "source": [
    "s.shape"
   ]
  },
  {
   "cell_type": "markdown",
   "metadata": {
    "id": "XABSu6xtOquV"
   },
   "source": [
    "The shape of `s` is `torch.Size([])` because it has no dimensions and is therefore a scalar and so in some cases it will operate different from `v1` which is a vector of size 1."
   ]
  },
  {
   "cell_type": "markdown",
   "metadata": {
    "id": "lYysRt9yOquW"
   },
   "source": [
    "### Broadcasting\n",
    "\n",
    "Broadcasting is how array libraries, such as PyTorch and NumPy, perform arithmetic operations on two arrays with different shapes.\n",
    "\n",
    "There are two main rules to remember:\n",
    "1. If one array has fewer dimensions than another, then we **prepend** (e.g. `unsqueeze(0)`) dimensions to the smaller array until both arrays have the same number of dimensions.\n",
    "    ```python\n",
    "    x.shape == (5, 4, 2)\n",
    "    y.shape == (2, )\n",
    "    # After Step 1\n",
    "    x.shape == (5, 4, 2)\n",
    "    y.shape == (1, 1, 2)\n",
    "    ```\n",
    "2. After Step 1, both arrays must have the same value at each dimension or one of them must have a value of one. Whenever a dimension of 1 is matched to a dimension >1, it duplicates its data to match the size of the other.\n",
    "    ```python\n",
    "    # Example will Fail\n",
    "    x.shape == (1, 4, 2, 9)\n",
    "    y.shape == (1, 1, 5, 9)\n",
    "    Matches:   (T, T, F, T)\n",
    "\n",
    "    # Example will Pass\n",
    "    x.shape == (1, 4, 2, 9)\n",
    "    y.shape == (2, 4, 1, 9)\n",
    "    Matches:   (T, T, T, T)\n",
    "    ```\n",
    "\n",
    "You do not need to implement these rules, they are done automatically, but you need to know them when you are performing operations on two arrays."
   ]
  },
  {
   "cell_type": "markdown",
   "metadata": {
    "id": "4YbP1Ja9OquX"
   },
   "source": [
    "Example 1: Adding `A + s`\n",
    "\n",
    "Because `A.shape == (2, 2)` and `s.shape == ()` then Step 1 prepends 1 to `s` twice so that it has a shape of (1, 1). Then the value of `s` gets copied on the dimensions where it has a value of 1.\n",
    "\n",
    "<!-- $\\begin{aligned}\n",
    "A + s &= \\begin{bmatrix} 1 & 2 \\\\ 3 & 4 \\end{bmatrix} + 1 \\\\  \n",
    "\\textrm{After Step 1} \\\\\n",
    "    &= \\begin{bmatrix} 1 & 2 \\\\ 3 & 4 \\end{bmatrix} + \\begin{bmatrix} \\begin{bmatrix} 1 \\end{bmatrix} \\end{bmatrix} \\\\\n",
    "\\textrm{After Step 2} \\\\\n",
    "    &= \\begin{bmatrix} 1 & 2 \\\\ 3 & 4 \\end{bmatrix} + \\begin{bmatrix} 1 & 1 \\\\ 1 & 1 \\end{bmatrix} = \\begin{bmatrix} 2 & 3 \\\\ 4 & 5 \\end{bmatrix}\n",
    "\\end{aligned}$ -->\n",
    "\n",
    "$\\begin{aligned}\n",
    "A + s &= \\begin{array}{cc} [[1 & 2]\\; \\\\ \\;[3 & 4]] \\end{array} + 1 \\\\  \n",
    "\\textrm{After Step 1} \\\\\n",
    "    &= \\begin{array}{cc} [[1 & 2]\\; \\\\ \\;[3 & 4]] \\end{array} + \\begin{array}{c} [[1]] \\end{array} \\\\  \n",
    "\\textrm{After Step 2} \\\\\n",
    "    &= \\begin{array}{cc} [[1 & 2]\\; \\\\ \\;[3 & 4]] \\end{array} + \\begin{array}{c} [[1 & 1]\\; \\\\ \\;[1 & 1]] \\end{array} = \\begin{array}{cc} [[2 & 3]\\; \\\\ \\;[4 & 5]] \\end{array} \\\\  \n",
    "\\end{aligned}$\n",
    "\n",
    "Add `A + s` below and validate you get the correct answer."
   ]
  },
  {
   "cell_type": "code",
   "execution_count": 56,
   "metadata": {
    "id": "LL1of2EzOquX"
   },
   "outputs": [
    {
     "data": {
      "text/plain": [
       "tensor([[2, 3],\n",
       "        [4, 5]])"
      ]
     },
     "execution_count": 56,
     "metadata": {},
     "output_type": "execute_result"
    }
   ],
   "source": [
    "A + s"
   ]
  },
  {
   "cell_type": "markdown",
   "metadata": {
    "id": "OMzL9MG-OquX"
   },
   "source": [
    "*Note, you can get the same result if you add by a float/integer, i.e. `A + 1`. PyTorch works well with floats and integers.*"
   ]
  },
  {
   "cell_type": "markdown",
   "metadata": {
    "id": "3_ezGsdeOquX"
   },
   "source": [
    "Example 2: Adding `B + v3`.\n",
    "\n",
    "Because `B.shape == (2, 3)` and `v3.shape == (3,)` then Step 1 prepends 1 to `v3` once so that it has a shape of (1, 3). Then the value of `v3` gets copied on the dimensions where it has a value of 1.\n",
    "\n",
    "$\\begin{aligned}\n",
    "B + v_3 &= \\begin{array}{ccc} [[1 & 2 & 3]\\; \\\\ \\;[4 & 5 & 6]] \\end{array} + \\begin{array}{ccc} [1 & 2 & 3] \\end{array} \\\\  \n",
    "\\textrm{After Step 1} \\\\\n",
    "    &= \\begin{array}{ccc} [[1 & 2 & 3]\\; \\\\ \\;[4 & 5 & 6]] \\end{array} + \\begin{array}{ccc} [[1 & 2 & 3]] \\end{array} \\\\  \n",
    "\\textrm{After Step 2} \\\\\n",
    "    &= \\begin{array}{ccc} [[1 & 2 & 3]\\; \\\\ \\;[4 & 5 & 6]] \\end{array} + \\begin{array}{ccc} [[1 & 2 & 3]\\; \\\\ \\;[1 & 2 & 3]] \\end{array} = \\begin{array}{ccc} [[2 & 4 & 6]\\; \\\\ \\;[5 & 7 & 9]] \\end{array} \\\\  \n",
    "\\end{aligned}$\n",
    "\n",
    "Add `B + v3` below and validate you get the correct answer."
   ]
  },
  {
   "cell_type": "code",
   "execution_count": 57,
   "metadata": {
    "id": "rgcK8zzkOquY"
   },
   "outputs": [
    {
     "data": {
      "text/plain": [
       "tensor([[2, 4, 6],\n",
       "        [5, 7, 9]])"
      ]
     },
     "execution_count": 57,
     "metadata": {},
     "output_type": "execute_result"
    }
   ],
   "source": [
    "B + v3\n"
   ]
  },
  {
   "cell_type": "markdown",
   "metadata": {
    "id": "NCyeULhuOquY"
   },
   "source": [
    "Example 3: Adding `B + v2`\n",
    "\n",
    "We want to happen is for:\n",
    "\n",
    "$\\begin{aligned}\n",
    "B + v_2 &= \\begin{array}{ccc} [[1 & 2 & 3]\\; \\\\ \\;[4 & 5 & 6]] \\end{array} + \\begin{array}{cc} [1 & 2] \\end{array} \\\\  \n",
    "\\textrm{After Step 1} \\\\\n",
    "    &= \\begin{array}{ccc} [[1 & 2 & 3]\\; \\\\ \\;[4 & 5 & 6]] \\end{array} + \\begin{array}{c} [[1]\\; \\\\ \\;[2]] \\end{array} \\\\  \n",
    "\\textrm{After Step 2} \\\\\n",
    "    &= \\begin{array}{ccc} [[1 & 2 & 3]\\; \\\\ \\;[4 & 5 & 6]] \\end{array} + \\begin{array}{c} [[1 & 1 & 1]\\; \\\\ \\;[2 & 2 & 2]] \\end{array} = \\begin{array}{ccc} [[2 & 3 & 4]\\; \\\\ \\;[6 & 7 & 8]] \\end{array}\n",
    "\\end{aligned}$\n",
    "\n",
    "Try by first running `B + v2`. This shouldn't work. You should run into the following error `RuntimeError: The size of tensor a (3) must match the size of tensor b (2) at non-singleton dimension 1.`"
   ]
  },
  {
   "cell_type": "code",
   "execution_count": 33,
   "metadata": {
    "id": "XPDrm-lYOquY"
   },
   "outputs": [
    {
     "ename": "RuntimeError",
     "evalue": "The size of tensor a (3) must match the size of tensor b (2) at non-singleton dimension 1",
     "output_type": "error",
     "traceback": [
      "\u001b[0;31m---------------------------------------------------------------------------\u001b[0m",
      "\u001b[0;31mRuntimeError\u001b[0m                              Traceback (most recent call last)",
      "Cell \u001b[0;32mIn[33], line 1\u001b[0m\n\u001b[0;32m----> 1\u001b[0m B \u001b[38;5;241m+\u001b[39m v2\n",
      "\u001b[0;31mRuntimeError\u001b[0m: The size of tensor a (3) must match the size of tensor b (2) at non-singleton dimension 1"
     ]
    }
   ],
   "source": [
    "B + v2"
   ]
  },
  {
   "cell_type": "markdown",
   "metadata": {
    "id": "iabDzcLwOquY"
   },
   "source": [
    "Let's quickly parse this statement. `The size of tensor a`, i.e. `B`, `must match the size of tensor b`, i.e. `v2`, `at dimension 1`.\n",
    "`B.shape == (2, 3)` and `v2.shape == (2,)` and after Step 1 `v2.shape == (1, 2)`.\n",
    "Therefore, the value at `B`'s 1st dimension is `(3)` and the value at `v2`'s 1st dimension is `(2)`. Hence the error.\n",
    "\n",
    "We need to use an `.unsqueeze()` to fix the dimensions of `v2`. Fix the dimensions of `v2` below and validate you get the correct answer: $\\begin{array}{ccc} [[2 & 3 & 4]\\; \\\\ \\;[6 & 7 & 8]] \\end{array}$.\n"
   ]
  },
  {
   "cell_type": "code",
   "execution_count": 59,
   "metadata": {
    "id": "jn4VahMbOquY"
   },
   "outputs": [
    {
     "data": {
      "text/plain": [
       "tensor([[2, 3, 4],\n",
       "        [6, 7, 8]])"
      ]
     },
     "execution_count": 59,
     "metadata": {},
     "output_type": "execute_result"
    }
   ],
   "source": [
    "B + v2.unsqueeze(1)"
   ]
  },
  {
   "cell_type": "markdown",
   "metadata": {
    "id": "PQT7kSaWOquZ"
   },
   "source": [
    "### Multiplication Notation\n",
    "$A \\times x$ versus $Ax$\n",
    "\n",
    "When we use the notation $A \\times x$ we mean we are performing elementwise multiplication, and in Python it looks like `A * x`, but if we use notation $Ax$ we mean that we are performing matrix multiplication and in Python it looks like `A @ x`."
   ]
  },
  {
   "cell_type": "markdown",
   "metadata": {
    "id": "2_wRvZXaOquZ"
   },
   "source": [
    "### Broadcasting Quiz"
   ]
  },
  {
   "cell_type": "code",
   "execution_count": 60,
   "metadata": {
    "id": "6AiBkGtkOquZ"
   },
   "outputs": [],
   "source": [
    "a = torch.arange(2)\n",
    "b = torch.arange(4)"
   ]
  },
  {
   "cell_type": "markdown",
   "metadata": {
    "id": "y1gvO9idOquZ"
   },
   "source": [
    "Add `a` and `b` such that: $$\\begin{bmatrix} 0 \\\\ 1 \\end{bmatrix} + \\begin{bmatrix} 0 & 1 & 2 & 3 \\end{bmatrix} = \\begin{bmatrix}  0 & 1 & 2 & 3 \\\\ 1 & 2 & 3 & 4 \\end{bmatrix}$$"
   ]
  },
  {
   "cell_type": "code",
   "execution_count": 61,
   "metadata": {
    "id": "J-MZDqB3Oqua"
   },
   "outputs": [],
   "source": [
    "answer = a.unsqueeze(1) + b\n",
    "\n",
    "assert torch.equal(answer, torch.tensor([[0, 1 , 2, 3], [1, 2, 3, 4]]))"
   ]
  },
  {
   "cell_type": "markdown",
   "metadata": {
    "id": "s9h9VXLLOqua"
   },
   "source": [
    "Change `b` into a 2x2 matrix (use `.view()`) multiply with `a` along `b`'s column dimension. $$\\begin{bmatrix} 0 & 1 \\\\ 2 & 3 \\end{bmatrix} * \\begin{bmatrix} 0 & 1 \\end{bmatrix} = \\begin{bmatrix} 0 & 1 \\\\ 0 & 3 \\end{bmatrix}$$"
   ]
  },
  {
   "cell_type": "code",
   "execution_count": 62,
   "metadata": {
    "id": "S5UwpLA7Oqua"
   },
   "outputs": [],
   "source": [
    "answer  = b.view(2, 2) * a\n",
    "\n",
    "assert torch.equal(answer, torch.tensor([[0, 1], [0, 3]]))"
   ]
  },
  {
   "cell_type": "markdown",
   "metadata": {
    "id": "Um_34FbKOqua"
   },
   "source": [
    "Change `b` into a 2x2 matrix (use `.view()`) multiply with `a` along `b`'s row dimension. $$\\begin{bmatrix} 0 & 1 \\\\ 2 & 3 \\end{bmatrix} * \\begin{bmatrix} 0 \\\\ 1 \\end{bmatrix} = \\begin{bmatrix} 0 & 0 \\\\ 2 & 3 \\end{bmatrix}$$"
   ]
  },
  {
   "cell_type": "code",
   "execution_count": 63,
   "metadata": {
    "id": "jr99bcDnOqua"
   },
   "outputs": [],
   "source": [
    "answer = b.view(2, 2) * a.unsqueeze(1)\n",
    "\n",
    "assert torch.equal(answer, torch.tensor([[0, 0], [2, 3]]))"
   ]
  },
  {
   "cell_type": "markdown",
   "metadata": {
    "id": "9rQjWhvBOqua"
   },
   "source": [
    "Change `b` into a 2x2 matrix and matrix multiply `a` such that:  $$\\begin{bmatrix} 0 & 1 \\\\ 2 & 3 \\end{bmatrix} \\begin{bmatrix} 0 \\\\ 1 \\end{bmatrix} = \\begin{bmatrix} 1 \\\\ 3 \\end{bmatrix}$$"
   ]
  },
  {
   "cell_type": "code",
   "execution_count": 64,
   "metadata": {
    "id": "rfapMwiYOqua"
   },
   "outputs": [],
   "source": [
    "answer = b.view(2, 2) @ a.unsqueeze(1)\n",
    "\n",
    "assert torch.equal(answer, torch.tensor([[1], [3]]))"
   ]
  },
  {
   "cell_type": "code",
   "execution_count": 65,
   "metadata": {
    "id": "id5lWBlAOqua"
   },
   "outputs": [],
   "source": [
    "c = torch.zeros((1, 2))\n",
    "d = torch.zeros(3)"
   ]
  },
  {
   "cell_type": "markdown",
   "metadata": {
    "id": "pvzBZBBmOqua"
   },
   "source": [
    "Add `c` and `d` such that the resulting shape is (1, 3, 2)."
   ]
  },
  {
   "cell_type": "code",
   "execution_count": 66,
   "metadata": {
    "id": "YsaJmHhuOqua"
   },
   "outputs": [],
   "source": [
    "answer = c.unsqueeze(1) + d.unsqueeze(0).unsqueeze(2)\n",
    "\n",
    "assert answer.shape == torch.Size([1, 3, 2])"
   ]
  },
  {
   "cell_type": "markdown",
   "metadata": {
    "id": "nLYejjkzOqub"
   },
   "source": [
    "---\n",
    "\n",
    "# Automatic Differentiation"
   ]
  },
  {
   "cell_type": "markdown",
   "metadata": {
    "id": "2OflsKQLOqub"
   },
   "source": [
    "PyTorch is a machine learning library that provides us with the ability to automatically differentiate (autodiff) functions. In this section we will explore how we can make use of PyTorch's autodiff functions.\n",
    "\n",
    "To help us understand a little more about how PyTorch performs autodiff, we are going to import the `make_dot()` function below"
   ]
  },
  {
   "cell_type": "code",
   "execution_count": 67,
   "metadata": {
    "id": "mtZIZnxhOquc"
   },
   "outputs": [
    {
     "name": "stdout",
     "output_type": "stream",
     "text": [
      "Collecting torchviz\n",
      "  Downloading torchviz-0.0.3-py3-none-any.whl.metadata (2.1 kB)\n",
      "Requirement already satisfied: torch in /opt/anaconda3/lib/python3.12/site-packages (from torchviz) (2.8.0)\n",
      "Requirement already satisfied: graphviz in /opt/anaconda3/lib/python3.12/site-packages (from torchviz) (0.20.3)\n",
      "Requirement already satisfied: filelock in /opt/anaconda3/lib/python3.12/site-packages (from torch->torchviz) (3.16.1)\n",
      "Requirement already satisfied: typing-extensions>=4.10.0 in /opt/anaconda3/lib/python3.12/site-packages (from torch->torchviz) (4.11.0)\n",
      "Requirement already satisfied: setuptools in /opt/anaconda3/lib/python3.12/site-packages (from torch->torchviz) (69.5.1)\n",
      "Requirement already satisfied: sympy>=1.13.3 in /opt/anaconda3/lib/python3.12/site-packages (from torch->torchviz) (1.14.0)\n",
      "Requirement already satisfied: networkx in /opt/anaconda3/lib/python3.12/site-packages (from torch->torchviz) (3.2.1)\n",
      "Requirement already satisfied: jinja2 in /opt/anaconda3/lib/python3.12/site-packages (from torch->torchviz) (3.1.4)\n",
      "Requirement already satisfied: fsspec in /opt/anaconda3/lib/python3.12/site-packages (from torch->torchviz) (2024.3.1)\n",
      "Requirement already satisfied: mpmath<1.4,>=1.1.0 in /opt/anaconda3/lib/python3.12/site-packages (from sympy>=1.13.3->torch->torchviz) (1.3.0)\n",
      "Requirement already satisfied: MarkupSafe>=2.0 in /opt/anaconda3/lib/python3.12/site-packages (from jinja2->torch->torchviz) (2.1.3)\n",
      "Downloading torchviz-0.0.3-py3-none-any.whl (5.7 kB)\n",
      "Installing collected packages: torchviz\n",
      "Successfully installed torchviz-0.0.3\n",
      "\n",
      "\u001b[1m[\u001b[0m\u001b[34;49mnotice\u001b[0m\u001b[1;39;49m]\u001b[0m\u001b[39;49m A new release of pip is available: \u001b[0m\u001b[31;49m25.0.1\u001b[0m\u001b[39;49m -> \u001b[0m\u001b[32;49m25.2\u001b[0m\n",
      "\u001b[1m[\u001b[0m\u001b[34;49mnotice\u001b[0m\u001b[1;39;49m]\u001b[0m\u001b[39;49m To update, run: \u001b[0m\u001b[32;49mpip install --upgrade pip\u001b[0m\n"
     ]
    }
   ],
   "source": [
    "!pip install torchviz # `!` signifies a bash operation rather than Python\n",
    "from torchviz import make_dot"
   ]
  },
  {
   "cell_type": "markdown",
   "metadata": {
    "id": "hjbjg9omOquc"
   },
   "source": [
    "Let's make scalar tensor `x = torch.tensor(2)` to see how PyTorch works."
   ]
  },
  {
   "cell_type": "code",
   "execution_count": 68,
   "metadata": {
    "id": "CeWaetIbOquc"
   },
   "outputs": [],
   "source": [
    "x = torch.tensor(2)"
   ]
  },
  {
   "cell_type": "markdown",
   "metadata": {
    "id": "m9SHyEUtOquc"
   },
   "source": [
    "We have already talked about two important properties that a tensor has: `.shape` and `.dtype`.\n",
    "There are three more properties of a tensor we need to introduce: `.requires_grad`, `.grad`, and `.data`.\n",
    "Let's first look at whether `x` is using autograd by printing out `x.requires_grad` below."
   ]
  },
  {
   "cell_type": "code",
   "execution_count": 69,
   "metadata": {
    "id": "ANbn1k5QOqud"
   },
   "outputs": [
    {
     "data": {
      "text/plain": [
       "False"
      ]
     },
     "execution_count": 69,
     "metadata": {},
     "output_type": "execute_result"
    }
   ],
   "source": [
    "x.requires_grad"
   ]
  },
  {
   "cell_type": "markdown",
   "metadata": {
    "id": "bFMR8WZlOqud"
   },
   "source": [
    "By default tensors have `x.requires_grad` set to `False`, which means we will never calculate `x`'s gradients. Let's change that by setting `x.requires_grad` to `True`."
   ]
  },
  {
   "cell_type": "code",
   "execution_count": 70,
   "metadata": {
    "id": "bx2jeA_LOqud"
   },
   "outputs": [
    {
     "ename": "RuntimeError",
     "evalue": "only Tensors of floating point and complex dtype can require gradients",
     "output_type": "error",
     "traceback": [
      "\u001b[0;31m---------------------------------------------------------------------------\u001b[0m",
      "\u001b[0;31mRuntimeError\u001b[0m                              Traceback (most recent call last)",
      "Cell \u001b[0;32mIn[70], line 1\u001b[0m\n\u001b[0;32m----> 1\u001b[0m x\u001b[38;5;241m.\u001b[39mrequires_grad \u001b[38;5;241m=\u001b[39m \u001b[38;5;28;01mTrue\u001b[39;00m\n",
      "\u001b[0;31mRuntimeError\u001b[0m: only Tensors of floating point and complex dtype can require gradients"
     ]
    }
   ],
   "source": [
    "x.requires_grad = True"
   ]
  },
  {
   "cell_type": "markdown",
   "metadata": {
    "id": "L4_TNPhZOqud"
   },
   "source": [
    "You should run into `RuntimeError: only Tensors of floating point and complex dtype can require gradients.`\n",
    "We need to make `x` into a `torch.float32` tensor.\n",
    "Go ahead and call the `.float()` function (remember to update `x` with the output of `.float()`) and then set `x.requires_grad` to `True`."
   ]
  },
  {
   "cell_type": "code",
   "execution_count": 71,
   "metadata": {
    "id": "8XMMaB_iOqud"
   },
   "outputs": [],
   "source": [
    "# convert x to float and set requires_grad to True\n",
    "x = x.float()\n",
    "x.requires_grad = True\n",
    "assert x.requires_grad == True"
   ]
  },
  {
   "cell_type": "markdown",
   "metadata": {
    "id": "N_29hn0FOque"
   },
   "source": [
    "Now print out `x.grad`"
   ]
  },
  {
   "cell_type": "code",
   "execution_count": 72,
   "metadata": {
    "id": "wUxuvcPhOque"
   },
   "outputs": [],
   "source": [
    "x.grad"
   ]
  },
  {
   "cell_type": "markdown",
   "metadata": {
    "id": "ADJg2DyoOque"
   },
   "source": [
    "`x` has no gradients right now because we haven't computed any derivatives.\n",
    "Let's fix that, create a simple function $y = 3x$, i.e. `y = 3*x`, and print out the value of `y`."
   ]
  },
  {
   "cell_type": "code",
   "execution_count": 73,
   "metadata": {
    "id": "m3V5-IcpOque"
   },
   "outputs": [
    {
     "name": "stdout",
     "output_type": "stream",
     "text": [
      "tensor(6., grad_fn=<MulBackward0>)\n"
     ]
    }
   ],
   "source": [
    "y = 3*x\n",
    "print(y)"
   ]
  },
  {
   "cell_type": "markdown",
   "metadata": {
    "id": "V9Q6au3dOque"
   },
   "source": [
    "Because $x = 2$ the output of $y = 3(2) = 6$.\n",
    "More than that though, there is a `grad_fn=<MulBackward0>` attached to our tensor.\n",
    "This gradient function is part of a computation graph, which is the history of operations that were necessary to compute `y`.\n",
    "PyTorch utilizes this computation graph to know how to compute the gradients of all tensors involved in making `y`."
   ]
  },
  {
   "cell_type": "markdown",
   "metadata": {
    "id": "k15Zqf4BOque"
   },
   "source": [
    "To visualize this computation graph, let's use the `make_dot()` function."
   ]
  },
  {
   "cell_type": "code",
   "execution_count": 75,
   "metadata": {
    "id": "8WXaj5jsOquf"
   },
   "outputs": [
    {
     "data": {
      "image/svg+xml": [
       "<?xml version=\"1.0\" encoding=\"UTF-8\" standalone=\"no\"?>\n",
       "<!DOCTYPE svg PUBLIC \"-//W3C//DTD SVG 1.1//EN\"\n",
       " \"http://www.w3.org/Graphics/SVG/1.1/DTD/svg11.dtd\">\n",
       "<!-- Generated by graphviz version 13.1.2 (20250808.2320)\n",
       " -->\n",
       "<!-- Pages: 1 -->\n",
       "<svg width=\"108pt\" height=\"225pt\"\n",
       " viewBox=\"0.00 0.00 108.00 225.00\" xmlns=\"http://www.w3.org/2000/svg\" xmlns:xlink=\"http://www.w3.org/1999/xlink\">\n",
       "<g id=\"graph0\" class=\"graph\" transform=\"scale(1 1) rotate(0) translate(4 220.5)\">\n",
       "<polygon fill=\"white\" stroke=\"none\" points=\"-4,4 -4,-220.5 104,-220.5 104,4 -4,4\"/>\n",
       "<!-- 5029174624 -->\n",
       "<g id=\"node1\" class=\"node\">\n",
       "<title>5029174624</title>\n",
       "<polygon fill=\"#caff70\" stroke=\"black\" points=\"77,-33.5 23,-33.5 23,0 77,0 77,-33.5\"/>\n",
       "<text xml:space=\"preserve\" text-anchor=\"middle\" x=\"50\" y=\"-20\" font-family=\"monospace\" font-size=\"10.00\">y</text>\n",
       "<text xml:space=\"preserve\" text-anchor=\"middle\" x=\"50\" y=\"-7.25\" font-family=\"monospace\" font-size=\"10.00\"> ()</text>\n",
       "</g>\n",
       "<!-- 5080734144 -->\n",
       "<g id=\"node2\" class=\"node\">\n",
       "<title>5080734144</title>\n",
       "<polygon fill=\"lightgrey\" stroke=\"black\" points=\"94,-90.25 6,-90.25 6,-69.5 94,-69.5 94,-90.25\"/>\n",
       "<text xml:space=\"preserve\" text-anchor=\"middle\" x=\"50\" y=\"-76.75\" font-family=\"monospace\" font-size=\"10.00\">MulBackward0</text>\n",
       "</g>\n",
       "<!-- 5080734144&#45;&gt;5029174624 -->\n",
       "<g id=\"edge3\" class=\"edge\">\n",
       "<title>5080734144&#45;&gt;5029174624</title>\n",
       "<path fill=\"none\" stroke=\"black\" d=\"M50,-69.05C50,-62.63 50,-53.9 50,-45.45\"/>\n",
       "<polygon fill=\"black\" stroke=\"black\" points=\"53.5,-45.5 50,-35.5 46.5,-45.5 53.5,-45.5\"/>\n",
       "</g>\n",
       "<!-- 5080734096 -->\n",
       "<g id=\"node3\" class=\"node\">\n",
       "<title>5080734096</title>\n",
       "<polygon fill=\"lightgrey\" stroke=\"black\" points=\"100,-147 0,-147 0,-126.25 100,-126.25 100,-147\"/>\n",
       "<text xml:space=\"preserve\" text-anchor=\"middle\" x=\"50\" y=\"-133.5\" font-family=\"monospace\" font-size=\"10.00\">AccumulateGrad</text>\n",
       "</g>\n",
       "<!-- 5080734096&#45;&gt;5080734144 -->\n",
       "<g id=\"edge1\" class=\"edge\">\n",
       "<title>5080734096&#45;&gt;5080734144</title>\n",
       "<path fill=\"none\" stroke=\"black\" d=\"M50,-125.84C50,-119.22 50,-110.22 50,-102.02\"/>\n",
       "<polygon fill=\"black\" stroke=\"black\" points=\"53.5,-102.09 50,-92.09 46.5,-102.09 53.5,-102.09\"/>\n",
       "</g>\n",
       "<!-- 5031854720 -->\n",
       "<g id=\"node4\" class=\"node\">\n",
       "<title>5031854720</title>\n",
       "<polygon fill=\"lightblue\" stroke=\"black\" points=\"77,-216.5 23,-216.5 23,-183 77,-183 77,-216.5\"/>\n",
       "<text xml:space=\"preserve\" text-anchor=\"middle\" x=\"50\" y=\"-203\" font-family=\"monospace\" font-size=\"10.00\">x</text>\n",
       "<text xml:space=\"preserve\" text-anchor=\"middle\" x=\"50\" y=\"-190.25\" font-family=\"monospace\" font-size=\"10.00\"> ()</text>\n",
       "</g>\n",
       "<!-- 5031854720&#45;&gt;5080734096 -->\n",
       "<g id=\"edge2\" class=\"edge\">\n",
       "<title>5031854720&#45;&gt;5080734096</title>\n",
       "<path fill=\"none\" stroke=\"black\" d=\"M50,-182.69C50,-175.35 50,-166.57 50,-158.71\"/>\n",
       "<polygon fill=\"black\" stroke=\"black\" points=\"53.5,-158.98 50,-148.98 46.5,-158.98 53.5,-158.98\"/>\n",
       "</g>\n",
       "</g>\n",
       "</svg>\n"
      ],
      "text/plain": [
       "<graphviz.graphs.Digraph at 0x12c497290>"
      ]
     },
     "execution_count": 75,
     "metadata": {},
     "output_type": "execute_result"
    }
   ],
   "source": [
    "make_dot(y, params={\"x\": x, \"y\": y})"
   ]
  },
  {
   "cell_type": "markdown",
   "metadata": {
    "id": "FyHEL0puOquf"
   },
   "source": [
    "Our computation graph starts with `x` fed into `AccumulatedGrad` (which we will discuss later), that is fed into `MulBackward0` which was the `grad_fn` attached to tensor `y`.\n",
    "`x` and `y` both have `()` underneath them specifying the shape of the tensors."
   ]
  },
  {
   "cell_type": "markdown",
   "metadata": {
    "id": "62mxG-xqOquf"
   },
   "source": [
    "Let's calculate the derivative of our function by calling `y.backward()`"
   ]
  },
  {
   "cell_type": "code",
   "execution_count": 76,
   "metadata": {
    "id": "-nZKw9j-Oquf"
   },
   "outputs": [],
   "source": [
    "y.backward()"
   ]
  },
  {
   "cell_type": "markdown",
   "metadata": {
    "id": "dYusyP1OOqug"
   },
   "source": [
    "We know that the derivative of our function $\\frac{dy}{dx} = \\frac{d}{dx} 3x = 3$. Print out `x.grad` to validate that PyTorch is working correctly."
   ]
  },
  {
   "cell_type": "code",
   "execution_count": 77,
   "metadata": {
    "id": "6m5JUIvtOquh"
   },
   "outputs": [
    {
     "data": {
      "text/plain": [
       "tensor(3.)"
      ]
     },
     "execution_count": 77,
     "metadata": {},
     "output_type": "execute_result"
    }
   ],
   "source": [
    "x.grad"
   ]
  },
  {
   "cell_type": "markdown",
   "metadata": {
    "id": "t_vModmQOquh"
   },
   "source": [
    "What happens if we call `y.backward()` again? You should run into a `RuntimeError: Trying to backward through the graph a second time ...` because PyTorch frees up certain resources required to compute gradients once `.backward()` is called."
   ]
  },
  {
   "cell_type": "code",
   "execution_count": 78,
   "metadata": {
    "id": "d5GqqRi8Oqui"
   },
   "outputs": [
    {
     "ename": "RuntimeError",
     "evalue": "Trying to backward through the graph a second time (or directly access saved tensors after they have already been freed). Saved intermediate values of the graph are freed when you call .backward() or autograd.grad(). Specify retain_graph=True if you need to backward through the graph a second time or if you need to access saved tensors after calling backward.",
     "output_type": "error",
     "traceback": [
      "\u001b[0;31m---------------------------------------------------------------------------\u001b[0m",
      "\u001b[0;31mRuntimeError\u001b[0m                              Traceback (most recent call last)",
      "Cell \u001b[0;32mIn[78], line 2\u001b[0m\n\u001b[1;32m      1\u001b[0m \u001b[38;5;66;03m# call y.backward() again\u001b[39;00m\n\u001b[0;32m----> 2\u001b[0m y\u001b[38;5;241m.\u001b[39mbackward()\n",
      "File \u001b[0;32m/opt/anaconda3/lib/python3.12/site-packages/torch/_tensor.py:647\u001b[0m, in \u001b[0;36mTensor.backward\u001b[0;34m(self, gradient, retain_graph, create_graph, inputs)\u001b[0m\n\u001b[1;32m    637\u001b[0m \u001b[38;5;28;01mif\u001b[39;00m has_torch_function_unary(\u001b[38;5;28mself\u001b[39m):\n\u001b[1;32m    638\u001b[0m     \u001b[38;5;28;01mreturn\u001b[39;00m handle_torch_function(\n\u001b[1;32m    639\u001b[0m         Tensor\u001b[38;5;241m.\u001b[39mbackward,\n\u001b[1;32m    640\u001b[0m         (\u001b[38;5;28mself\u001b[39m,),\n\u001b[0;32m   (...)\u001b[0m\n\u001b[1;32m    645\u001b[0m         inputs\u001b[38;5;241m=\u001b[39minputs,\n\u001b[1;32m    646\u001b[0m     )\n\u001b[0;32m--> 647\u001b[0m torch\u001b[38;5;241m.\u001b[39mautograd\u001b[38;5;241m.\u001b[39mbackward(\n\u001b[1;32m    648\u001b[0m     \u001b[38;5;28mself\u001b[39m, gradient, retain_graph, create_graph, inputs\u001b[38;5;241m=\u001b[39minputs\n\u001b[1;32m    649\u001b[0m )\n",
      "File \u001b[0;32m/opt/anaconda3/lib/python3.12/site-packages/torch/autograd/__init__.py:354\u001b[0m, in \u001b[0;36mbackward\u001b[0;34m(tensors, grad_tensors, retain_graph, create_graph, grad_variables, inputs)\u001b[0m\n\u001b[1;32m    349\u001b[0m     retain_graph \u001b[38;5;241m=\u001b[39m create_graph\n\u001b[1;32m    351\u001b[0m \u001b[38;5;66;03m# The reason we repeat the same comment below is that\u001b[39;00m\n\u001b[1;32m    352\u001b[0m \u001b[38;5;66;03m# some Python versions print out the first line of a multi-line function\u001b[39;00m\n\u001b[1;32m    353\u001b[0m \u001b[38;5;66;03m# calls in the traceback and some print out the last line\u001b[39;00m\n\u001b[0;32m--> 354\u001b[0m _engine_run_backward(\n\u001b[1;32m    355\u001b[0m     tensors,\n\u001b[1;32m    356\u001b[0m     grad_tensors_,\n\u001b[1;32m    357\u001b[0m     retain_graph,\n\u001b[1;32m    358\u001b[0m     create_graph,\n\u001b[1;32m    359\u001b[0m     inputs_tuple,\n\u001b[1;32m    360\u001b[0m     allow_unreachable\u001b[38;5;241m=\u001b[39m\u001b[38;5;28;01mTrue\u001b[39;00m,\n\u001b[1;32m    361\u001b[0m     accumulate_grad\u001b[38;5;241m=\u001b[39m\u001b[38;5;28;01mTrue\u001b[39;00m,\n\u001b[1;32m    362\u001b[0m )\n",
      "File \u001b[0;32m/opt/anaconda3/lib/python3.12/site-packages/torch/autograd/graph.py:829\u001b[0m, in \u001b[0;36m_engine_run_backward\u001b[0;34m(t_outputs, *args, **kwargs)\u001b[0m\n\u001b[1;32m    827\u001b[0m     unregister_hooks \u001b[38;5;241m=\u001b[39m _register_logging_hooks_on_whole_graph(t_outputs)\n\u001b[1;32m    828\u001b[0m \u001b[38;5;28;01mtry\u001b[39;00m:\n\u001b[0;32m--> 829\u001b[0m     \u001b[38;5;28;01mreturn\u001b[39;00m Variable\u001b[38;5;241m.\u001b[39m_execution_engine\u001b[38;5;241m.\u001b[39mrun_backward(  \u001b[38;5;66;03m# Calls into the C++ engine to run the backward pass\u001b[39;00m\n\u001b[1;32m    830\u001b[0m         t_outputs, \u001b[38;5;241m*\u001b[39margs, \u001b[38;5;241m*\u001b[39m\u001b[38;5;241m*\u001b[39mkwargs\n\u001b[1;32m    831\u001b[0m     )  \u001b[38;5;66;03m# Calls into the C++ engine to run the backward pass\u001b[39;00m\n\u001b[1;32m    832\u001b[0m \u001b[38;5;28;01mfinally\u001b[39;00m:\n\u001b[1;32m    833\u001b[0m     \u001b[38;5;28;01mif\u001b[39;00m attach_logging_hooks:\n",
      "\u001b[0;31mRuntimeError\u001b[0m: Trying to backward through the graph a second time (or directly access saved tensors after they have already been freed). Saved intermediate values of the graph are freed when you call .backward() or autograd.grad(). Specify retain_graph=True if you need to backward through the graph a second time or if you need to access saved tensors after calling backward."
     ]
    }
   ],
   "source": [
    "# call y.backward() again\n",
    "y.backward()"
   ]
  },
  {
   "cell_type": "markdown",
   "metadata": {
    "id": "8aZIebkoOqui"
   },
   "source": [
    "You can call `y.backward()` multiple times if you always specify `y.backward(retain_graph=True)`, but you should never do that in this class.\n",
    "If you run into this error hereafter, you most likely made a mistake."
   ]
  },
  {
   "cell_type": "markdown",
   "metadata": {
    "id": "MfPtCAKDOquj"
   },
   "source": [
    "Let's compute the derivative of $y = 3x$ again.\n",
    "This time compute `y = 3*x` first and then call `y.backward()`"
   ]
  },
  {
   "cell_type": "code",
   "execution_count": 79,
   "metadata": {
    "id": "5VJoC2atOquj"
   },
   "outputs": [],
   "source": [
    "y = 3*x\n",
    "y.backward()"
   ]
  },
  {
   "cell_type": "markdown",
   "metadata": {
    "id": "GuIZWe0LOquj"
   },
   "source": [
    "Now print out `x.grad`"
   ]
  },
  {
   "cell_type": "code",
   "execution_count": 80,
   "metadata": {
    "id": "AaLApCvAOquj"
   },
   "outputs": [
    {
     "data": {
      "text/plain": [
       "tensor(6.)"
      ]
     },
     "execution_count": 80,
     "metadata": {},
     "output_type": "execute_result"
    }
   ],
   "source": [
    "x.grad"
   ]
  },
  {
   "cell_type": "markdown",
   "metadata": {
    "id": "f4mMJAs_Oquk"
   },
   "source": [
    "**6?** Wasn't the derivative of $3x$ equal to 3? This occurred because PyTorch accumulates the gradients every time you call `.backward()`. Because `x.grad` was previously 3 and this new gradient is 3, then `x.grad` is now equal to 6.\n",
    "This is what `AccumulatedGrad` meant on the computation graph.\n",
    "To avoid your gradients from accumulating set `x.grad = None` (we call this zeroing out the gradients)."
   ]
  },
  {
   "cell_type": "code",
   "execution_count": 81,
   "metadata": {
    "id": "cjq_hMW_Oquk"
   },
   "outputs": [],
   "source": [
    "x.grad = None"
   ]
  },
  {
   "cell_type": "markdown",
   "metadata": {
    "id": "x4v-1jmUOquk"
   },
   "source": [
    "Now set `y = 3*x`, call `y.backward()`, and print out `x.grad` and validate that it equals 3."
   ]
  },
  {
   "cell_type": "code",
   "execution_count": null,
   "metadata": {
    "id": "jArU10_COquk"
   },
   "outputs": [
    {
     "data": {
      "text/plain": [
       "tensor(3.)"
      ]
     },
     "execution_count": 82,
     "metadata": {},
     "output_type": "execute_result"
    }
   ],
   "source": [
    "y = 3*x\n",
    "y.backward()\n",
    "x.grad"
   ]
  },
  {
   "cell_type": "markdown",
   "metadata": {
    "id": "Z2ZsLY0VOqul"
   },
   "source": [
    "What about $x^2$? Set $y = x^2$, i.e. `y = x**2` and print out `y`."
   ]
  },
  {
   "cell_type": "code",
   "execution_count": 83,
   "metadata": {
    "id": "mFnct0ITOqul"
   },
   "outputs": [
    {
     "name": "stdout",
     "output_type": "stream",
     "text": [
      "tensor(4., grad_fn=<PowBackward0>)\n"
     ]
    }
   ],
   "source": [
    "y = x**2\n",
    "print(y)"
   ]
  },
  {
   "cell_type": "markdown",
   "metadata": {
    "id": "VQgyQnz0Oqul"
   },
   "source": [
    "Because `x = 2` the output of $y = (2)^2 = 4$ and as before we have a `grad_fn=<PowBackward0>` attached to our tensor.\n",
    "\n",
    "Now let's visualize the computation graph."
   ]
  },
  {
   "cell_type": "code",
   "execution_count": 84,
   "metadata": {
    "id": "vfjybVclOqul"
   },
   "outputs": [
    {
     "data": {
      "image/svg+xml": [
       "<?xml version=\"1.0\" encoding=\"UTF-8\" standalone=\"no\"?>\n",
       "<!DOCTYPE svg PUBLIC \"-//W3C//DTD SVG 1.1//EN\"\n",
       " \"http://www.w3.org/Graphics/SVG/1.1/DTD/svg11.dtd\">\n",
       "<!-- Generated by graphviz version 13.1.2 (20250808.2320)\n",
       " -->\n",
       "<!-- Pages: 1 -->\n",
       "<svg width=\"168pt\" height=\"263pt\"\n",
       " viewBox=\"0.00 0.00 168.00 263.00\" xmlns=\"http://www.w3.org/2000/svg\" xmlns:xlink=\"http://www.w3.org/1999/xlink\">\n",
       "<g id=\"graph0\" class=\"graph\" transform=\"scale(1 1) rotate(0) translate(4 258.75)\">\n",
       "<polygon fill=\"white\" stroke=\"none\" points=\"-4,4 -4,-258.75 164,-258.75 164,4 -4,4\"/>\n",
       "<!-- 5031866720 -->\n",
       "<g id=\"node1\" class=\"node\">\n",
       "<title>5031866720</title>\n",
       "<polygon fill=\"#caff70\" stroke=\"black\" points=\"107,-33.5 53,-33.5 53,0 107,0 107,-33.5\"/>\n",
       "<text xml:space=\"preserve\" text-anchor=\"middle\" x=\"80\" y=\"-20\" font-family=\"monospace\" font-size=\"10.00\">y</text>\n",
       "<text xml:space=\"preserve\" text-anchor=\"middle\" x=\"80\" y=\"-7.25\" font-family=\"monospace\" font-size=\"10.00\"> ()</text>\n",
       "</g>\n",
       "<!-- 5080731120 -->\n",
       "<g id=\"node2\" class=\"node\">\n",
       "<title>5080731120</title>\n",
       "<polygon fill=\"lightgrey\" stroke=\"black\" points=\"160,-128.5 0,-128.5 0,-69.5 160,-69.5 160,-128.5\"/>\n",
       "<text xml:space=\"preserve\" text-anchor=\"middle\" x=\"80\" y=\"-115\" font-family=\"monospace\" font-size=\"10.00\">PowBackward0</text>\n",
       "<text xml:space=\"preserve\" text-anchor=\"middle\" x=\"80\" y=\"-102.25\" font-family=\"monospace\" font-size=\"10.00\">&#45;&#45;&#45;&#45;&#45;&#45;&#45;&#45;&#45;&#45;&#45;&#45;&#45;&#45;&#45;&#45;&#45;&#45;&#45;&#45;&#45;&#45;&#45;&#45;</text>\n",
       "<text xml:space=\"preserve\" text-anchor=\"middle\" x=\"80\" y=\"-89.5\" font-family=\"monospace\" font-size=\"10.00\">exponent: &#160;&#160;&#160;&#160;&#160;&#160;&#160;&#160;&#160;&#160;&#160;&#160;&#160;2</text>\n",
       "<text xml:space=\"preserve\" text-anchor=\"middle\" x=\"80\" y=\"-76.75\" font-family=\"monospace\" font-size=\"10.00\">self &#160;&#160;&#160;: [saved tensor]</text>\n",
       "</g>\n",
       "<!-- 5080731120&#45;&gt;5031866720 -->\n",
       "<g id=\"edge3\" class=\"edge\">\n",
       "<title>5080731120&#45;&gt;5031866720</title>\n",
       "<path fill=\"none\" stroke=\"black\" d=\"M80,-69.03C80,-61.25 80,-52.86 80,-45.17\"/>\n",
       "<polygon fill=\"black\" stroke=\"black\" points=\"83.5,-45.36 80,-35.36 76.5,-45.36 83.5,-45.36\"/>\n",
       "</g>\n",
       "<!-- 5745627376 -->\n",
       "<g id=\"node3\" class=\"node\">\n",
       "<title>5745627376</title>\n",
       "<polygon fill=\"lightgrey\" stroke=\"black\" points=\"130,-185.25 30,-185.25 30,-164.5 130,-164.5 130,-185.25\"/>\n",
       "<text xml:space=\"preserve\" text-anchor=\"middle\" x=\"80\" y=\"-171.75\" font-family=\"monospace\" font-size=\"10.00\">AccumulateGrad</text>\n",
       "</g>\n",
       "<!-- 5745627376&#45;&gt;5080731120 -->\n",
       "<g id=\"edge1\" class=\"edge\">\n",
       "<title>5745627376&#45;&gt;5080731120</title>\n",
       "<path fill=\"none\" stroke=\"black\" d=\"M80,-164.22C80,-157.89 80,-149.16 80,-140.16\"/>\n",
       "<polygon fill=\"black\" stroke=\"black\" points=\"83.5,-140.31 80,-130.31 76.5,-140.31 83.5,-140.31\"/>\n",
       "</g>\n",
       "<!-- 5031854720 -->\n",
       "<g id=\"node4\" class=\"node\">\n",
       "<title>5031854720</title>\n",
       "<polygon fill=\"lightblue\" stroke=\"black\" points=\"107,-254.75 53,-254.75 53,-221.25 107,-221.25 107,-254.75\"/>\n",
       "<text xml:space=\"preserve\" text-anchor=\"middle\" x=\"80\" y=\"-241.25\" font-family=\"monospace\" font-size=\"10.00\">x</text>\n",
       "<text xml:space=\"preserve\" text-anchor=\"middle\" x=\"80\" y=\"-228.5\" font-family=\"monospace\" font-size=\"10.00\"> ()</text>\n",
       "</g>\n",
       "<!-- 5031854720&#45;&gt;5745627376 -->\n",
       "<g id=\"edge2\" class=\"edge\">\n",
       "<title>5031854720&#45;&gt;5745627376</title>\n",
       "<path fill=\"none\" stroke=\"black\" d=\"M80,-220.94C80,-213.6 80,-204.82 80,-196.96\"/>\n",
       "<polygon fill=\"black\" stroke=\"black\" points=\"83.5,-197.23 80,-187.23 76.5,-197.23 83.5,-197.23\"/>\n",
       "</g>\n",
       "</g>\n",
       "</svg>\n"
      ],
      "text/plain": [
       "<graphviz.graphs.Digraph at 0x156777290>"
      ]
     },
     "execution_count": 84,
     "metadata": {},
     "output_type": "execute_result"
    }
   ],
   "source": [
    "make_dot(y, params={\"y\": y, \"x\": x}, show_attrs=True)"
   ]
  },
  {
   "cell_type": "markdown",
   "metadata": {
    "id": "VFyy3fWiOqum"
   },
   "source": [
    "We specified `show_attrs=True` this time and we see in `PowBackward0` the exponent that was used stored in the computation graph.\n",
    "\n",
    "Let's calculate the derivative of of our function by calling `y.backward()` and don't forget to zero out your gradient first, i.e. `x.grad = None`."
   ]
  },
  {
   "cell_type": "code",
   "execution_count": 85,
   "metadata": {
    "id": "pCbQA0v7Oqum"
   },
   "outputs": [],
   "source": [
    "x.grad = None\n",
    "y.backward()"
   ]
  },
  {
   "cell_type": "markdown",
   "metadata": {
    "id": "HdllcOLFOqum"
   },
   "source": [
    "We know that the derivative of our function $\\frac{dy}{dx} = \\frac{d}{dx} x^2 = 2x = 2(2) = 4$, print out `x.grad` to validate."
   ]
  },
  {
   "cell_type": "code",
   "execution_count": 86,
   "metadata": {
    "id": "ssbw-m_yOqum"
   },
   "outputs": [
    {
     "data": {
      "text/plain": [
       "tensor(4.)"
      ]
     },
     "execution_count": 86,
     "metadata": {},
     "output_type": "execute_result"
    }
   ],
   "source": [
    "x.grad"
   ]
  },
  {
   "cell_type": "markdown",
   "metadata": {
    "id": "fMpRkApcOqum"
   },
   "source": [
    "Now let's calculate a multivariable derivative $a^2 (x+1)^2$.\n",
    "\n",
    "Create a scalar tensor `a` with a value of 2 and a scalar tensor `x` with a value of 3.\n",
    "Make sure both have `.requires_grad` set to `True`."
   ]
  },
  {
   "cell_type": "code",
   "execution_count": 91,
   "metadata": {
    "id": "BQeX6yDxOqum"
   },
   "outputs": [],
   "source": [
    "a = torch.tensor(2).float().requires_grad_()\n",
    "x = torch.tensor(3).float().requires_grad_()\n"
   ]
  },
  {
   "cell_type": "markdown",
   "metadata": {
    "id": "LHt24ZOUOqun"
   },
   "source": [
    "Now set $y = a^2(x+1)^2$ and print out `y`. Validate that $y = a^2(x+1)^2 = (2)^2 * ((3) + 1)^2 = 4 * 4^2 = 64$."
   ]
  },
  {
   "cell_type": "code",
   "execution_count": 92,
   "metadata": {
    "id": "TpiYuTO6Oqun"
   },
   "outputs": [
    {
     "name": "stdout",
     "output_type": "stream",
     "text": [
      "tensor(64., grad_fn=<MulBackward0>)\n"
     ]
    }
   ],
   "source": [
    "y = a**2 * (x+1)**2\n",
    "print(y)"
   ]
  },
  {
   "cell_type": "markdown",
   "metadata": {
    "id": "fTXm2v0AOqun"
   },
   "source": [
    "Now let's look at the computation graph."
   ]
  },
  {
   "cell_type": "code",
   "execution_count": 93,
   "metadata": {
    "id": "7s_5hXbDOqun"
   },
   "outputs": [
    {
     "data": {
      "image/svg+xml": [
       "<?xml version=\"1.0\" encoding=\"UTF-8\" standalone=\"no\"?>\n",
       "<!DOCTYPE svg PUBLIC \"-//W3C//DTD SVG 1.1//EN\"\n",
       " \"http://www.w3.org/Graphics/SVG/1.1/DTD/svg11.dtd\">\n",
       "<!-- Generated by graphviz version 13.1.2 (20250808.2320)\n",
       " -->\n",
       "<!-- Pages: 1 -->\n",
       "<svg width=\"220pt\" height=\"351pt\"\n",
       " viewBox=\"0.00 0.00 220.00 351.00\" xmlns=\"http://www.w3.org/2000/svg\" xmlns:xlink=\"http://www.w3.org/1999/xlink\">\n",
       "<g id=\"graph0\" class=\"graph\" transform=\"scale(1 1) rotate(0) translate(4 346.75)\">\n",
       "<polygon fill=\"white\" stroke=\"none\" points=\"-4,4 -4,-346.75 216,-346.75 216,4 -4,4\"/>\n",
       "<!-- 5027063168 -->\n",
       "<g id=\"node1\" class=\"node\">\n",
       "<title>5027063168</title>\n",
       "<polygon fill=\"#caff70\" stroke=\"black\" points=\"133,-33.5 79,-33.5 79,0 133,0 133,-33.5\"/>\n",
       "<text xml:space=\"preserve\" text-anchor=\"middle\" x=\"106\" y=\"-20\" font-family=\"monospace\" font-size=\"10.00\">y</text>\n",
       "<text xml:space=\"preserve\" text-anchor=\"middle\" x=\"106\" y=\"-7.25\" font-family=\"monospace\" font-size=\"10.00\"> ()</text>\n",
       "</g>\n",
       "<!-- 5745897680 -->\n",
       "<g id=\"node2\" class=\"node\">\n",
       "<title>5745897680</title>\n",
       "<polygon fill=\"lightgrey\" stroke=\"black\" points=\"150,-90.25 62,-90.25 62,-69.5 150,-69.5 150,-90.25\"/>\n",
       "<text xml:space=\"preserve\" text-anchor=\"middle\" x=\"106\" y=\"-76.75\" font-family=\"monospace\" font-size=\"10.00\">MulBackward0</text>\n",
       "</g>\n",
       "<!-- 5745897680&#45;&gt;5027063168 -->\n",
       "<g id=\"edge8\" class=\"edge\">\n",
       "<title>5745897680&#45;&gt;5027063168</title>\n",
       "<path fill=\"none\" stroke=\"black\" d=\"M106,-69.05C106,-62.63 106,-53.9 106,-45.45\"/>\n",
       "<polygon fill=\"black\" stroke=\"black\" points=\"109.5,-45.5 106,-35.5 102.5,-45.5 109.5,-45.5\"/>\n",
       "</g>\n",
       "<!-- 5745892736 -->\n",
       "<g id=\"node3\" class=\"node\">\n",
       "<title>5745892736</title>\n",
       "<polygon fill=\"lightgrey\" stroke=\"black\" points=\"97,-147 9,-147 9,-126.25 97,-126.25 97,-147\"/>\n",
       "<text xml:space=\"preserve\" text-anchor=\"middle\" x=\"53\" y=\"-133.5\" font-family=\"monospace\" font-size=\"10.00\">PowBackward0</text>\n",
       "</g>\n",
       "<!-- 5745892736&#45;&gt;5745897680 -->\n",
       "<g id=\"edge1\" class=\"edge\">\n",
       "<title>5745892736&#45;&gt;5745897680</title>\n",
       "<path fill=\"none\" stroke=\"black\" d=\"M62.48,-125.84C69.79,-118.28 80.09,-107.64 88.84,-98.6\"/>\n",
       "<polygon fill=\"black\" stroke=\"black\" points=\"91.11,-101.29 95.55,-91.67 86.08,-96.42 91.11,-101.29\"/>\n",
       "</g>\n",
       "<!-- 5745893408 -->\n",
       "<g id=\"node4\" class=\"node\">\n",
       "<title>5745893408</title>\n",
       "<polygon fill=\"lightgrey\" stroke=\"black\" points=\"100,-203.75 0,-203.75 0,-183 100,-183 100,-203.75\"/>\n",
       "<text xml:space=\"preserve\" text-anchor=\"middle\" x=\"50\" y=\"-190.25\" font-family=\"monospace\" font-size=\"10.00\">AccumulateGrad</text>\n",
       "</g>\n",
       "<!-- 5745893408&#45;&gt;5745892736 -->\n",
       "<g id=\"edge2\" class=\"edge\">\n",
       "<title>5745893408&#45;&gt;5745892736</title>\n",
       "<path fill=\"none\" stroke=\"black\" d=\"M50.54,-182.59C50.9,-175.97 51.39,-166.97 51.84,-158.77\"/>\n",
       "<polygon fill=\"black\" stroke=\"black\" points=\"55.33,-159.02 52.39,-148.84 48.34,-158.63 55.33,-159.02\"/>\n",
       "</g>\n",
       "<!-- 5745985328 -->\n",
       "<g id=\"node5\" class=\"node\">\n",
       "<title>5745985328</title>\n",
       "<polygon fill=\"lightblue\" stroke=\"black\" points=\"77,-273.25 23,-273.25 23,-239.75 77,-239.75 77,-273.25\"/>\n",
       "<text xml:space=\"preserve\" text-anchor=\"middle\" x=\"50\" y=\"-259.75\" font-family=\"monospace\" font-size=\"10.00\">a</text>\n",
       "<text xml:space=\"preserve\" text-anchor=\"middle\" x=\"50\" y=\"-247\" font-family=\"monospace\" font-size=\"10.00\"> ()</text>\n",
       "</g>\n",
       "<!-- 5745985328&#45;&gt;5745893408 -->\n",
       "<g id=\"edge3\" class=\"edge\">\n",
       "<title>5745985328&#45;&gt;5745893408</title>\n",
       "<path fill=\"none\" stroke=\"black\" d=\"M50,-239.44C50,-232.1 50,-223.32 50,-215.46\"/>\n",
       "<polygon fill=\"black\" stroke=\"black\" points=\"53.5,-215.73 50,-205.73 46.5,-215.73 53.5,-215.73\"/>\n",
       "</g>\n",
       "<!-- 5745892880 -->\n",
       "<g id=\"node6\" class=\"node\">\n",
       "<title>5745892880</title>\n",
       "<polygon fill=\"lightgrey\" stroke=\"black\" points=\"204,-147 116,-147 116,-126.25 204,-126.25 204,-147\"/>\n",
       "<text xml:space=\"preserve\" text-anchor=\"middle\" x=\"160\" y=\"-133.5\" font-family=\"monospace\" font-size=\"10.00\">PowBackward0</text>\n",
       "</g>\n",
       "<!-- 5745892880&#45;&gt;5745897680 -->\n",
       "<g id=\"edge4\" class=\"edge\">\n",
       "<title>5745892880&#45;&gt;5745897680</title>\n",
       "<path fill=\"none\" stroke=\"black\" d=\"M150.35,-125.84C142.9,-118.28 132.39,-107.64 123.48,-98.6\"/>\n",
       "<polygon fill=\"black\" stroke=\"black\" points=\"126.15,-96.32 116.63,-91.66 121.16,-101.23 126.15,-96.32\"/>\n",
       "</g>\n",
       "<!-- 5745893216 -->\n",
       "<g id=\"node7\" class=\"node\">\n",
       "<title>5745893216</title>\n",
       "<polygon fill=\"lightgrey\" stroke=\"black\" points=\"206,-203.75 118,-203.75 118,-183 206,-183 206,-203.75\"/>\n",
       "<text xml:space=\"preserve\" text-anchor=\"middle\" x=\"162\" y=\"-190.25\" font-family=\"monospace\" font-size=\"10.00\">AddBackward0</text>\n",
       "</g>\n",
       "<!-- 5745893216&#45;&gt;5745892880 -->\n",
       "<g id=\"edge5\" class=\"edge\">\n",
       "<title>5745893216&#45;&gt;5745892880</title>\n",
       "<path fill=\"none\" stroke=\"black\" d=\"M161.64,-182.59C161.4,-175.97 161.07,-166.97 160.77,-158.77\"/>\n",
       "<polygon fill=\"black\" stroke=\"black\" points=\"164.27,-158.71 160.41,-148.84 157.28,-158.96 164.27,-158.71\"/>\n",
       "</g>\n",
       "<!-- 5029038496 -->\n",
       "<g id=\"node8\" class=\"node\">\n",
       "<title>5029038496</title>\n",
       "<polygon fill=\"lightgrey\" stroke=\"black\" points=\"212,-266.88 112,-266.88 112,-246.12 212,-246.12 212,-266.88\"/>\n",
       "<text xml:space=\"preserve\" text-anchor=\"middle\" x=\"162\" y=\"-253.38\" font-family=\"monospace\" font-size=\"10.00\">AccumulateGrad</text>\n",
       "</g>\n",
       "<!-- 5029038496&#45;&gt;5745893216 -->\n",
       "<g id=\"edge6\" class=\"edge\">\n",
       "<title>5029038496&#45;&gt;5745893216</title>\n",
       "<path fill=\"none\" stroke=\"black\" d=\"M162,-245.68C162,-237.52 162,-225.63 162,-215.35\"/>\n",
       "<polygon fill=\"black\" stroke=\"black\" points=\"165.5,-215.48 162,-205.48 158.5,-215.48 165.5,-215.48\"/>\n",
       "</g>\n",
       "<!-- 5745990528 -->\n",
       "<g id=\"node9\" class=\"node\">\n",
       "<title>5745990528</title>\n",
       "<polygon fill=\"lightblue\" stroke=\"black\" points=\"189,-342.75 135,-342.75 135,-309.25 189,-309.25 189,-342.75\"/>\n",
       "<text xml:space=\"preserve\" text-anchor=\"middle\" x=\"162\" y=\"-329.25\" font-family=\"monospace\" font-size=\"10.00\">x</text>\n",
       "<text xml:space=\"preserve\" text-anchor=\"middle\" x=\"162\" y=\"-316.5\" font-family=\"monospace\" font-size=\"10.00\"> ()</text>\n",
       "</g>\n",
       "<!-- 5745990528&#45;&gt;5029038496 -->\n",
       "<g id=\"edge7\" class=\"edge\">\n",
       "<title>5745990528&#45;&gt;5029038496</title>\n",
       "<path fill=\"none\" stroke=\"black\" d=\"M162,-309C162,-299.9 162,-288.39 162,-278.57\"/>\n",
       "<polygon fill=\"black\" stroke=\"black\" points=\"165.5,-278.84 162,-268.84 158.5,-278.84 165.5,-278.84\"/>\n",
       "</g>\n",
       "</g>\n",
       "</svg>\n"
      ],
      "text/plain": [
       "<graphviz.graphs.Digraph at 0x12be9f290>"
      ]
     },
     "execution_count": 93,
     "metadata": {},
     "output_type": "execute_result"
    }
   ],
   "source": [
    "make_dot(y, params={\"a\": a, \"x\": x, \"y\": y})"
   ]
  },
  {
   "cell_type": "markdown",
   "metadata": {
    "id": "yz7GFzLsOquo"
   },
   "source": [
    "Now call `y.backward()` and validate that\n",
    "\n",
    "$\\frac{dy}{dx} = \\frac{d}{dx} a^2(x+1)^2 = 2a^2(x+1) = 2(2)^2(3 + 1) = 32$\n",
    "\n",
    "$\\frac{dy}{da} = \\frac{d}{da} a^2(x+1)^2 = 2a(x+1)^2 = 2(2)(3 + 1)^2 = 64$\n",
    "\n",
    "by printing `x.grad` and `a.grad`"
   ]
  },
  {
   "cell_type": "code",
   "execution_count": 94,
   "metadata": {
    "id": "5gvfw3FDOquo"
   },
   "outputs": [],
   "source": [
    "x.grad\n",
    "a.grad\n"
   ]
  },
  {
   "cell_type": "markdown",
   "metadata": {
    "id": "GY0Y3O7MOqup"
   },
   "source": [
    "Hopefully, it is clear that there all all kinds of functions you could put in that can be differentiated by PyTorch.\n",
    "Let's now work with vector and matrix differentiation.\n",
    "\n",
    "Define two new tensors:\n",
    "- `A` with data `[[0, 1, 2], [3, 4, 5]]` with `requires_grad = True`\n",
    "- `x` with data `[-1, 0, 1]` with `requires_grad = True`"
   ]
  },
  {
   "cell_type": "code",
   "execution_count": 95,
   "metadata": {
    "id": "U6DfRbIbOqup"
   },
   "outputs": [],
   "source": [
    "A = torch.tensor([[0, 1, 2], [3, 4, 5]]).float().requires_grad_()\n",
    "x = torch.tensor([-1, 0, 1]).float().requires_grad_()\n"
   ]
  },
  {
   "cell_type": "markdown",
   "metadata": {
    "id": "lafdsEDrOqup"
   },
   "source": [
    "Now set $y = (Ax)^2$ and print out `y`. Validate that the output $y = (Ax)^2 = \\left( \\begin{bmatrix} 0 & 1 & 2 \\\\ 3 & 4 & 5 \\end{bmatrix} \\begin{bmatrix} -1 \\\\ 0 \\\\ 1 \\end{bmatrix} \\right)^2 = \\left( \\begin{bmatrix} 2 \\\\ 2 \\end{bmatrix} \\right)^2 = \\begin{bmatrix} 2^2 \\\\ 2^2 \\end{bmatrix} = \\begin{bmatrix} 4 \\\\ 4 \\end{bmatrix}$"
   ]
  },
  {
   "cell_type": "code",
   "execution_count": 96,
   "metadata": {
    "id": "-fnnMcYnOquq"
   },
   "outputs": [
    {
     "name": "stdout",
     "output_type": "stream",
     "text": [
      "tensor([4., 4.], grad_fn=<PowBackward0>)\n"
     ]
    }
   ],
   "source": [
    "y = (A @ x)**2\n",
    "print(y)"
   ]
  },
  {
   "cell_type": "markdown",
   "metadata": {
    "id": "By-pWDfcOquq"
   },
   "source": [
    "Now the \"derivative\" we are computing here is called the Jacobian, because $y$ is a vector-valued function. The Jacobian contains the derivative of every output, $y_i$, with respect to every input, $x_j$. Therefore, the Jacobian of $y$ with respect to $x$ is:\n",
    "\n",
    "$\\begin{aligned}\n",
    "J_y = \\begin{bmatrix} \\frac{\\partial y_1}{\\partial x_1} & \\frac{\\partial y_1}{\\partial x_2} & \\frac{\\partial y_1}{\\partial x_3} \\\\ \\frac{\\partial y_2}{\\partial x_1} & \\frac{\\partial y_2}{\\partial x_2} & \\frac{\\partial y_2}{\\partial x_3} \\end{bmatrix} = \\frac{\\partial y}{\\partial x} &= \\frac{\\partial}{\\partial x} \\left( \\begin{bmatrix} A_{11} & A_{12} & A_{13} \\\\ A_{21} & A_{22} & A_{23} \\end{bmatrix} \\begin{bmatrix} x_1 \\\\ x_2 \\\\ x_3 \\end{bmatrix} \\right)^2 \\\\\n",
    "    &= \\frac{\\partial}{\\partial x} \\left( \\begin{bmatrix} A_{11}x_1 + A_{12}x_2 + A_{13}x_3 \\\\ A_{21}x_1 + A_{22}x_2 + A_{23}x_3 \\end{bmatrix} \\right)^2 \\\\\n",
    "    &= \\frac{\\partial}{\\partial x} \\begin{bmatrix} (A_{11}x_1 + A_{12}x_2 + A_{13}x_3)^2 \\\\ (A_{21}x_1 + A_{22}x_2 + A_{23}x_3)^2 \\end{bmatrix} \\\\\n",
    "    &= \\begin{bmatrix} \\frac{\\partial}{\\partial x} (A_{11}x_1 + A_{12}x_2 + A_{13}x_3)^2 \\\\ \\frac{\\partial}{\\partial x} (A_{21}x_1 + A_{22}x_2 + A_{23}x_3)^2 \\end{bmatrix} \\\\\n",
    "    &= \\begin{bmatrix} \\frac{\\partial}{\\partial x_1} (A_{11}x_1 + A_{12}x_2 + A_{13}x_3)^2 & \\frac{\\partial}{\\partial x_2} (A_{11}x_1 + A_{12}x_2 + A_{13}x_3)^2 & \\frac{\\partial}{\\partial x_3} (A_{11}x_1 + A_{12}x_2 + A_{13}x_3)^2  \\\\ \\frac{\\partial}{\\partial x_1} (A_{21}x_1 + A_{22}x_2 + A_{23}x_3)^2 & \\frac{\\partial}{\\partial x_2} (A_{21}x_1 + A_{22}x_2 + A_{23}x_3)^2 & \\frac{\\partial}{\\partial x_3} (A_{21}x_1 + A_{22}x_2 + A_{23}x_3)^2 \\end{bmatrix} \\\\\n",
    "    &= \\begin{bmatrix} 2A_{11}(A_{11}x_1 + A_{12}x_2 + A_{13}x_3) & 2A_{12}(A_{11}x_1 + A_{12}x_2 + A_{13}x_3) & 2A_{13}(A_{11}x_1 + A_{12}x_2 + A_{13}x_3)  \\\\ 2A_{21}(A_{21}x_1 + A_{22}x_2 + A_{23}x_3) & 2A_{22}(A_{21}x_1 + A_{22}x_2 + A_{23}x_3) & 2A_{23}(A_{21}x_1 + A_{22}x_2 + A_{23}x_3) \\end{bmatrix} \\\\\n",
    "    &= \\begin{bmatrix} 0 & 4 & 8  \\\\ 12 & 16 & 20 \\end{bmatrix}\n",
    "\\end{aligned}$\n",
    "\n",
    "Now call `y.backward()`. You should run into `RuntimeError: grad can be implicitly created only for scalar outputs`."
   ]
  },
  {
   "cell_type": "code",
   "execution_count": 97,
   "metadata": {
    "id": "7KtI2BIYOquq"
   },
   "outputs": [
    {
     "ename": "RuntimeError",
     "evalue": "grad can be implicitly created only for scalar outputs",
     "output_type": "error",
     "traceback": [
      "\u001b[0;31m---------------------------------------------------------------------------\u001b[0m",
      "\u001b[0;31mRuntimeError\u001b[0m                              Traceback (most recent call last)",
      "Cell \u001b[0;32mIn[97], line 1\u001b[0m\n\u001b[0;32m----> 1\u001b[0m y\u001b[38;5;241m.\u001b[39mbackward()\n",
      "File \u001b[0;32m/opt/anaconda3/lib/python3.12/site-packages/torch/_tensor.py:647\u001b[0m, in \u001b[0;36mTensor.backward\u001b[0;34m(self, gradient, retain_graph, create_graph, inputs)\u001b[0m\n\u001b[1;32m    637\u001b[0m \u001b[38;5;28;01mif\u001b[39;00m has_torch_function_unary(\u001b[38;5;28mself\u001b[39m):\n\u001b[1;32m    638\u001b[0m     \u001b[38;5;28;01mreturn\u001b[39;00m handle_torch_function(\n\u001b[1;32m    639\u001b[0m         Tensor\u001b[38;5;241m.\u001b[39mbackward,\n\u001b[1;32m    640\u001b[0m         (\u001b[38;5;28mself\u001b[39m,),\n\u001b[0;32m   (...)\u001b[0m\n\u001b[1;32m    645\u001b[0m         inputs\u001b[38;5;241m=\u001b[39minputs,\n\u001b[1;32m    646\u001b[0m     )\n\u001b[0;32m--> 647\u001b[0m torch\u001b[38;5;241m.\u001b[39mautograd\u001b[38;5;241m.\u001b[39mbackward(\n\u001b[1;32m    648\u001b[0m     \u001b[38;5;28mself\u001b[39m, gradient, retain_graph, create_graph, inputs\u001b[38;5;241m=\u001b[39minputs\n\u001b[1;32m    649\u001b[0m )\n",
      "File \u001b[0;32m/opt/anaconda3/lib/python3.12/site-packages/torch/autograd/__init__.py:347\u001b[0m, in \u001b[0;36mbackward\u001b[0;34m(tensors, grad_tensors, retain_graph, create_graph, grad_variables, inputs)\u001b[0m\n\u001b[1;32m    344\u001b[0m     tensors \u001b[38;5;241m=\u001b[39m \u001b[38;5;28mtuple\u001b[39m(tensors)\n\u001b[1;32m    346\u001b[0m grad_tensors_ \u001b[38;5;241m=\u001b[39m _tensor_or_tensors_to_tuple(grad_tensors, \u001b[38;5;28mlen\u001b[39m(tensors))\n\u001b[0;32m--> 347\u001b[0m grad_tensors_ \u001b[38;5;241m=\u001b[39m _make_grads(tensors, grad_tensors_, is_grads_batched\u001b[38;5;241m=\u001b[39m\u001b[38;5;28;01mFalse\u001b[39;00m)\n\u001b[1;32m    348\u001b[0m \u001b[38;5;28;01mif\u001b[39;00m retain_graph \u001b[38;5;129;01mis\u001b[39;00m \u001b[38;5;28;01mNone\u001b[39;00m:\n\u001b[1;32m    349\u001b[0m     retain_graph \u001b[38;5;241m=\u001b[39m create_graph\n",
      "File \u001b[0;32m/opt/anaconda3/lib/python3.12/site-packages/torch/autograd/__init__.py:199\u001b[0m, in \u001b[0;36m_make_grads\u001b[0;34m(outputs, grads, is_grads_batched)\u001b[0m\n\u001b[1;32m    197\u001b[0m     out_numel_is_1 \u001b[38;5;241m=\u001b[39m out\u001b[38;5;241m.\u001b[39mnumel() \u001b[38;5;241m==\u001b[39m \u001b[38;5;241m1\u001b[39m\n\u001b[1;32m    198\u001b[0m \u001b[38;5;28;01mif\u001b[39;00m \u001b[38;5;129;01mnot\u001b[39;00m out_numel_is_1:\n\u001b[0;32m--> 199\u001b[0m     \u001b[38;5;28;01mraise\u001b[39;00m \u001b[38;5;167;01mRuntimeError\u001b[39;00m(\n\u001b[1;32m    200\u001b[0m         \u001b[38;5;124m\"\u001b[39m\u001b[38;5;124mgrad can be implicitly created only for scalar outputs\u001b[39m\u001b[38;5;124m\"\u001b[39m\n\u001b[1;32m    201\u001b[0m     )\n\u001b[1;32m    202\u001b[0m \u001b[38;5;28;01mif\u001b[39;00m \u001b[38;5;129;01mnot\u001b[39;00m out_dtype\u001b[38;5;241m.\u001b[39mis_floating_point:\n\u001b[1;32m    203\u001b[0m     msg \u001b[38;5;241m=\u001b[39m (\n\u001b[1;32m    204\u001b[0m         \u001b[38;5;124m\"\u001b[39m\u001b[38;5;124mgrad can be implicitly created only for real scalar outputs\u001b[39m\u001b[38;5;124m\"\u001b[39m\n\u001b[1;32m    205\u001b[0m         \u001b[38;5;124mf\u001b[39m\u001b[38;5;124m\"\u001b[39m\u001b[38;5;124m but got \u001b[39m\u001b[38;5;132;01m{\u001b[39;00mout_dtype\u001b[38;5;132;01m}\u001b[39;00m\u001b[38;5;124m\"\u001b[39m\n\u001b[1;32m    206\u001b[0m     )\n",
      "\u001b[0;31mRuntimeError\u001b[0m: grad can be implicitly created only for scalar outputs"
     ]
    }
   ],
   "source": [
    "y.backward()"
   ]
  },
  {
   "cell_type": "markdown",
   "metadata": {
    "id": "V4Lg1XYvOqur"
   },
   "source": [
    "We can only call `.backward()` on scalar tensors in pytorch; there are some detailed explanations on why online, but simple reason behind this is because backpropagating on a scalar reduces the dimensionality of our gradients making backpropagation cheaper and quicker.\n",
    "Which makes sense because `x` is a vector and the Jacobian we calculated is a matrix.\n",
    "\n",
    "We can easily circumvent this issue by summing up our `y` tensor. Set `y_sum = torch.sum(y)` and call `.backward()` on `y_sum`."
   ]
  },
  {
   "cell_type": "code",
   "execution_count": 98,
   "metadata": {
    "id": "HLsGYnkgOqur"
   },
   "outputs": [],
   "source": [
    "y_sum = torch.sum(y)\n",
    "y_sum.backward()"
   ]
  },
  {
   "cell_type": "markdown",
   "metadata": {
    "id": "Bjb6bGI4Oqur"
   },
   "source": [
    "Now let's look at the gradients from our new function.\n",
    "\n",
    "$\\begin{aligned}\n",
    "\\frac{\\partial y}{\\partial x} &= \\frac{\\partial}{\\partial x} \\sum \\left( \\begin{bmatrix} A_{11} & A_{12} & A_{13} \\\\ A_{21} & A_{22} & A_{23} \\end{bmatrix} \\begin{bmatrix} x_1 \\\\ x_2 \\\\ x_3 \\end{bmatrix} \\right)^2 \\\\\n",
    "    &= \\sum \\frac{\\partial}{\\partial x} \\left( \\begin{bmatrix} A_{11} & A_{12} & A_{13} \\\\ A_{21} & A_{22} & A_{23} \\end{bmatrix} \\begin{bmatrix} x_1 \\\\ x_2 \\\\ x_3 \\end{bmatrix} \\right)^2 \\\\\n",
    "    &= \\sum \\frac{\\partial}{\\partial x} \\left( \\begin{bmatrix} A_{11}x_1 + A_{12}x_2 + A_{13}x_3 \\\\ A_{21}x_1 + A_{22}x_2 + A_{23}x_3 \\end{bmatrix} \\right)^2 \\\\\n",
    "    & \\quad \\quad \\vdots \\\\\n",
    "    &= \\sum \\begin{bmatrix} 2A_{11}(A_{11}x_1 + A_{12}x_2 + A_{13}x_3) & 2A_{12}(A_{11}x_1 + A_{12}x_2 + A_{13}x_3) & 2A_{13}(A_{11}x_1 + A_{12}x_2 + A_{13}x_3)  \\\\ 2A_{21}(A_{21}x_1 + A_{22}x_2 + A_{23}x_3) & 2A_{22}(A_{21}x_1 + A_{22}x_2 + A_{23}x_3) & 2A_{23}(A_{21}x_1 + A_{22}x_2 + A_{23}x_3) \\end{bmatrix} \\\\\n",
    "    &= \\sum \\begin{bmatrix} 0 & 4 & 8  \\\\ 12 & 16 & 20 \\end{bmatrix} \\\\\n",
    "    &= \\begin{bmatrix} 12 & 20 & 28  \\end{bmatrix} \\\\\n",
    "\\end{aligned}$\n",
    "\n",
    "**Note that by summing the output of `y` we ended up summing our Jacobian**.\n",
    "\n",
    "I will quickly show $\\frac{\\partial y}{\\partial A}$ in abbreviated form:\n",
    "\n",
    "$\\begin{aligned}\n",
    "\\frac{\\partial y}{\\partial A} &= \\frac{\\partial}{\\partial x} \\sum \\left( Ax \\right)^2 \\\\\n",
    "    &= \\frac{\\partial}{\\partial A}  (A_1x)^2 + (A_2x)^2 \\\\\n",
    "    &= \\begin{bmatrix} \\frac{\\partial}{\\partial A_1} (A_1x)^2 + (A_2x)^2 \\\\ \\frac{\\partial}{\\partial A_2} (A_1x)^2 + (A_2x)^2  \\end{bmatrix} \\\\\n",
    "    &= \\begin{bmatrix} 2(A_1x)x^T \\\\ 2(A_2x)x^T  \\end{bmatrix} \\\\\n",
    "    &= \\begin{bmatrix} 4x^T \\\\ 4x^T  \\end{bmatrix} \\\\\n",
    "    &= \\begin{bmatrix} -4 & 0 & 4 \\\\ -4 & 0 & 4  \\end{bmatrix} \\\\\n",
    "\\end{aligned}$\n",
    "\n",
    "Print out `x.grad` and `A.grad` and validate you got the correct answer."
   ]
  },
  {
   "cell_type": "code",
   "execution_count": 99,
   "metadata": {
    "id": "eFn__s7xOqur"
   },
   "outputs": [
    {
     "data": {
      "text/plain": [
       "tensor([[-4.,  0.,  4.],\n",
       "        [-4.,  0.,  4.]])"
      ]
     },
     "execution_count": 99,
     "metadata": {},
     "output_type": "execute_result"
    }
   ],
   "source": [
    "x.grad\n",
    "A.grad\n"
   ]
  },
  {
   "cell_type": "markdown",
   "metadata": {
    "id": "NR2bfXm-Oqus"
   },
   "source": [
    "And just for fun, let's look at the computation graph."
   ]
  },
  {
   "cell_type": "code",
   "execution_count": 100,
   "metadata": {
    "id": "mCl0KiLpOqus"
   },
   "outputs": [
    {
     "data": {
      "image/svg+xml": [
       "<?xml version=\"1.0\" encoding=\"UTF-8\" standalone=\"no\"?>\n",
       "<!DOCTYPE svg PUBLIC \"-//W3C//DTD SVG 1.1//EN\"\n",
       " \"http://www.w3.org/Graphics/SVG/1.1/DTD/svg11.dtd\">\n",
       "<!-- Generated by graphviz version 13.1.2 (20250808.2320)\n",
       " -->\n",
       "<!-- Pages: 1 -->\n",
       "<svg width=\"226pt\" height=\"338pt\"\n",
       " viewBox=\"0.00 0.00 226.00 338.00\" xmlns=\"http://www.w3.org/2000/svg\" xmlns:xlink=\"http://www.w3.org/1999/xlink\">\n",
       "<g id=\"graph0\" class=\"graph\" transform=\"scale(1 1) rotate(0) translate(4 334)\">\n",
       "<polygon fill=\"white\" stroke=\"none\" points=\"-4,4 -4,-334 222,-334 222,4 -4,4\"/>\n",
       "<!-- 5746386144 -->\n",
       "<g id=\"node1\" class=\"node\">\n",
       "<title>5746386144</title>\n",
       "<polygon fill=\"#caff70\" stroke=\"black\" points=\"136,-33.5 82,-33.5 82,0 136,0 136,-33.5\"/>\n",
       "<text xml:space=\"preserve\" text-anchor=\"middle\" x=\"109\" y=\"-20\" font-family=\"monospace\" font-size=\"10.00\">y_sum</text>\n",
       "<text xml:space=\"preserve\" text-anchor=\"middle\" x=\"109\" y=\"-7.25\" font-family=\"monospace\" font-size=\"10.00\"> ()</text>\n",
       "</g>\n",
       "<!-- 5745879616 -->\n",
       "<g id=\"node2\" class=\"node\">\n",
       "<title>5745879616</title>\n",
       "<polygon fill=\"lightgrey\" stroke=\"black\" points=\"153,-90.25 65,-90.25 65,-69.5 153,-69.5 153,-90.25\"/>\n",
       "<text xml:space=\"preserve\" text-anchor=\"middle\" x=\"109\" y=\"-76.75\" font-family=\"monospace\" font-size=\"10.00\">SumBackward0</text>\n",
       "</g>\n",
       "<!-- 5745879616&#45;&gt;5746386144 -->\n",
       "<g id=\"edge7\" class=\"edge\">\n",
       "<title>5745879616&#45;&gt;5746386144</title>\n",
       "<path fill=\"none\" stroke=\"black\" d=\"M109,-69.05C109,-62.63 109,-53.9 109,-45.45\"/>\n",
       "<polygon fill=\"black\" stroke=\"black\" points=\"112.5,-45.5 109,-35.5 105.5,-45.5 112.5,-45.5\"/>\n",
       "</g>\n",
       "<!-- 5745872752 -->\n",
       "<g id=\"node3\" class=\"node\">\n",
       "<title>5745872752</title>\n",
       "<polygon fill=\"lightgrey\" stroke=\"black\" points=\"153,-147 65,-147 65,-126.25 153,-126.25 153,-147\"/>\n",
       "<text xml:space=\"preserve\" text-anchor=\"middle\" x=\"109\" y=\"-133.5\" font-family=\"monospace\" font-size=\"10.00\">PowBackward0</text>\n",
       "</g>\n",
       "<!-- 5745872752&#45;&gt;5745879616 -->\n",
       "<g id=\"edge1\" class=\"edge\">\n",
       "<title>5745872752&#45;&gt;5745879616</title>\n",
       "<path fill=\"none\" stroke=\"black\" d=\"M109,-125.84C109,-119.22 109,-110.22 109,-102.02\"/>\n",
       "<polygon fill=\"black\" stroke=\"black\" points=\"112.5,-102.09 109,-92.09 105.5,-102.09 112.5,-102.09\"/>\n",
       "</g>\n",
       "<!-- 5745874432 -->\n",
       "<g id=\"node4\" class=\"node\">\n",
       "<title>5745874432</title>\n",
       "<polygon fill=\"lightgrey\" stroke=\"black\" points=\"150,-203.75 68,-203.75 68,-183 150,-183 150,-203.75\"/>\n",
       "<text xml:space=\"preserve\" text-anchor=\"middle\" x=\"109\" y=\"-190.25\" font-family=\"monospace\" font-size=\"10.00\">MvBackward0</text>\n",
       "</g>\n",
       "<!-- 5745874432&#45;&gt;5745872752 -->\n",
       "<g id=\"edge2\" class=\"edge\">\n",
       "<title>5745874432&#45;&gt;5745872752</title>\n",
       "<path fill=\"none\" stroke=\"black\" d=\"M109,-182.59C109,-175.97 109,-166.97 109,-158.77\"/>\n",
       "<polygon fill=\"black\" stroke=\"black\" points=\"112.5,-158.84 109,-148.84 105.5,-158.84 112.5,-158.84\"/>\n",
       "</g>\n",
       "<!-- 5745872656 -->\n",
       "<g id=\"node5\" class=\"node\">\n",
       "<title>5745872656</title>\n",
       "<polygon fill=\"lightgrey\" stroke=\"black\" points=\"100,-260.5 0,-260.5 0,-239.75 100,-239.75 100,-260.5\"/>\n",
       "<text xml:space=\"preserve\" text-anchor=\"middle\" x=\"50\" y=\"-247\" font-family=\"monospace\" font-size=\"10.00\">AccumulateGrad</text>\n",
       "</g>\n",
       "<!-- 5745872656&#45;&gt;5745874432 -->\n",
       "<g id=\"edge3\" class=\"edge\">\n",
       "<title>5745872656&#45;&gt;5745874432</title>\n",
       "<path fill=\"none\" stroke=\"black\" d=\"M60.55,-239.34C68.77,-231.71 80.4,-220.92 90.2,-211.82\"/>\n",
       "<polygon fill=\"black\" stroke=\"black\" points=\"92.48,-214.48 97.43,-205.11 87.72,-209.34 92.48,-214.48\"/>\n",
       "</g>\n",
       "<!-- 5746294400 -->\n",
       "<g id=\"node6\" class=\"node\">\n",
       "<title>5746294400</title>\n",
       "<polygon fill=\"lightblue\" stroke=\"black\" points=\"79,-330 21,-330 21,-296.5 79,-296.5 79,-330\"/>\n",
       "<text xml:space=\"preserve\" text-anchor=\"middle\" x=\"50\" y=\"-316.5\" font-family=\"monospace\" font-size=\"10.00\">A</text>\n",
       "<text xml:space=\"preserve\" text-anchor=\"middle\" x=\"50\" y=\"-303.75\" font-family=\"monospace\" font-size=\"10.00\"> (2, 3)</text>\n",
       "</g>\n",
       "<!-- 5746294400&#45;&gt;5745872656 -->\n",
       "<g id=\"edge4\" class=\"edge\">\n",
       "<title>5746294400&#45;&gt;5745872656</title>\n",
       "<path fill=\"none\" stroke=\"black\" d=\"M50,-296.19C50,-288.85 50,-280.07 50,-272.21\"/>\n",
       "<polygon fill=\"black\" stroke=\"black\" points=\"53.5,-272.48 50,-262.48 46.5,-272.48 53.5,-272.48\"/>\n",
       "</g>\n",
       "<!-- 5745873376 -->\n",
       "<g id=\"node7\" class=\"node\">\n",
       "<title>5745873376</title>\n",
       "<polygon fill=\"lightgrey\" stroke=\"black\" points=\"218,-260.5 118,-260.5 118,-239.75 218,-239.75 218,-260.5\"/>\n",
       "<text xml:space=\"preserve\" text-anchor=\"middle\" x=\"168\" y=\"-247\" font-family=\"monospace\" font-size=\"10.00\">AccumulateGrad</text>\n",
       "</g>\n",
       "<!-- 5745873376&#45;&gt;5745874432 -->\n",
       "<g id=\"edge5\" class=\"edge\">\n",
       "<title>5745873376&#45;&gt;5745874432</title>\n",
       "<path fill=\"none\" stroke=\"black\" d=\"M157.45,-239.34C149.23,-231.71 137.6,-220.92 127.8,-211.82\"/>\n",
       "<polygon fill=\"black\" stroke=\"black\" points=\"130.28,-209.34 120.57,-205.11 125.52,-214.48 130.28,-209.34\"/>\n",
       "</g>\n",
       "<!-- 5746287600 -->\n",
       "<g id=\"node8\" class=\"node\">\n",
       "<title>5746287600</title>\n",
       "<polygon fill=\"lightblue\" stroke=\"black\" points=\"195,-330 141,-330 141,-296.5 195,-296.5 195,-330\"/>\n",
       "<text xml:space=\"preserve\" text-anchor=\"middle\" x=\"168\" y=\"-316.5\" font-family=\"monospace\" font-size=\"10.00\">x</text>\n",
       "<text xml:space=\"preserve\" text-anchor=\"middle\" x=\"168\" y=\"-303.75\" font-family=\"monospace\" font-size=\"10.00\"> (3)</text>\n",
       "</g>\n",
       "<!-- 5746287600&#45;&gt;5745873376 -->\n",
       "<g id=\"edge6\" class=\"edge\">\n",
       "<title>5746287600&#45;&gt;5745873376</title>\n",
       "<path fill=\"none\" stroke=\"black\" d=\"M168,-296.19C168,-288.85 168,-280.07 168,-272.21\"/>\n",
       "<polygon fill=\"black\" stroke=\"black\" points=\"171.5,-272.48 168,-262.48 164.5,-272.48 171.5,-272.48\"/>\n",
       "</g>\n",
       "</g>\n",
       "</svg>\n"
      ],
      "text/plain": [
       "<graphviz.graphs.Digraph at 0x1567b0710>"
      ]
     },
     "execution_count": 100,
     "metadata": {},
     "output_type": "execute_result"
    }
   ],
   "source": [
    "make_dot(y_sum, params={\"A\": A, \"x\": x, \"y_sum\": y_sum})"
   ]
  },
  {
   "cell_type": "markdown",
   "metadata": {
    "id": "KHtkfp91Oqus"
   },
   "source": [
    "## Final Notes about Autodiff"
   ]
  },
  {
   "cell_type": "markdown",
   "metadata": {
    "id": "juaxEdn8Oqus"
   },
   "source": [
    "There are two other functions that are useful when using autodifferentiation: `.clone()` and `.detach()`.\n",
    "\n",
    "- `.clone()` gives us the ability to copy a tensor and remain on the computation graph.\n",
    "- `.detach()` gives us the ability to copy a tensor, but to become detached from computation graph, i.e. the copy will have `requires_grad = False`.\n",
    "\n",
    "To illustrate this we will initialize two tensors: $x=1$ and $y=2$"
   ]
  },
  {
   "cell_type": "code",
   "execution_count": 101,
   "metadata": {
    "id": "ofw7LLdsOqut"
   },
   "outputs": [],
   "source": [
    "x = torch.tensor(1).float()\n",
    "y = torch.tensor(2).float()\n",
    "\n",
    "x.requires_grad = True\n",
    "y.requires_grad = True"
   ]
  },
  {
   "cell_type": "markdown",
   "metadata": {
    "id": "m1A6Hx_fOqut"
   },
   "source": [
    "And vizualize the computation graph of:\n",
    "```python\n",
    "z = x + y\n",
    "l = 2*z + 3*z\n",
    "```"
   ]
  },
  {
   "cell_type": "code",
   "execution_count": 102,
   "metadata": {
    "id": "Hhv1_fzUOqut"
   },
   "outputs": [
    {
     "data": {
      "image/svg+xml": [
       "<?xml version=\"1.0\" encoding=\"UTF-8\" standalone=\"no\"?>\n",
       "<!DOCTYPE svg PUBLIC \"-//W3C//DTD SVG 1.1//EN\"\n",
       " \"http://www.w3.org/Graphics/SVG/1.1/DTD/svg11.dtd\">\n",
       "<!-- Generated by graphviz version 13.1.2 (20250808.2320)\n",
       " -->\n",
       "<!-- Pages: 1 -->\n",
       "<svg width=\"226pt\" height=\"338pt\"\n",
       " viewBox=\"0.00 0.00 226.00 338.00\" xmlns=\"http://www.w3.org/2000/svg\" xmlns:xlink=\"http://www.w3.org/1999/xlink\">\n",
       "<g id=\"graph0\" class=\"graph\" transform=\"scale(1 1) rotate(0) translate(4 334)\">\n",
       "<polygon fill=\"white\" stroke=\"none\" points=\"-4,4 -4,-334 222,-334 222,4 -4,4\"/>\n",
       "<!-- 5746681216 -->\n",
       "<g id=\"node1\" class=\"node\">\n",
       "<title>5746681216</title>\n",
       "<polygon fill=\"#caff70\" stroke=\"black\" points=\"136,-33.5 82,-33.5 82,0 136,0 136,-33.5\"/>\n",
       "<text xml:space=\"preserve\" text-anchor=\"middle\" x=\"109\" y=\"-20\" font-family=\"monospace\" font-size=\"10.00\">l</text>\n",
       "<text xml:space=\"preserve\" text-anchor=\"middle\" x=\"109\" y=\"-7.25\" font-family=\"monospace\" font-size=\"10.00\"> ()</text>\n",
       "</g>\n",
       "<!-- 5745876640 -->\n",
       "<g id=\"node2\" class=\"node\">\n",
       "<title>5745876640</title>\n",
       "<polygon fill=\"lightgrey\" stroke=\"black\" points=\"153,-90.25 65,-90.25 65,-69.5 153,-69.5 153,-90.25\"/>\n",
       "<text xml:space=\"preserve\" text-anchor=\"middle\" x=\"109\" y=\"-76.75\" font-family=\"monospace\" font-size=\"10.00\">AddBackward0</text>\n",
       "</g>\n",
       "<!-- 5745876640&#45;&gt;5746681216 -->\n",
       "<g id=\"edge9\" class=\"edge\">\n",
       "<title>5745876640&#45;&gt;5746681216</title>\n",
       "<path fill=\"none\" stroke=\"black\" d=\"M109,-69.05C109,-62.63 109,-53.9 109,-45.45\"/>\n",
       "<polygon fill=\"black\" stroke=\"black\" points=\"112.5,-45.5 109,-35.5 105.5,-45.5 112.5,-45.5\"/>\n",
       "</g>\n",
       "<!-- 5745869344 -->\n",
       "<g id=\"node3\" class=\"node\">\n",
       "<title>5745869344</title>\n",
       "<polygon fill=\"lightgrey\" stroke=\"black\" points=\"100,-147 12,-147 12,-126.25 100,-126.25 100,-147\"/>\n",
       "<text xml:space=\"preserve\" text-anchor=\"middle\" x=\"56\" y=\"-133.5\" font-family=\"monospace\" font-size=\"10.00\">MulBackward0</text>\n",
       "</g>\n",
       "<!-- 5745869344&#45;&gt;5745876640 -->\n",
       "<g id=\"edge1\" class=\"edge\">\n",
       "<title>5745869344&#45;&gt;5745876640</title>\n",
       "<path fill=\"none\" stroke=\"black\" d=\"M65.48,-125.84C72.79,-118.28 83.09,-107.64 91.84,-98.6\"/>\n",
       "<polygon fill=\"black\" stroke=\"black\" points=\"94.11,-101.29 98.55,-91.67 89.08,-96.42 94.11,-101.29\"/>\n",
       "</g>\n",
       "<!-- 5745876976 -->\n",
       "<g id=\"node4\" class=\"node\">\n",
       "<title>5745876976</title>\n",
       "<polygon fill=\"lightgrey\" stroke=\"black\" points=\"153,-203.75 65,-203.75 65,-183 153,-183 153,-203.75\"/>\n",
       "<text xml:space=\"preserve\" text-anchor=\"middle\" x=\"109\" y=\"-190.25\" font-family=\"monospace\" font-size=\"10.00\">AddBackward0</text>\n",
       "</g>\n",
       "<!-- 5745876976&#45;&gt;5745869344 -->\n",
       "<g id=\"edge2\" class=\"edge\">\n",
       "<title>5745876976&#45;&gt;5745869344</title>\n",
       "<path fill=\"none\" stroke=\"black\" d=\"M99.52,-182.59C92.21,-175.03 81.91,-164.39 73.16,-155.35\"/>\n",
       "<polygon fill=\"black\" stroke=\"black\" points=\"75.92,-153.17 66.45,-148.42 70.89,-158.04 75.92,-153.17\"/>\n",
       "</g>\n",
       "<!-- 5745869632 -->\n",
       "<g id=\"node9\" class=\"node\">\n",
       "<title>5745869632</title>\n",
       "<polygon fill=\"lightgrey\" stroke=\"black\" points=\"206,-147 118,-147 118,-126.25 206,-126.25 206,-147\"/>\n",
       "<text xml:space=\"preserve\" text-anchor=\"middle\" x=\"162\" y=\"-133.5\" font-family=\"monospace\" font-size=\"10.00\">MulBackward0</text>\n",
       "</g>\n",
       "<!-- 5745876976&#45;&gt;5745869632 -->\n",
       "<g id=\"edge8\" class=\"edge\">\n",
       "<title>5745876976&#45;&gt;5745869632</title>\n",
       "<path fill=\"none\" stroke=\"black\" d=\"M118.48,-182.59C125.79,-175.03 136.09,-164.39 144.84,-155.35\"/>\n",
       "<polygon fill=\"black\" stroke=\"black\" points=\"147.11,-158.04 151.55,-148.42 142.08,-153.17 147.11,-158.04\"/>\n",
       "</g>\n",
       "<!-- 5745869104 -->\n",
       "<g id=\"node5\" class=\"node\">\n",
       "<title>5745869104</title>\n",
       "<polygon fill=\"lightgrey\" stroke=\"black\" points=\"100,-260.5 0,-260.5 0,-239.75 100,-239.75 100,-260.5\"/>\n",
       "<text xml:space=\"preserve\" text-anchor=\"middle\" x=\"50\" y=\"-247\" font-family=\"monospace\" font-size=\"10.00\">AccumulateGrad</text>\n",
       "</g>\n",
       "<!-- 5745869104&#45;&gt;5745876976 -->\n",
       "<g id=\"edge3\" class=\"edge\">\n",
       "<title>5745869104&#45;&gt;5745876976</title>\n",
       "<path fill=\"none\" stroke=\"black\" d=\"M60.55,-239.34C68.77,-231.71 80.4,-220.92 90.2,-211.82\"/>\n",
       "<polygon fill=\"black\" stroke=\"black\" points=\"92.48,-214.48 97.43,-205.11 87.72,-209.34 92.48,-214.48\"/>\n",
       "</g>\n",
       "<!-- 5745772416 -->\n",
       "<g id=\"node6\" class=\"node\">\n",
       "<title>5745772416</title>\n",
       "<polygon fill=\"lightblue\" stroke=\"black\" points=\"77,-330 23,-330 23,-296.5 77,-296.5 77,-330\"/>\n",
       "<text xml:space=\"preserve\" text-anchor=\"middle\" x=\"50\" y=\"-316.5\" font-family=\"monospace\" font-size=\"10.00\">x</text>\n",
       "<text xml:space=\"preserve\" text-anchor=\"middle\" x=\"50\" y=\"-303.75\" font-family=\"monospace\" font-size=\"10.00\"> ()</text>\n",
       "</g>\n",
       "<!-- 5745772416&#45;&gt;5745869104 -->\n",
       "<g id=\"edge4\" class=\"edge\">\n",
       "<title>5745772416&#45;&gt;5745869104</title>\n",
       "<path fill=\"none\" stroke=\"black\" d=\"M50,-296.19C50,-288.85 50,-280.07 50,-272.21\"/>\n",
       "<polygon fill=\"black\" stroke=\"black\" points=\"53.5,-272.48 50,-262.48 46.5,-272.48 53.5,-272.48\"/>\n",
       "</g>\n",
       "<!-- 5745873424 -->\n",
       "<g id=\"node7\" class=\"node\">\n",
       "<title>5745873424</title>\n",
       "<polygon fill=\"lightgrey\" stroke=\"black\" points=\"218,-260.5 118,-260.5 118,-239.75 218,-239.75 218,-260.5\"/>\n",
       "<text xml:space=\"preserve\" text-anchor=\"middle\" x=\"168\" y=\"-247\" font-family=\"monospace\" font-size=\"10.00\">AccumulateGrad</text>\n",
       "</g>\n",
       "<!-- 5745873424&#45;&gt;5745876976 -->\n",
       "<g id=\"edge5\" class=\"edge\">\n",
       "<title>5745873424&#45;&gt;5745876976</title>\n",
       "<path fill=\"none\" stroke=\"black\" d=\"M157.45,-239.34C149.23,-231.71 137.6,-220.92 127.8,-211.82\"/>\n",
       "<polygon fill=\"black\" stroke=\"black\" points=\"130.28,-209.34 120.57,-205.11 125.52,-214.48 130.28,-209.34\"/>\n",
       "</g>\n",
       "<!-- 5745988528 -->\n",
       "<g id=\"node8\" class=\"node\">\n",
       "<title>5745988528</title>\n",
       "<polygon fill=\"lightblue\" stroke=\"black\" points=\"195,-330 141,-330 141,-296.5 195,-296.5 195,-330\"/>\n",
       "<text xml:space=\"preserve\" text-anchor=\"middle\" x=\"168\" y=\"-316.5\" font-family=\"monospace\" font-size=\"10.00\">y</text>\n",
       "<text xml:space=\"preserve\" text-anchor=\"middle\" x=\"168\" y=\"-303.75\" font-family=\"monospace\" font-size=\"10.00\"> ()</text>\n",
       "</g>\n",
       "<!-- 5745988528&#45;&gt;5745873424 -->\n",
       "<g id=\"edge6\" class=\"edge\">\n",
       "<title>5745988528&#45;&gt;5745873424</title>\n",
       "<path fill=\"none\" stroke=\"black\" d=\"M168,-296.19C168,-288.85 168,-280.07 168,-272.21\"/>\n",
       "<polygon fill=\"black\" stroke=\"black\" points=\"171.5,-272.48 168,-262.48 164.5,-272.48 171.5,-272.48\"/>\n",
       "</g>\n",
       "<!-- 5745869632&#45;&gt;5745876640 -->\n",
       "<g id=\"edge7\" class=\"edge\">\n",
       "<title>5745869632&#45;&gt;5745876640</title>\n",
       "<path fill=\"none\" stroke=\"black\" d=\"M152.52,-125.84C145.21,-118.28 134.91,-107.64 126.16,-98.6\"/>\n",
       "<polygon fill=\"black\" stroke=\"black\" points=\"128.92,-96.42 119.45,-91.67 123.89,-101.29 128.92,-96.42\"/>\n",
       "</g>\n",
       "</g>\n",
       "</svg>\n"
      ],
      "text/plain": [
       "<graphviz.graphs.Digraph at 0x1567b1fa0>"
      ]
     },
     "execution_count": 102,
     "metadata": {},
     "output_type": "execute_result"
    }
   ],
   "source": [
    "z = x + y\n",
    "l = 2*z + 3*z\n",
    "\n",
    "make_dot(l, params={\"x\": x, \"y\": y, \"l\": l})"
   ]
  },
  {
   "cell_type": "markdown",
   "metadata": {
    "id": "4076oW3wOqut"
   },
   "source": [
    "The output of `l` is $l = 2z + 3z = 5(x + y) = 15$.\n",
    "The gradients of $x$ and $y$ are then $\\frac{d}{dx} 5(x+y) = \\frac{d}{dx} 5x = 5$ and $\\frac{d}{dy} 5(x+y) = \\frac{d}{dy} 5y = 5$. Take the derivative of `l` and print out `l` and the gradients of `x` and `y` to validate this is true."
   ]
  },
  {
   "cell_type": "code",
   "execution_count": 103,
   "metadata": {
    "id": "ZqbO_c1wOquu"
   },
   "outputs": [
    {
     "data": {
      "text/plain": [
       "tensor(5.)"
      ]
     },
     "execution_count": 103,
     "metadata": {},
     "output_type": "execute_result"
    }
   ],
   "source": [
    "l.backward()\n",
    "x.grad\n",
    "y.grad\n",
    "\n"
   ]
  },
  {
   "cell_type": "markdown",
   "metadata": {
    "id": "z1-5fDaIOquu"
   },
   "source": [
    "### `.clone()`\n",
    "\n"
   ]
  },
  {
   "cell_type": "markdown",
   "metadata": {
    "id": "UneExL8VOquu"
   },
   "source": [
    "Now compute the same function, but this time let `l = 2*z + 3*z.clone()`. Call `make_dot()` and visualize the computation graph."
   ]
  },
  {
   "cell_type": "code",
   "execution_count": 118,
   "metadata": {
    "id": "xAL_laJhOquv"
   },
   "outputs": [
    {
     "data": {
      "image/svg+xml": [
       "<?xml version=\"1.0\" encoding=\"UTF-8\" standalone=\"no\"?>\n",
       "<!DOCTYPE svg PUBLIC \"-//W3C//DTD SVG 1.1//EN\"\n",
       " \"http://www.w3.org/Graphics/SVG/1.1/DTD/svg11.dtd\">\n",
       "<!-- Generated by graphviz version 13.1.2 (20250808.2320)\n",
       " -->\n",
       "<!-- Pages: 1 -->\n",
       "<svg width=\"226pt\" height=\"395pt\"\n",
       " viewBox=\"0.00 0.00 226.00 395.00\" xmlns=\"http://www.w3.org/2000/svg\" xmlns:xlink=\"http://www.w3.org/1999/xlink\">\n",
       "<g id=\"graph0\" class=\"graph\" transform=\"scale(1 1) rotate(0) translate(4 390.75)\">\n",
       "<polygon fill=\"white\" stroke=\"none\" points=\"-4,4 -4,-390.75 222,-390.75 222,4 -4,4\"/>\n",
       "<!-- 5746623824 -->\n",
       "<g id=\"node1\" class=\"node\">\n",
       "<title>5746623824</title>\n",
       "<polygon fill=\"#caff70\" stroke=\"black\" points=\"136,-33.5 82,-33.5 82,0 136,0 136,-33.5\"/>\n",
       "<text xml:space=\"preserve\" text-anchor=\"middle\" x=\"109\" y=\"-20\" font-family=\"monospace\" font-size=\"10.00\">l</text>\n",
       "<text xml:space=\"preserve\" text-anchor=\"middle\" x=\"109\" y=\"-7.25\" font-family=\"monospace\" font-size=\"10.00\"> ()</text>\n",
       "</g>\n",
       "<!-- 5745875968 -->\n",
       "<g id=\"node2\" class=\"node\">\n",
       "<title>5745875968</title>\n",
       "<polygon fill=\"lightgrey\" stroke=\"black\" points=\"153,-90.25 65,-90.25 65,-69.5 153,-69.5 153,-90.25\"/>\n",
       "<text xml:space=\"preserve\" text-anchor=\"middle\" x=\"109\" y=\"-76.75\" font-family=\"monospace\" font-size=\"10.00\">AddBackward0</text>\n",
       "</g>\n",
       "<!-- 5745875968&#45;&gt;5746623824 -->\n",
       "<g id=\"edge10\" class=\"edge\">\n",
       "<title>5745875968&#45;&gt;5746623824</title>\n",
       "<path fill=\"none\" stroke=\"black\" d=\"M109,-69.05C109,-62.63 109,-53.9 109,-45.45\"/>\n",
       "<polygon fill=\"black\" stroke=\"black\" points=\"112.5,-45.5 109,-35.5 105.5,-45.5 112.5,-45.5\"/>\n",
       "</g>\n",
       "<!-- 5745878608 -->\n",
       "<g id=\"node3\" class=\"node\">\n",
       "<title>5745878608</title>\n",
       "<polygon fill=\"lightgrey\" stroke=\"black\" points=\"100,-147 12,-147 12,-126.25 100,-126.25 100,-147\"/>\n",
       "<text xml:space=\"preserve\" text-anchor=\"middle\" x=\"56\" y=\"-133.5\" font-family=\"monospace\" font-size=\"10.00\">MulBackward0</text>\n",
       "</g>\n",
       "<!-- 5745878608&#45;&gt;5745875968 -->\n",
       "<g id=\"edge1\" class=\"edge\">\n",
       "<title>5745878608&#45;&gt;5745875968</title>\n",
       "<path fill=\"none\" stroke=\"black\" d=\"M65.48,-125.84C72.79,-118.28 83.09,-107.64 91.84,-98.6\"/>\n",
       "<polygon fill=\"black\" stroke=\"black\" points=\"94.11,-101.29 98.55,-91.67 89.08,-96.42 94.11,-101.29\"/>\n",
       "</g>\n",
       "<!-- 5745877312 -->\n",
       "<g id=\"node4\" class=\"node\">\n",
       "<title>5745877312</title>\n",
       "<polygon fill=\"lightgrey\" stroke=\"black\" points=\"153,-260.5 65,-260.5 65,-239.75 153,-239.75 153,-260.5\"/>\n",
       "<text xml:space=\"preserve\" text-anchor=\"middle\" x=\"109\" y=\"-247\" font-family=\"monospace\" font-size=\"10.00\">AddBackward0</text>\n",
       "</g>\n",
       "<!-- 5745877312&#45;&gt;5745878608 -->\n",
       "<g id=\"edge2\" class=\"edge\">\n",
       "<title>5745877312&#45;&gt;5745878608</title>\n",
       "<path fill=\"none\" stroke=\"black\" d=\"M104.48,-239.62C95.88,-221.52 76.99,-181.78 65.49,-157.6\"/>\n",
       "<polygon fill=\"black\" stroke=\"black\" points=\"68.76,-156.32 61.31,-148.79 62.44,-159.33 68.76,-156.32\"/>\n",
       "</g>\n",
       "<!-- 5745884752 -->\n",
       "<g id=\"node10\" class=\"node\">\n",
       "<title>5745884752</title>\n",
       "<polygon fill=\"lightgrey\" stroke=\"black\" points=\"205,-203.75 105,-203.75 105,-183 205,-183 205,-203.75\"/>\n",
       "<text xml:space=\"preserve\" text-anchor=\"middle\" x=\"155\" y=\"-190.25\" font-family=\"monospace\" font-size=\"10.00\">CloneBackward0</text>\n",
       "</g>\n",
       "<!-- 5745877312&#45;&gt;5745884752 -->\n",
       "<g id=\"edge9\" class=\"edge\">\n",
       "<title>5745877312&#45;&gt;5745884752</title>\n",
       "<path fill=\"none\" stroke=\"black\" d=\"M117.22,-239.34C123.44,-231.94 132.15,-221.57 139.64,-212.66\"/>\n",
       "<polygon fill=\"black\" stroke=\"black\" points=\"142.12,-215.15 145.87,-205.24 136.76,-210.64 142.12,-215.15\"/>\n",
       "</g>\n",
       "<!-- 5745873712 -->\n",
       "<g id=\"node5\" class=\"node\">\n",
       "<title>5745873712</title>\n",
       "<polygon fill=\"lightgrey\" stroke=\"black\" points=\"100,-317.25 0,-317.25 0,-296.5 100,-296.5 100,-317.25\"/>\n",
       "<text xml:space=\"preserve\" text-anchor=\"middle\" x=\"50\" y=\"-303.75\" font-family=\"monospace\" font-size=\"10.00\">AccumulateGrad</text>\n",
       "</g>\n",
       "<!-- 5745873712&#45;&gt;5745877312 -->\n",
       "<g id=\"edge3\" class=\"edge\">\n",
       "<title>5745873712&#45;&gt;5745877312</title>\n",
       "<path fill=\"none\" stroke=\"black\" d=\"M60.55,-296.09C68.77,-288.46 80.4,-277.67 90.2,-268.57\"/>\n",
       "<polygon fill=\"black\" stroke=\"black\" points=\"92.48,-271.23 97.43,-261.86 87.72,-266.09 92.48,-271.23\"/>\n",
       "</g>\n",
       "<!-- 5745772416 -->\n",
       "<g id=\"node6\" class=\"node\">\n",
       "<title>5745772416</title>\n",
       "<polygon fill=\"lightblue\" stroke=\"black\" points=\"77,-386.75 23,-386.75 23,-353.25 77,-353.25 77,-386.75\"/>\n",
       "<text xml:space=\"preserve\" text-anchor=\"middle\" x=\"50\" y=\"-373.25\" font-family=\"monospace\" font-size=\"10.00\">x</text>\n",
       "<text xml:space=\"preserve\" text-anchor=\"middle\" x=\"50\" y=\"-360.5\" font-family=\"monospace\" font-size=\"10.00\"> ()</text>\n",
       "</g>\n",
       "<!-- 5745772416&#45;&gt;5745873712 -->\n",
       "<g id=\"edge4\" class=\"edge\">\n",
       "<title>5745772416&#45;&gt;5745873712</title>\n",
       "<path fill=\"none\" stroke=\"black\" d=\"M50,-352.94C50,-345.6 50,-336.82 50,-328.96\"/>\n",
       "<polygon fill=\"black\" stroke=\"black\" points=\"53.5,-329.23 50,-319.23 46.5,-329.23 53.5,-329.23\"/>\n",
       "</g>\n",
       "<!-- 5745883888 -->\n",
       "<g id=\"node7\" class=\"node\">\n",
       "<title>5745883888</title>\n",
       "<polygon fill=\"lightgrey\" stroke=\"black\" points=\"218,-317.25 118,-317.25 118,-296.5 218,-296.5 218,-317.25\"/>\n",
       "<text xml:space=\"preserve\" text-anchor=\"middle\" x=\"168\" y=\"-303.75\" font-family=\"monospace\" font-size=\"10.00\">AccumulateGrad</text>\n",
       "</g>\n",
       "<!-- 5745883888&#45;&gt;5745877312 -->\n",
       "<g id=\"edge5\" class=\"edge\">\n",
       "<title>5745883888&#45;&gt;5745877312</title>\n",
       "<path fill=\"none\" stroke=\"black\" d=\"M157.45,-296.09C149.23,-288.46 137.6,-277.67 127.8,-268.57\"/>\n",
       "<polygon fill=\"black\" stroke=\"black\" points=\"130.28,-266.09 120.57,-261.86 125.52,-271.23 130.28,-266.09\"/>\n",
       "</g>\n",
       "<!-- 5745988528 -->\n",
       "<g id=\"node8\" class=\"node\">\n",
       "<title>5745988528</title>\n",
       "<polygon fill=\"lightblue\" stroke=\"black\" points=\"195,-386.75 141,-386.75 141,-353.25 195,-353.25 195,-386.75\"/>\n",
       "<text xml:space=\"preserve\" text-anchor=\"middle\" x=\"168\" y=\"-373.25\" font-family=\"monospace\" font-size=\"10.00\">y</text>\n",
       "<text xml:space=\"preserve\" text-anchor=\"middle\" x=\"168\" y=\"-360.5\" font-family=\"monospace\" font-size=\"10.00\"> ()</text>\n",
       "</g>\n",
       "<!-- 5745988528&#45;&gt;5745883888 -->\n",
       "<g id=\"edge6\" class=\"edge\">\n",
       "<title>5745988528&#45;&gt;5745883888</title>\n",
       "<path fill=\"none\" stroke=\"black\" d=\"M168,-352.94C168,-345.6 168,-336.82 168,-328.96\"/>\n",
       "<polygon fill=\"black\" stroke=\"black\" points=\"171.5,-329.23 168,-319.23 164.5,-329.23 171.5,-329.23\"/>\n",
       "</g>\n",
       "<!-- 5745869920 -->\n",
       "<g id=\"node9\" class=\"node\">\n",
       "<title>5745869920</title>\n",
       "<polygon fill=\"lightgrey\" stroke=\"black\" points=\"206,-147 118,-147 118,-126.25 206,-126.25 206,-147\"/>\n",
       "<text xml:space=\"preserve\" text-anchor=\"middle\" x=\"162\" y=\"-133.5\" font-family=\"monospace\" font-size=\"10.00\">MulBackward0</text>\n",
       "</g>\n",
       "<!-- 5745869920&#45;&gt;5745875968 -->\n",
       "<g id=\"edge7\" class=\"edge\">\n",
       "<title>5745869920&#45;&gt;5745875968</title>\n",
       "<path fill=\"none\" stroke=\"black\" d=\"M152.52,-125.84C145.21,-118.28 134.91,-107.64 126.16,-98.6\"/>\n",
       "<polygon fill=\"black\" stroke=\"black\" points=\"128.92,-96.42 119.45,-91.67 123.89,-101.29 128.92,-96.42\"/>\n",
       "</g>\n",
       "<!-- 5745884752&#45;&gt;5745869920 -->\n",
       "<g id=\"edge8\" class=\"edge\">\n",
       "<title>5745884752&#45;&gt;5745869920</title>\n",
       "<path fill=\"none\" stroke=\"black\" d=\"M156.25,-182.59C157.11,-175.89 158.27,-166.76 159.33,-158.48\"/>\n",
       "<polygon fill=\"black\" stroke=\"black\" points=\"162.77,-159.19 160.57,-148.83 155.83,-158.31 162.77,-159.19\"/>\n",
       "</g>\n",
       "</g>\n",
       "</svg>\n"
      ],
      "text/plain": [
       "<graphviz.graphs.Digraph at 0x1567b2ff0>"
      ]
     },
     "execution_count": 118,
     "metadata": {},
     "output_type": "execute_result"
    }
   ],
   "source": [
    "# compute z and l\n",
    "l = 2*z + 3*z.clone()\n",
    "\n",
    "make_dot(l, params={\"x\": x, \"y\": y, \"l\": l})"
   ]
  },
  {
   "cell_type": "markdown",
   "metadata": {
    "id": "qXq9ll_5Oquv"
   },
   "source": [
    "The computation graph now has `CloneBackward0` attached to, but since `.clone()` doesn't change any gradients then the output of `l` and `x.grad` and `y.grad` should all be the same as above.\n",
    "Take the derivative of `l` (don't forget to zero out the gradients of `x` and `y`) and print out `l` and the gradients of `x` and `y` to validate this is true."
   ]
  },
  {
   "cell_type": "code",
   "execution_count": 119,
   "metadata": {
    "id": "DKB_z8tEOquv"
   },
   "outputs": [
    {
     "data": {
      "text/plain": [
       "tensor(5.)"
      ]
     },
     "execution_count": 119,
     "metadata": {},
     "output_type": "execute_result"
    }
   ],
   "source": [
    "x.grad = None\n",
    "y.grad = None\n",
    "l.backward()\n",
    "x.grad\n",
    "y.grad\n"
   ]
  },
  {
   "cell_type": "markdown",
   "metadata": {
    "id": "-JZxBdVFOquv"
   },
   "source": [
    "### `.detach()`\n",
    "\n"
   ]
  },
  {
   "cell_type": "markdown",
   "metadata": {
    "id": "DikCUy2UOquv"
   },
   "source": [
    "Once again compute the same function, but this time let `l = 2*z + 3*z.detach()`. Call `make_dot()` and visualize the computation graph."
   ]
  },
  {
   "cell_type": "code",
   "execution_count": 122,
   "metadata": {
    "id": "2deQc6mxOquv"
   },
   "outputs": [
    {
     "data": {
      "image/svg+xml": [
       "<?xml version=\"1.0\" encoding=\"UTF-8\" standalone=\"no\"?>\n",
       "<!DOCTYPE svg PUBLIC \"-//W3C//DTD SVG 1.1//EN\"\n",
       " \"http://www.w3.org/Graphics/SVG/1.1/DTD/svg11.dtd\">\n",
       "<!-- Generated by graphviz version 13.1.2 (20250808.2320)\n",
       " -->\n",
       "<!-- Pages: 1 -->\n",
       "<svg width=\"226pt\" height=\"338pt\"\n",
       " viewBox=\"0.00 0.00 226.00 338.00\" xmlns=\"http://www.w3.org/2000/svg\" xmlns:xlink=\"http://www.w3.org/1999/xlink\">\n",
       "<g id=\"graph0\" class=\"graph\" transform=\"scale(1 1) rotate(0) translate(4 334)\">\n",
       "<polygon fill=\"white\" stroke=\"none\" points=\"-4,4 -4,-334 222,-334 222,4 -4,4\"/>\n",
       "<!-- 5749243520 -->\n",
       "<g id=\"node1\" class=\"node\">\n",
       "<title>5749243520</title>\n",
       "<polygon fill=\"#caff70\" stroke=\"black\" points=\"136,-33.5 82,-33.5 82,0 136,0 136,-33.5\"/>\n",
       "<text xml:space=\"preserve\" text-anchor=\"middle\" x=\"109\" y=\"-20\" font-family=\"monospace\" font-size=\"10.00\">l</text>\n",
       "<text xml:space=\"preserve\" text-anchor=\"middle\" x=\"109\" y=\"-7.25\" font-family=\"monospace\" font-size=\"10.00\"> ()</text>\n",
       "</g>\n",
       "<!-- 5746005312 -->\n",
       "<g id=\"node2\" class=\"node\">\n",
       "<title>5746005312</title>\n",
       "<polygon fill=\"lightgrey\" stroke=\"black\" points=\"153,-90.25 65,-90.25 65,-69.5 153,-69.5 153,-90.25\"/>\n",
       "<text xml:space=\"preserve\" text-anchor=\"middle\" x=\"109\" y=\"-76.75\" font-family=\"monospace\" font-size=\"10.00\">AddBackward0</text>\n",
       "</g>\n",
       "<!-- 5746005312&#45;&gt;5749243520 -->\n",
       "<g id=\"edge7\" class=\"edge\">\n",
       "<title>5746005312&#45;&gt;5749243520</title>\n",
       "<path fill=\"none\" stroke=\"black\" d=\"M109,-69.05C109,-62.63 109,-53.9 109,-45.45\"/>\n",
       "<polygon fill=\"black\" stroke=\"black\" points=\"112.5,-45.5 109,-35.5 105.5,-45.5 112.5,-45.5\"/>\n",
       "</g>\n",
       "<!-- 5746013040 -->\n",
       "<g id=\"node3\" class=\"node\">\n",
       "<title>5746013040</title>\n",
       "<polygon fill=\"lightgrey\" stroke=\"black\" points=\"153,-147 65,-147 65,-126.25 153,-126.25 153,-147\"/>\n",
       "<text xml:space=\"preserve\" text-anchor=\"middle\" x=\"109\" y=\"-133.5\" font-family=\"monospace\" font-size=\"10.00\">MulBackward0</text>\n",
       "</g>\n",
       "<!-- 5746013040&#45;&gt;5746005312 -->\n",
       "<g id=\"edge1\" class=\"edge\">\n",
       "<title>5746013040&#45;&gt;5746005312</title>\n",
       "<path fill=\"none\" stroke=\"black\" d=\"M109,-125.84C109,-119.22 109,-110.22 109,-102.02\"/>\n",
       "<polygon fill=\"black\" stroke=\"black\" points=\"112.5,-102.09 109,-92.09 105.5,-102.09 112.5,-102.09\"/>\n",
       "</g>\n",
       "<!-- 5746005072 -->\n",
       "<g id=\"node4\" class=\"node\">\n",
       "<title>5746005072</title>\n",
       "<polygon fill=\"lightgrey\" stroke=\"black\" points=\"153,-203.75 65,-203.75 65,-183 153,-183 153,-203.75\"/>\n",
       "<text xml:space=\"preserve\" text-anchor=\"middle\" x=\"109\" y=\"-190.25\" font-family=\"monospace\" font-size=\"10.00\">AddBackward0</text>\n",
       "</g>\n",
       "<!-- 5746005072&#45;&gt;5746013040 -->\n",
       "<g id=\"edge2\" class=\"edge\">\n",
       "<title>5746005072&#45;&gt;5746013040</title>\n",
       "<path fill=\"none\" stroke=\"black\" d=\"M109,-182.59C109,-175.97 109,-166.97 109,-158.77\"/>\n",
       "<polygon fill=\"black\" stroke=\"black\" points=\"112.5,-158.84 109,-148.84 105.5,-158.84 112.5,-158.84\"/>\n",
       "</g>\n",
       "<!-- 5746000656 -->\n",
       "<g id=\"node5\" class=\"node\">\n",
       "<title>5746000656</title>\n",
       "<polygon fill=\"lightgrey\" stroke=\"black\" points=\"100,-260.5 0,-260.5 0,-239.75 100,-239.75 100,-260.5\"/>\n",
       "<text xml:space=\"preserve\" text-anchor=\"middle\" x=\"50\" y=\"-247\" font-family=\"monospace\" font-size=\"10.00\">AccumulateGrad</text>\n",
       "</g>\n",
       "<!-- 5746000656&#45;&gt;5746005072 -->\n",
       "<g id=\"edge3\" class=\"edge\">\n",
       "<title>5746000656&#45;&gt;5746005072</title>\n",
       "<path fill=\"none\" stroke=\"black\" d=\"M60.55,-239.34C68.77,-231.71 80.4,-220.92 90.2,-211.82\"/>\n",
       "<polygon fill=\"black\" stroke=\"black\" points=\"92.48,-214.48 97.43,-205.11 87.72,-209.34 92.48,-214.48\"/>\n",
       "</g>\n",
       "<!-- 5745772416 -->\n",
       "<g id=\"node6\" class=\"node\">\n",
       "<title>5745772416</title>\n",
       "<polygon fill=\"lightblue\" stroke=\"black\" points=\"77,-330 23,-330 23,-296.5 77,-296.5 77,-330\"/>\n",
       "<text xml:space=\"preserve\" text-anchor=\"middle\" x=\"50\" y=\"-316.5\" font-family=\"monospace\" font-size=\"10.00\">x</text>\n",
       "<text xml:space=\"preserve\" text-anchor=\"middle\" x=\"50\" y=\"-303.75\" font-family=\"monospace\" font-size=\"10.00\"> ()</text>\n",
       "</g>\n",
       "<!-- 5745772416&#45;&gt;5746000656 -->\n",
       "<g id=\"edge4\" class=\"edge\">\n",
       "<title>5745772416&#45;&gt;5746000656</title>\n",
       "<path fill=\"none\" stroke=\"black\" d=\"M50,-296.19C50,-288.85 50,-280.07 50,-272.21\"/>\n",
       "<polygon fill=\"black\" stroke=\"black\" points=\"53.5,-272.48 50,-262.48 46.5,-272.48 53.5,-272.48\"/>\n",
       "</g>\n",
       "<!-- 5746003440 -->\n",
       "<g id=\"node7\" class=\"node\">\n",
       "<title>5746003440</title>\n",
       "<polygon fill=\"lightgrey\" stroke=\"black\" points=\"218,-260.5 118,-260.5 118,-239.75 218,-239.75 218,-260.5\"/>\n",
       "<text xml:space=\"preserve\" text-anchor=\"middle\" x=\"168\" y=\"-247\" font-family=\"monospace\" font-size=\"10.00\">AccumulateGrad</text>\n",
       "</g>\n",
       "<!-- 5746003440&#45;&gt;5746005072 -->\n",
       "<g id=\"edge5\" class=\"edge\">\n",
       "<title>5746003440&#45;&gt;5746005072</title>\n",
       "<path fill=\"none\" stroke=\"black\" d=\"M157.45,-239.34C149.23,-231.71 137.6,-220.92 127.8,-211.82\"/>\n",
       "<polygon fill=\"black\" stroke=\"black\" points=\"130.28,-209.34 120.57,-205.11 125.52,-214.48 130.28,-209.34\"/>\n",
       "</g>\n",
       "<!-- 5745988528 -->\n",
       "<g id=\"node8\" class=\"node\">\n",
       "<title>5745988528</title>\n",
       "<polygon fill=\"lightblue\" stroke=\"black\" points=\"195,-330 141,-330 141,-296.5 195,-296.5 195,-330\"/>\n",
       "<text xml:space=\"preserve\" text-anchor=\"middle\" x=\"168\" y=\"-316.5\" font-family=\"monospace\" font-size=\"10.00\">y</text>\n",
       "<text xml:space=\"preserve\" text-anchor=\"middle\" x=\"168\" y=\"-303.75\" font-family=\"monospace\" font-size=\"10.00\"> ()</text>\n",
       "</g>\n",
       "<!-- 5745988528&#45;&gt;5746003440 -->\n",
       "<g id=\"edge6\" class=\"edge\">\n",
       "<title>5745988528&#45;&gt;5746003440</title>\n",
       "<path fill=\"none\" stroke=\"black\" d=\"M168,-296.19C168,-288.85 168,-280.07 168,-272.21\"/>\n",
       "<polygon fill=\"black\" stroke=\"black\" points=\"171.5,-272.48 168,-262.48 164.5,-272.48 171.5,-272.48\"/>\n",
       "</g>\n",
       "</g>\n",
       "</svg>\n"
      ],
      "text/plain": [
       "<graphviz.graphs.Digraph at 0x1567d1790>"
      ]
     },
     "execution_count": 122,
     "metadata": {},
     "output_type": "execute_result"
    }
   ],
   "source": [
    "# compute z and l\n",
    "l = 2*z + 3*z.detach()\n",
    "\n",
    "make_dot(l, params={\"x\": x, \"y\": y, \"l\": l})"
   ]
  },
  {
   "cell_type": "markdown",
   "metadata": {
    "id": "2TnqIWAIOquv"
   },
   "source": [
    "The computation graph has changed because `3*z.detach()` looks like the number 9 to the compuation graph.\n",
    "The output has not changed though, $l = 2z + 9 = 2(x + y) + 9 = 6 + 9 = 15$. However, our gradients are changed because $\\frac{d}{dx} 2(x+y) + 9 = \\frac{d}{dx} 2x = 2$ and $\\frac{d}{dy} 2(x+y) + 9= \\frac{d}{dy} 2y = 2$.\n",
    "Take the derivative of `l` (don't forget to zero out the gradients of `x` and `y`) and print out `l` and the gradients of `x` and `y` to validate this is true."
   ]
  },
  {
   "cell_type": "code",
   "execution_count": 123,
   "metadata": {
    "id": "MYTFhlQaOquw"
   },
   "outputs": [
    {
     "name": "stdout",
     "output_type": "stream",
     "text": [
      "None\n"
     ]
    },
    {
     "data": {
      "text/plain": [
       "tensor(2.)"
      ]
     },
     "execution_count": 123,
     "metadata": {},
     "output_type": "execute_result"
    }
   ],
   "source": [
    "x.grad = None\n",
    "y.grad = None\n",
    "print(l.backward())\n",
    "x.grad\n",
    "y.grad\n"
   ]
  },
  {
   "cell_type": "markdown",
   "metadata": {
    "id": "gH4C-ixiOquw"
   },
   "source": [
    "---\n",
    "\n",
    "# Gradient Descent Learning"
   ]
  },
  {
   "cell_type": "code",
   "execution_count": 124,
   "metadata": {
    "id": "bgKzMWRTOquw"
   },
   "outputs": [],
   "source": [
    "import numpy as np\n",
    "import matplotlib.pyplot as plt\n",
    "from matplotlib import cm\n",
    "import matplotlib.animation as animation\n",
    "from typing import List"
   ]
  },
  {
   "cell_type": "markdown",
   "metadata": {
    "id": "iAXxMZaWOquw"
   },
   "source": [
    "Why do we care about using PyTorch's autodiff functionality?\n",
    "Because it can be utilized for optimization.\n",
    "Assume for example, we have $n$ data points and we want to find a line that best fits the data, differentiation can tell us how to find the best fitting line through gradient descent."
   ]
  },
  {
   "cell_type": "markdown",
   "metadata": {
    "id": "AcbyZgD-Oquw"
   },
   "source": [
    "First let's create a Random Number Generator (RNG) to make sure our experiment is reproducible"
   ]
  },
  {
   "cell_type": "code",
   "execution_count": 125,
   "metadata": {
    "id": "fm668cwkOqux"
   },
   "outputs": [],
   "source": [
    "rng = np.random.default_rng(42)"
   ]
  },
  {
   "cell_type": "markdown",
   "metadata": {
    "id": "4qm5pRfgOquy"
   },
   "source": [
    "And now let's generate our data.\n",
    "The true slope to our line is $m=.3$ and the our true intercept is $b=.25$.\n",
    "Our data is 9 data points along this line with some added noise."
   ]
  },
  {
   "cell_type": "code",
   "execution_count": 126,
   "metadata": {
    "id": "GslnNWE0Oquy"
   },
   "outputs": [],
   "source": [
    "true_m = .3\n",
    "true_b = .25\n",
    "x_data = np.linspace(.1, .9, 9)\n",
    "noise = rng.normal(0, 1, size=x_data.shape) * .1\n",
    "y_data = true_m*x_data + true_b + noise"
   ]
  },
  {
   "cell_type": "markdown",
   "metadata": {
    "id": "Rx8GpfbCOquy"
   },
   "source": [
    "Below are some helper functions.\n",
    "You don't need to look at them, just execute the cell below and move on."
   ]
  },
  {
   "cell_type": "code",
   "execution_count": 127,
   "metadata": {
    "id": "La6b6KBGOquy"
   },
   "outputs": [],
   "source": [
    "def _add_true_fn_and_data(ax, handles, labels):\n",
    "    ax.set_xlim(-.05, 1.05)\n",
    "    ax.set_ylim(-.05, 1.05)\n",
    "    ax.set_xlabel(r\"x\")\n",
    "    ax.set_ylabel(r\"y\")\n",
    "    ax.set_title(\"Input/Output Plot\")\n",
    "    # Plot data\n",
    "    ax.scatter(x_data, y_data)\n",
    "    # Plot true function\n",
    "    xs = np.linspace(0, 1, 100)\n",
    "    true_ys = true_m*xs + true_b\n",
    "    handle, = ax.plot(xs, true_ys, label=\"true fn\")\n",
    "    handles.append(handle)\n",
    "    labels.append(\"true fn\")\n",
    "\n",
    "\n",
    "def _add_pred_fn_and_errors(pred_m, pred_b, ax, handles, labels):\n",
    "    xs = np.linspace(0, 1, 100)\n",
    "    pred_ys = pred_m * xs + pred_b\n",
    "    pred_line, = ax.plot(xs, pred_ys, label=\"pred fn\")\n",
    "    handles.append(pred_line)\n",
    "    labels.append(\"pred fn\")\n",
    "\n",
    "    pred_y = pred_m * x_data + pred_b\n",
    "    errors = pred_y - y_data\n",
    "    error_lines = []\n",
    "    for x_i, y_i, error in zip(x_data, y_data, errors):\n",
    "        error_line, = ax.plot([x_i, x_i], [y_i, y_i + error], c=\"red\", label=\"error\")\n",
    "        error_lines.append(error_line)\n",
    "    handles.append(error_line)\n",
    "    labels.append(\"error\")\n",
    "    return pred_line, error_lines\n",
    "\n",
    "\n",
    "def _add_loss_surface(ax, m_min=-1, m_max=1.5, b_min=-.4, b_max=.9):\n",
    "    steps = 50\n",
    "    m_space = np.linspace(m_min, m_max, steps)\n",
    "    b_space = np.linspace(b_min, b_max, steps)\n",
    "\n",
    "    MM, BB = np.meshgrid(m_space, b_space, indexing=\"ij\")\n",
    "    MM = MM.reshape(steps * steps)\n",
    "    BB = BB.reshape(steps * steps)\n",
    "\n",
    "    YY = MM[:, None] @ x_data[None, :] + BB[:, None]\n",
    "    EE = YY - y_data[None, :]\n",
    "    EE = np.mean(EE**2, axis=1)\n",
    "\n",
    "    MM = MM.reshape(steps, steps)\n",
    "    BB = BB.reshape(steps, steps)\n",
    "    EE = EE.reshape(steps, steps)\n",
    "\n",
    "    ax.contourf(MM, BB, np.log2(EE))\n",
    "    ax.set_title(\"Loss Surface\")\n",
    "    ax.set_xlabel(\"slope \" + r\"($m$)\")\n",
    "    ax.set_ylabel(\"intercept \" + r\"($b$)\")\n",
    "\n",
    "\n",
    "def plot_data(pred_m=None, pred_b=None, figsize=(6, 6)):\n",
    "    fig, ax = plt.subplots(1, 1, figsize=figsize)\n",
    "    handles = []\n",
    "    labels = []\n",
    "\n",
    "    _add_true_fn_and_data(ax=ax, handles=handles, labels=labels)\n",
    "\n",
    "    # Plot predicted function\n",
    "    if pred_m is not None or pred_b is not None:\n",
    "        if pred_m is None:\n",
    "            pred_m = 0\n",
    "        if pred_b is None:\n",
    "            pred_b = 0\n",
    "        _add_pred_fn_and_errors(pred_m=pred_m, pred_b=pred_b, ax=ax, handles=handles, labels=labels)\n",
    "\n",
    "    ax.legend(handles, labels)\n",
    "    plt.show()\n",
    "\n",
    "\n",
    "def plot_1d_loss_surface(pred_ms=None, pred_bs=None, figsize=(12, 6)):\n",
    "    if pred_ms is None and pred_bs is None:\n",
    "        raise ValueError(f\"Expected pred_ms or pred_bs to be not None\")\n",
    "    if pred_ms is not None and pred_bs is not None:\n",
    "        print(f\"Both pred_ms and pred_bs are not None and function will default to using pred_ms\")\n",
    "\n",
    "    fig, axes = plt.subplots(1, 2, figsize=figsize)\n",
    "    handles = []\n",
    "    labels = []\n",
    "\n",
    "    ### Input Output ###\n",
    "    inp_out_ax = axes[0]\n",
    "    _add_true_fn_and_data(ax=inp_out_ax, handles=handles, labels=labels)\n",
    "\n",
    "    # Plot predicted function\n",
    "    pred_vars = None\n",
    "    if pred_ms is not None:\n",
    "        pred_ms = np.array(pred_ms)\n",
    "        pred_ms = np.concatenate((pred_ms, pred_ms[::-1]))\n",
    "        pred_bs = np.zeros_like(pred_ms)\n",
    "        loss_title = \"Loss Surface With Respect To Slope\"\n",
    "        loss_xlabel = \"slope\"\n",
    "        pred_vars = pred_ms\n",
    "    else:\n",
    "        pred_bs = np.array(pred_bs)\n",
    "        pred_bs = np.concatenate((pred_bs, pred_bs[::-1]))\n",
    "        pred_ms = np.zeros_like(pred_bs)\n",
    "        loss_title = \"Loss Surface With Respect To Intercept\"\n",
    "        loss_xlabel = \"intercept\"\n",
    "        pred_vars = pred_bs\n",
    "\n",
    "    pred_line, error_lines = _add_pred_fn_and_errors(pred_m=pred_ms[0], pred_b=pred_bs[0], ax=inp_out_ax, handles=handles, labels=labels)\n",
    "\n",
    "    inp_out_ax.legend(handles, labels)\n",
    "\n",
    "    ### 1D Loss Surface ###\n",
    "    loss_ax = axes[1]\n",
    "\n",
    "    pred_ys = x_data[:, None] @ pred_ms[None, :] + pred_bs\n",
    "    sses = np.sum((y_data[:, None] - pred_ys)**2, axis=0)\n",
    "\n",
    "    loss_ax.plot(pred_vars[:len(pred_vars)//2], sses[:len(sses)//2])\n",
    "\n",
    "    loss_scatter = loss_ax.scatter(pred_vars[0:1], sses[0:1])\n",
    "\n",
    "    loss_ax.set_title(loss_title)\n",
    "    loss_ax.set_xlabel(loss_xlabel)\n",
    "    loss_ax.set_ylabel(\"Sum Square Error\")\n",
    "\n",
    "    xs = np.linspace(0, 1, 100)\n",
    "    def update(frame):\n",
    "        # for each frame, update the data stored on each artist.\n",
    "        pred_m = pred_ms[frame]\n",
    "        pred_b = pred_bs[frame]\n",
    "        pred_ys = pred_m * xs + pred_b\n",
    "\n",
    "        pred_line.set_ydata(pred_ys)\n",
    "\n",
    "        pred_y = pred_m * x_data + pred_b\n",
    "        errors = pred_y - y_data\n",
    "\n",
    "        for error_line, y_i, error in zip(error_lines, y_data, errors):\n",
    "            error_line.set_ydata([y_i, y_i + error])\n",
    "\n",
    "        loss_scatter.set_offsets(np.array([pred_vars[frame], sses[frame]]))\n",
    "\n",
    "        return (pred_line, *error_lines, loss_scatter)\n",
    "\n",
    "    anim = animation.FuncAnimation(fig=fig, func=update, frames=len(pred_ms), interval=50, blit=True)\n",
    "    from IPython.display import HTML\n",
    "    anim = HTML(anim.to_html5_video())\n",
    "    plt.close('all')\n",
    "    del fig\n",
    "    return anim\n",
    "\n",
    "\n",
    "def plot_2d_loss_surface():\n",
    "    def fan_linspace(start, diff, step, fan_up=True):\n",
    "        quarter_step = step//4\n",
    "        offset = diff\n",
    "        if not fan_up:\n",
    "            offset = -diff\n",
    "        return np.concatenate([np.linspace(start, start+offset, quarter_step),\n",
    "                            np.linspace(start+offset, start, quarter_step),\n",
    "                            np.linspace(start, start-offset, quarter_step),\n",
    "                            np.linspace(start-offset, start, quarter_step)])\n",
    "\n",
    "    sim_steps = 50\n",
    "    anim_pred_ms = np.concatenate([np.full(sim_steps, true_m), fan_linspace(true_m, true_m*2, sim_steps), (true_m - .5 + np.cos(np.linspace(0, 2*np.pi, sim_steps)) / 2).tolist(), (true_m + .5 + np.cos(np.linspace(np.pi, 3*np.pi, sim_steps)) / 2).tolist()])[:, None]\n",
    "    anim_pred_bs = np.concatenate([fan_linspace(true_b, true_b*2, sim_steps), np.full(sim_steps, true_b), (true_b + np.sin(np.linspace(0, 2*np.pi, sim_steps)) / 2).tolist(), (true_b + np.sin(np.linspace(0, 2*np.pi, sim_steps)) / 2).tolist()])[:, None]\n",
    "\n",
    "    fig, axes = plt.subplots(1, 2, figsize=(12, 6))\n",
    "    handles = []\n",
    "    labels = []\n",
    "\n",
    "    ### Input Output ###\n",
    "    inp_out_ax = axes[0]\n",
    "    _add_true_fn_and_data(inp_out_ax, handles, labels)\n",
    "    pred_line, error_lines = _add_pred_fn_and_errors(anim_pred_ms[0], anim_pred_bs[0], inp_out_ax, handles, labels)\n",
    "    inp_out_ax.set_xlim(-.2, 1.2)\n",
    "    inp_out_ax.set_ylim(-.2, 1.2)\n",
    "    inp_out_ax.legend(handles, labels)\n",
    "\n",
    "    ### Loss Surface ###\n",
    "    loss_ax = axes[1]\n",
    "    _add_loss_surface(loss_ax)\n",
    "    loss_scatter = loss_ax.scatter(anim_pred_ms[0:1], anim_pred_bs[0:1], c=\"orange\")\n",
    "\n",
    "    xs = np.linspace(0, 1, 100)\n",
    "    def update(frame):\n",
    "        # for each frame, update the data stored on each artist.\n",
    "        pred_m = anim_pred_ms[frame]\n",
    "        pred_b = anim_pred_bs[frame]\n",
    "        pred_ys = pred_m * xs + pred_b\n",
    "\n",
    "        pred_line.set_ydata(pred_ys)\n",
    "\n",
    "        pred_y = pred_m * x_data + pred_b\n",
    "        errors = pred_y - y_data\n",
    "\n",
    "        for error_line, y_i, error in zip(error_lines, y_data, errors):\n",
    "            error_line.set_ydata([y_i, y_i + error])\n",
    "\n",
    "        loss_scatter.set_offsets(np.concatenate([anim_pred_ms[frame], anim_pred_bs[frame]]))\n",
    "\n",
    "        return (pred_line, *error_lines, loss_scatter)\n",
    "\n",
    "\n",
    "    anim = animation.FuncAnimation(fig=fig, func=update, frames=len(anim_pred_ms), interval=45, blit=True)\n",
    "    from IPython.display import HTML\n",
    "    anim = HTML(anim.to_html5_video())\n",
    "    plt.close('all')\n",
    "    del fig\n",
    "    return anim\n",
    "\n",
    "def plot_slope_grad(m: torch.Tensor | List[torch.Tensor], grad: torch.Tensor | List[torch.Tensor] | None, learning_rate: float = 1., figsize=(4, 3)):\n",
    "    fig, ax = plt.subplots(figsize=figsize)\n",
    "    # Plot loss surface\n",
    "    xs = np.linspace(-1.2, 2.5, 100)\n",
    "    y_hat = x_data[:, None] @ xs[None, :]\n",
    "    sses = np.sum((y_hat - y_data[:, None])**2, axis=0)\n",
    "    ax.plot(xs, sses)\n",
    "\n",
    "    # Plot gradient\n",
    "    if isinstance(m, torch.Tensor):\n",
    "        m = [m]\n",
    "    handle = None\n",
    "    for i in range(len(m)):\n",
    "        loss = np.sum((x_data * m[i].item() - y_data)**2)\n",
    "        ax.scatter(x=[m[i].item()], y=[loss], color='r')\n",
    "        if grad is not None:\n",
    "            if grad[i] is None:\n",
    "                continue\n",
    "            handle = ax.arrow(x=m[i].item(), y=loss, dx=grad[i].item() * learning_rate, dy=0, head_width=0.2, head_length=0.1, width=0.01, color='r', length_includes_head=True, label=\"gradient\")\n",
    "\n",
    "    if handle is not None:\n",
    "        ax.legend([handle], [\"gradient\"])\n",
    "\n",
    "    ax.set_xlabel(\"slope \" + r\"($m$)\")\n",
    "    ax.set_ylabel(\"SSE Loss\")\n",
    "\n",
    "    plt.show()\n",
    "\n",
    "\n",
    "def plot_grad(m: torch.Tensor | List[torch.Tensor],\n",
    "              b: torch.Tensor | List[torch.Tensor],\n",
    "              m_grad: torch.Tensor | List[torch.Tensor] | None,\n",
    "              b_grad: torch.Tensor | List[torch.Tensor] | None,\n",
    "              learning_rate: float = 1., figsize=(4, 4)):\n",
    "    fig, ax = plt.subplots(figsize=figsize)\n",
    "    _add_loss_surface(ax, m_min=-3, m_max=3, b_min=-3, b_max=3)\n",
    "\n",
    "    if isinstance(m, torch.Tensor):\n",
    "        m = [m]\n",
    "        m_grad = [m_grad]\n",
    "        b = [b]\n",
    "        b_grad = [b_grad]\n",
    "\n",
    "    handle = None\n",
    "    for i in range(len(m)):\n",
    "        ax.scatter(x=[m[i].item()], y=[b[i].item()], color='r')\n",
    "        if m_grad is not None:\n",
    "            if m_grad[i] is None:\n",
    "                continue\n",
    "            handle = ax.arrow(x=m[i].item(), y=b[i].item(), dx=m_grad[i].item() * learning_rate, dy=b_grad[i].item() * learning_rate,\n",
    "                              head_width=0.2, head_length=0.1, width=0.01, color='r', length_includes_head=True, label=\"gradient\")\n",
    "\n",
    "    if handle is not None:\n",
    "        ax.legend([handle], [\"gradient\"])\n",
    "\n",
    "    ax.set_xlabel(\"slope \" + r\"($m$)\")\n",
    "    ax.set_ylabel(\"intercept \" + r\"($b$)\")"
   ]
  },
  {
   "cell_type": "markdown",
   "metadata": {
    "id": "LDFz2kmhOquz"
   },
   "source": [
    "Now that we have generated our data, call `plot_data()` so we can see what it looks like, you don't have to pass in any arguments."
   ]
  },
  {
   "cell_type": "code",
   "execution_count": 128,
   "metadata": {
    "id": "b93saVj_Oquz"
   },
   "outputs": [
    {
     "data": {
      "image/png": "[encoded data removed]",
      "text/plain": [
       "<Figure size 600x600 with 1 Axes>"
      ]
     },
     "metadata": {},
     "output_type": "display_data"
    }
   ],
   "source": [
    "plot_data()"
   ]
  },
  {
   "cell_type": "markdown",
   "metadata": {
    "id": "-Df39gJjOquz"
   },
   "source": [
    "Now call `plot_data()`, but this time pass in a prediction for the slope (e.g.\n",
    "`pred_m=0.5`) and intercept (e.g. `pred_b=0.1`)."
   ]
  },
  {
   "cell_type": "code",
   "execution_count": 129,
   "metadata": {
    "id": "MlGZHS3uOquz"
   },
   "outputs": [
    {
     "data": {
      "image/png": "[encoded data removed]",
      "text/plain": [
       "<Figure size 600x600 with 1 Axes>"
      ]
     },
     "metadata": {},
     "output_type": "display_data"
    }
   ],
   "source": [
    "plot_data(pred_m=0.5, pred_b=0.1)"
   ]
  },
  {
   "cell_type": "markdown",
   "metadata": {
    "id": "ahhxkaYUOquz"
   },
   "source": [
    "The errors $e$ are computed by looking at the difference between the true data $y$ and our predictions $\\hat{y}$, i.e. $e = y - \\hat{y}$.\n",
    "Now if we squared our errors and then took their sum, i.e compute the sum squared error (SSE), $\\sum (y - \\hat{y})^2$ then we get a single value, which we call the loss, that tells us how good our prediction function fits the data.\n",
    "\n",
    "Furthermore, if we moved the predicted slope around we could see how different slopes compare to each either through the loss.\n",
    "To visualize this look execute the cell below."
   ]
  },
  {
   "cell_type": "code",
   "execution_count": 131,
   "metadata": {
    "id": "JMPWwaHOOqu0"
   },
   "outputs": [
    {
     "ename": "RuntimeError",
     "evalue": "Requested MovieWriter (ffmpeg) not available",
     "output_type": "error",
     "traceback": [
      "\u001b[0;31m---------------------------------------------------------------------------\u001b[0m",
      "\u001b[0;31mRuntimeError\u001b[0m                              Traceback (most recent call last)",
      "Cell \u001b[0;32mIn[131], line 1\u001b[0m\n\u001b[0;32m----> 1\u001b[0m plot_1d_loss_surface(pred_ms\u001b[38;5;241m=\u001b[39mnp\u001b[38;5;241m.\u001b[39mlinspace(\u001b[38;5;241m0\u001b[39m, \u001b[38;5;241m1\u001b[39m, \u001b[38;5;241m40\u001b[39m))\n",
      "Cell \u001b[0;32mIn[127], line 147\u001b[0m, in \u001b[0;36mplot_1d_loss_surface\u001b[0;34m(pred_ms, pred_bs, figsize)\u001b[0m\n\u001b[1;32m    145\u001b[0m anim \u001b[38;5;241m=\u001b[39m animation\u001b[38;5;241m.\u001b[39mFuncAnimation(fig\u001b[38;5;241m=\u001b[39mfig, func\u001b[38;5;241m=\u001b[39mupdate, frames\u001b[38;5;241m=\u001b[39m\u001b[38;5;28mlen\u001b[39m(pred_ms), interval\u001b[38;5;241m=\u001b[39m\u001b[38;5;241m50\u001b[39m, blit\u001b[38;5;241m=\u001b[39m\u001b[38;5;28;01mTrue\u001b[39;00m)\n\u001b[1;32m    146\u001b[0m \u001b[38;5;28;01mfrom\u001b[39;00m \u001b[38;5;21;01mIPython\u001b[39;00m\u001b[38;5;21;01m.\u001b[39;00m\u001b[38;5;21;01mdisplay\u001b[39;00m \u001b[38;5;28;01mimport\u001b[39;00m HTML\n\u001b[0;32m--> 147\u001b[0m anim \u001b[38;5;241m=\u001b[39m HTML(anim\u001b[38;5;241m.\u001b[39mto_html5_video())\n\u001b[1;32m    148\u001b[0m plt\u001b[38;5;241m.\u001b[39mclose(\u001b[38;5;124m'\u001b[39m\u001b[38;5;124mall\u001b[39m\u001b[38;5;124m'\u001b[39m)\n\u001b[1;32m    149\u001b[0m \u001b[38;5;28;01mdel\u001b[39;00m fig\n",
      "File \u001b[0;32m/opt/anaconda3/lib/python3.12/site-packages/matplotlib/animation.py:1285\u001b[0m, in \u001b[0;36mAnimation.to_html5_video\u001b[0;34m(self, embed_limit)\u001b[0m\n\u001b[1;32m   1282\u001b[0m path \u001b[38;5;241m=\u001b[39m Path(tmpdir, \u001b[38;5;124m\"\u001b[39m\u001b[38;5;124mtemp.m4v\u001b[39m\u001b[38;5;124m\"\u001b[39m)\n\u001b[1;32m   1283\u001b[0m \u001b[38;5;66;03m# We create a writer manually so that we can get the\u001b[39;00m\n\u001b[1;32m   1284\u001b[0m \u001b[38;5;66;03m# appropriate size for the tag\u001b[39;00m\n\u001b[0;32m-> 1285\u001b[0m Writer \u001b[38;5;241m=\u001b[39m writers[mpl\u001b[38;5;241m.\u001b[39mrcParams[\u001b[38;5;124m'\u001b[39m\u001b[38;5;124manimation.writer\u001b[39m\u001b[38;5;124m'\u001b[39m]]\n\u001b[1;32m   1286\u001b[0m writer \u001b[38;5;241m=\u001b[39m Writer(codec\u001b[38;5;241m=\u001b[39m\u001b[38;5;124m'\u001b[39m\u001b[38;5;124mh264\u001b[39m\u001b[38;5;124m'\u001b[39m,\n\u001b[1;32m   1287\u001b[0m                 bitrate\u001b[38;5;241m=\u001b[39mmpl\u001b[38;5;241m.\u001b[39mrcParams[\u001b[38;5;124m'\u001b[39m\u001b[38;5;124manimation.bitrate\u001b[39m\u001b[38;5;124m'\u001b[39m],\n\u001b[1;32m   1288\u001b[0m                 fps\u001b[38;5;241m=\u001b[39m\u001b[38;5;241m1000.\u001b[39m \u001b[38;5;241m/\u001b[39m \u001b[38;5;28mself\u001b[39m\u001b[38;5;241m.\u001b[39m_interval)\n\u001b[1;32m   1289\u001b[0m \u001b[38;5;28mself\u001b[39m\u001b[38;5;241m.\u001b[39msave(\u001b[38;5;28mstr\u001b[39m(path), writer\u001b[38;5;241m=\u001b[39mwriter)\n",
      "File \u001b[0;32m/opt/anaconda3/lib/python3.12/site-packages/matplotlib/animation.py:148\u001b[0m, in \u001b[0;36mMovieWriterRegistry.__getitem__\u001b[0;34m(self, name)\u001b[0m\n\u001b[1;32m    146\u001b[0m \u001b[38;5;28;01mif\u001b[39;00m \u001b[38;5;28mself\u001b[39m\u001b[38;5;241m.\u001b[39mis_available(name):\n\u001b[1;32m    147\u001b[0m     \u001b[38;5;28;01mreturn\u001b[39;00m \u001b[38;5;28mself\u001b[39m\u001b[38;5;241m.\u001b[39m_registered[name]\n\u001b[0;32m--> 148\u001b[0m \u001b[38;5;28;01mraise\u001b[39;00m \u001b[38;5;167;01mRuntimeError\u001b[39;00m(\u001b[38;5;124mf\u001b[39m\u001b[38;5;124m\"\u001b[39m\u001b[38;5;124mRequested MovieWriter (\u001b[39m\u001b[38;5;132;01m{\u001b[39;00mname\u001b[38;5;132;01m}\u001b[39;00m\u001b[38;5;124m) not available\u001b[39m\u001b[38;5;124m\"\u001b[39m)\n",
      "\u001b[0;31mRuntimeError\u001b[0m: Requested MovieWriter (ffmpeg) not available"
     ]
    },
    {
     "data": {
      "image/png": "[encoded data removed]",
      "text/plain": [
       "<Figure size 1200x600 with 2 Axes>"
      ]
     },
     "metadata": {},
     "output_type": "display_data"
    }
   ],
   "source": [
    "plot_1d_loss_surface(pred_ms=np.linspace(0, 1, 40))"
   ]
  },
  {
   "cell_type": "markdown",
   "metadata": {
    "id": "rDiJTGjPOqu0"
   },
   "source": [
    "If we are trying to find the slope that will minimize our loss, we can use the gradient to tell is which direction we need to move in order to optimize our objective.\n",
    "First, we are going to convert `x_data` and `y_data` from numpy arrays into tensors."
   ]
  },
  {
   "cell_type": "code",
   "execution_count": 132,
   "metadata": {
    "id": "6GneqZWuOqu0"
   },
   "outputs": [],
   "source": [
    "x = torch.from_numpy(x_data).float().unsqueeze(1)\n",
    "y = torch.from_numpy(y_data).float().unsqueeze(1)"
   ]
  },
  {
   "cell_type": "markdown",
   "metadata": {
    "id": "VjqT73AvOqu0"
   },
   "source": [
    "Now create two functions: `forward()` and `sse_loss()`.\n",
    "\n",
    "The `forward()` function does forward propagation.\n",
    "We apply the slope formula $m \\times x+b$, but we need to vectorize it. Dimension 0 of `x` is the \"batch\" dimension: it separates the 9 individual points. Dimension 1 of `x` is the \"channel\" dimension which contains a single channel of data (since the input is a point in 1D space). To get our y predictions, we perform the same function on each batch instance: so we need to matrix-multiply our slope `m` across dimension 1 of `x`. Our model's prediction is:\n",
    "\n",
    "$\\hat{y} = xm + b$\n",
    "\n",
    "where `x.shape==[9,1]`, `m.shape==[1,1]`, `b.shape=[1]`.\n",
    "\n",
    "This ensures that the output `y_hat.shape==[9,1]`: we predict one y-value per point."
   ]
  },
  {
   "cell_type": "code",
   "execution_count": 133,
   "metadata": {
    "id": "3vjJRoe3Oqu0"
   },
   "outputs": [],
   "source": [
    "def forward(m, b, x):\n",
    "    # implement forward and return xm^T + b\n",
    "    return x @ m.T + b\n",
    "    pass"
   ]
  },
  {
   "cell_type": "markdown",
   "metadata": {
    "id": "7uIAhgpbOqu0"
   },
   "source": [
    "The `sse_loss()` function takes your predictions `y_hat` and compares it to the true output `y`, by computing the sum of the squared errors."
   ]
  },
  {
   "cell_type": "code",
   "execution_count": 134,
   "metadata": {
    "id": "fOOw3snZOqu1"
   },
   "outputs": [],
   "source": [
    "def sse_loss(y_hat, y):\n",
    "    # return the sse loss\n",
    "    return torch.sum((y_hat - y)**2)\n",
    "    pass"
   ]
  },
  {
   "cell_type": "markdown",
   "metadata": {
    "id": "Twyf8izMOqu1"
   },
   "source": [
    "Execute the cell below to validate your `forward()` and `sse_loss()` work correctly."
   ]
  },
  {
   "cell_type": "code",
   "execution_count": 135,
   "metadata": {
    "id": "AarcvNJGOqu1"
   },
   "outputs": [],
   "source": [
    "m = torch.tensor([[2.]])\n",
    "b = torch.tensor([[0.]])\n",
    "y_hat = forward(m, b, x)\n",
    "loss = sse_loss(y_hat, y)\n",
    "assert torch.allclose(loss, torch.tensor(5.4452))\n",
    "\n",
    "m = torch.tensor([[1.]])\n",
    "b = torch.tensor([[1.]])\n",
    "y_hat = forward(m, b, x)\n",
    "loss = sse_loss(y_hat, y)\n",
    "assert torch.allclose(loss, torch.tensor(11.8534))"
   ]
  },
  {
   "cell_type": "markdown",
   "metadata": {
    "id": "6Q5-vFbyOqu1"
   },
   "source": [
    "We will now analyze what the gradients tell us.\n",
    "At the moment we will only focus on a single parameter: the slope `m`.\n",
    "Go ahead and execute the cell below."
   ]
  },
  {
   "cell_type": "code",
   "execution_count": 136,
   "metadata": {
    "id": "l1peeg3MOqu1"
   },
   "outputs": [],
   "source": [
    "m = torch.tensor([[2.]]).float()\n",
    "b = torch.tensor([[0]]).float()\n",
    "m.requires_grad = True\n",
    "b.requires_grad = False"
   ]
  },
  {
   "cell_type": "markdown",
   "metadata": {
    "id": "gfdwqmErOqu2"
   },
   "source": [
    "Now use your `forward()` and `sse_loss()` functions to get the SSE loss for `m` and `b` and then calculate the derivative of loss, i.e. call `loss.backward()`."
   ]
  },
  {
   "cell_type": "code",
   "execution_count": 137,
   "metadata": {
    "id": "srZPQY28Oqu2"
   },
   "outputs": [],
   "source": [
    "y_hat = forward(m, b, x)\n",
    "loss = sse_loss(y_hat, y)\n",
    "loss.backward()"
   ]
  },
  {
   "cell_type": "markdown",
   "metadata": {
    "id": "1DSTCqR4Oqu2"
   },
   "source": [
    "Execute the cell below and validate you calculated the correct gradient."
   ]
  },
  {
   "cell_type": "code",
   "execution_count": 138,
   "metadata": {
    "id": "SKXVvM52Oqu2"
   },
   "outputs": [],
   "source": [
    "assert torch.allclose(m.grad, torch.tensor(7.7423))"
   ]
  },
  {
   "cell_type": "markdown",
   "metadata": {
    "id": "ov4jevzjOqu2"
   },
   "source": [
    "Now call the `plot_slope_grad()` function below to visualize what the gradient is pointing towards."
   ]
  },
  {
   "cell_type": "code",
   "execution_count": 141,
   "metadata": {
    "id": "9Kwof-YAOqu3"
   },
   "outputs": [
    {
     "data": {
      "image/png": "[encoded data removed]",
      "text/plain": [
       "<Figure size 400x300 with 1 Axes>"
      ]
     },
     "metadata": {},
     "output_type": "display_data"
    }
   ],
   "source": [
    "# execute this cell\n",
    "plot_slope_grad(m, m.grad)"
   ]
  },
  {
   "cell_type": "markdown",
   "metadata": {
    "id": "PKyDv94jOqu3"
   },
   "source": [
    "Notice how the gradient points towards away from the minimal point, this is because gradients point towards \"steepest ascent\" (which will become more apparent when we work with 2d loss surfaces).\n",
    "To move towards the the minimal point we therefore need to move in the opposite direction, i.e. `-m.grad`.\n",
    "Create the same plot, but point the gradient in the opposite direction."
   ]
  },
  {
   "cell_type": "code",
   "execution_count": 142,
   "metadata": {
    "id": "EUDLRsXgOqu4"
   },
   "outputs": [
    {
     "data": {
      "image/png": "[encoded data removed]",
      "text/plain": [
       "<Figure size 400x300 with 1 Axes>"
      ]
     },
     "metadata": {},
     "output_type": "display_data"
    }
   ],
   "source": [
    "plot_slope_grad(m, -m.grad)"
   ]
  },
  {
   "cell_type": "markdown",
   "metadata": {
    "id": "vHdN1xlJOqu4"
   },
   "source": [
    "Now we are pointing in the right direction, but as you can see the gradient, $\\nabla m$, is telling our slope, $m$, to become $m \\approx -6$, which clearly overshoots the minimal point.\n",
    "Therefore let's apply a learning rate, $\\alpha$, to our gradient.\n",
    "Call `plot_slope_grad()` one more time, but this time pass in the argument `learning_rate=.05`."
   ]
  },
  {
   "cell_type": "code",
   "execution_count": 143,
   "metadata": {
    "id": "Iegany5KOqu4"
   },
   "outputs": [
    {
     "data": {
      "image/png": "[encoded data removed]",
      "text/plain": [
       "<Figure size 400x300 with 1 Axes>"
      ]
     },
     "metadata": {},
     "output_type": "display_data"
    }
   ],
   "source": [
    "plot_slope_grad(m, -m.grad, learning_rate=.05)"
   ]
  },
  {
   "cell_type": "markdown",
   "metadata": {
    "id": "kCtHdxADOqu4"
   },
   "source": [
    "Now we are pointing in the right direction and with an acceptable magnitude (this learning rate is perhaps a little too small, but it is useful for our other visualizations).\n",
    "Now let's update our slope by apply the gradient, i.e. $m \\leftarrow m - \\alpha \\nabla m$.\n",
    "First print out `m - .05 * m.grad` below."
   ]
  },
  {
   "cell_type": "code",
   "execution_count": 144,
   "metadata": {
    "id": "RHeyLsRKOqu4"
   },
   "outputs": [
    {
     "data": {
      "text/plain": [
       "tensor([[1.6129]], grad_fn=<SubBackward0>)"
      ]
     },
     "execution_count": 144,
     "metadata": {},
     "output_type": "execute_result"
    }
   ],
   "source": [
    "# execute this cell\n",
    "m - .05 * m.grad"
   ]
  },
  {
   "cell_type": "markdown",
   "metadata": {
    "id": "bi7wWtAVOqu4"
   },
   "source": [
    "You will notice this contains a `grad_fn` which means this operation was put on the computation graph because `m` is a tensor that requires gradients.\n",
    "We do not want to calculate gradients on our update step since we aren't doing meta-learning.\n",
    "\n",
    "Instead you should update `m` by accessing its `.data` variable and setting `m.data = m.data - .05 * m.grad.data`"
   ]
  },
  {
   "cell_type": "code",
   "execution_count": 145,
   "metadata": {
    "id": "7EUFjBhBOqu5"
   },
   "outputs": [],
   "source": [
    "m = m.data - .05 * m.grad.data"
   ]
  },
  {
   "cell_type": "markdown",
   "metadata": {
    "id": "9z8b_25vOqu5"
   },
   "source": [
    "Now that we have updated our slope, call `plot_slope_grad()` below."
   ]
  },
  {
   "cell_type": "code",
   "execution_count": 146,
   "metadata": {
    "id": "z_uSnnyGOqu5"
   },
   "outputs": [
    {
     "data": {
      "image/png": "[encoded data removed]",
      "text/plain": [
       "<Figure size 400x300 with 1 Axes>"
      ]
     },
     "metadata": {},
     "output_type": "display_data"
    }
   ],
   "source": [
    "# execute this cell\n",
    "plot_slope_grad(m, None)"
   ]
  },
  {
   "cell_type": "markdown",
   "metadata": {
    "id": "hGfcKQv5Oqu5"
   },
   "source": [
    "We have take a step closer towards minimizing our loss, which means that our slope is beginning to fit our data better."
   ]
  },
  {
   "cell_type": "markdown",
   "metadata": {
    "id": "7QPGpbPfOqu5"
   },
   "source": [
    "Let's see how this function will operate for many timesteps.\n",
    "Follow the directions below and implement the `slope_optimization_step()` function."
   ]
  },
  {
   "cell_type": "code",
   "execution_count": 147,
   "metadata": {
    "id": "WakbGjeeOqu6"
   },
   "outputs": [],
   "source": [
    "def slope_optimization_step(m: torch.Tensor, b, x, y, learning_rate):\n",
    "    # zero out your gradient\n",
    "    m.grad = None   \n",
    "    # call your forward function\n",
    "    y_hat = forward(m, b, x)\n",
    "    # compute sse loss\n",
    "    loss = sse_loss(y_hat, y)\n",
    "    # call backward on the loss\n",
    "    loss.backward() \n",
    "    # apply your gradient and don't forget to use the learning_rate\n",
    "    m.data = m.data - learning_rate * m.grad.data"
   ]
  },
  {
   "cell_type": "markdown",
   "metadata": {
    "id": "4GK6rZfAOqu6"
   },
   "source": [
    "We will now use your `optimization_step` function to plot multiple optimization steps. Execute the cell below."
   ]
  },
  {
   "cell_type": "code",
   "execution_count": 148,
   "metadata": {
    "id": "WEXmsmEpOqu6"
   },
   "outputs": [
    {
     "data": {
      "image/png": "[encoded data removed]",
      "text/plain": [
       "<Figure size 400x300 with 1 Axes>"
      ]
     },
     "metadata": {},
     "output_type": "display_data"
    }
   ],
   "source": [
    "def plot_slope_optimization_steps(m, b, x, y, learning_rate, steps=4):\n",
    "    ms = [m.clone()]\n",
    "    grads = []\n",
    "    for _ in range(steps):\n",
    "        slope_optimization_step(m, b, x, y, learning_rate)\n",
    "        ms.append(m.clone())\n",
    "        grads.append(-m.grad.clone())\n",
    "\n",
    "    grads.append(None)\n",
    "    plot_slope_grad(ms, grads, learning_rate)\n",
    "\n",
    "m = torch.tensor([[2.5]]).float()\n",
    "b = torch.tensor([[0]]).float()\n",
    "m.requires_grad = True\n",
    "b.requires_grad = False\n",
    "\n",
    "plot_slope_optimization_steps(m, b, x, y, learning_rate=.05, steps=4)"
   ]
  },
  {
   "cell_type": "markdown",
   "metadata": {
    "id": "z12r6KeZOqu6"
   },
   "source": [
    "Now if we had a smaller learning rate ($\\alpha = .02$), it will take us more gradient steps to solve the problem. Execute the cell below to see."
   ]
  },
  {
   "cell_type": "code",
   "execution_count": 149,
   "metadata": {
    "id": "Pz4XZdjZOqu7"
   },
   "outputs": [
    {
     "data": {
      "image/png": "[encoded data removed]",
      "text/plain": [
       "<Figure size 400x300 with 1 Axes>"
      ]
     },
     "metadata": {},
     "output_type": "display_data"
    }
   ],
   "source": [
    "m = torch.tensor([[2.5]]).float()\n",
    "m.requires_grad = True\n",
    "\n",
    "plot_slope_optimization_steps(m, b, x, y, learning_rate=.02, steps=8)"
   ]
  },
  {
   "cell_type": "markdown",
   "metadata": {
    "id": "GHAgdtfgOqu7"
   },
   "source": [
    "But if our learning rate is too large ($\\alpha = .42$), then the parameter will bounce away from the minimal point. Execute the cell below to see. *Note that $m$ starts at 1 in this case*."
   ]
  },
  {
   "cell_type": "code",
   "execution_count": 150,
   "metadata": {
    "id": "__ExxMDMOqu7"
   },
   "outputs": [
    {
     "data": {
      "image/png": "[encoded data removed]",
      "text/plain": [
       "<Figure size 400x300 with 1 Axes>"
      ]
     },
     "metadata": {},
     "output_type": "display_data"
    }
   ],
   "source": [
    "m = torch.tensor([[1]]).float()\n",
    "m.requires_grad = True\n",
    "\n",
    "plot_slope_optimization_steps(m, b, x, y, learning_rate=.42, steps=4)"
   ]
  },
  {
   "cell_type": "markdown",
   "metadata": {
    "id": "TomPDXHDOqu7"
   },
   "source": [
    "Now let's work with on optimizing the slope $m$ and intercept $b$.\n",
    "Execute the cell below to see what the gradient tells us about $m$ and $b$."
   ]
  },
  {
   "cell_type": "code",
   "execution_count": 151,
   "metadata": {
    "id": "D5Z2tn1fOqu7"
   },
   "outputs": [
    {
     "data": {
      "image/png": "[encoded data removed]",
      "text/plain": [
       "<Figure size 400x400 with 1 Axes>"
      ]
     },
     "metadata": {},
     "output_type": "display_data"
    }
   ],
   "source": [
    "m = torch.tensor([[2.]]).float()\n",
    "b = torch.tensor([[1]]).float()\n",
    "m.requires_grad = True\n",
    "b.requires_grad = True\n",
    "y_hat = forward(m, b, x)\n",
    "loss = sse_loss(y_hat, y)\n",
    "loss.backward()\n",
    "plot_grad(m, b, m.grad, b.grad, learning_rate=.02)"
   ]
  },
  {
   "cell_type": "markdown",
   "metadata": {
    "id": "lnHwUPStOqu7"
   },
   "source": [
    "As stated before, the gradient points towards steepest ascent, and as you can imagine if we looked at the negative gradient it would point (indirectly) towards the minimal point of the loss.\n",
    "\n",
    "Let's visualize what gradient descent looks like for multiple steps.\n",
    "Follow the directions below and implement the `optimization_step()` function."
   ]
  },
  {
   "cell_type": "code",
   "execution_count": 152,
   "metadata": {
    "id": "xY3HMSY4Oqu8"
   },
   "outputs": [],
   "source": [
    "def optimization_step(m: torch.Tensor, b: torch.Tensor, x, y, learning_rate):\n",
    "    # zero out your gradients\n",
    "    m.grad = None\n",
    "    b.grad = None\n",
    "    # call your forward function\n",
    "    y_hat = forward(m, b, x)\n",
    "    # compute sse loss\n",
    "    loss = sse_loss(y_hat, y)\n",
    "    # call backward\n",
    "    loss.backward()\n",
    "    # apply your gradients\n",
    "    m.data = m.data - learning_rate * m.grad.data\n",
    "    b.data = b.data - learning_rate * b.grad.data\n",
    "    pass"
   ]
  },
  {
   "cell_type": "markdown",
   "metadata": {
    "id": "f2HEUiTjOqu8"
   },
   "source": [
    "We will now use your `optimization_step` function and plot what it looks like to perform multiple gradient descent steps.\n",
    "You can set the argument `plot_grads=False` to make the plot less noisy."
   ]
  },
  {
   "cell_type": "code",
   "execution_count": 153,
   "metadata": {
    "id": "uoB7N3q0Oqu8"
   },
   "outputs": [
    {
     "data": {
      "image/png": "[encoded data removed]",
      "text/plain": [
       "<Figure size 800x800 with 1 Axes>"
      ]
     },
     "metadata": {},
     "output_type": "display_data"
    }
   ],
   "source": [
    "def plot_optimization_steps(m, b, x, y, learning_rate, steps=4, plot_grads=True, figsize=(8, 8)):\n",
    "    ms = [m.clone()]\n",
    "    bs = [b.clone()]\n",
    "    m_grads = []\n",
    "    b_grads = []\n",
    "    for _ in range(steps):\n",
    "        optimization_step(m, b, x, y, learning_rate)\n",
    "        ms.append(m.clone())\n",
    "        bs.append(b.clone())\n",
    "        m_grads.append(-m.grad.clone())\n",
    "        b_grads.append(-b.grad.clone())\n",
    "\n",
    "    m_grads.append(None)\n",
    "    b_grads.append(None)\n",
    "    if plot_grads:\n",
    "        plot_grad(ms, bs, m_grads, b_grads, learning_rate, figsize=figsize)\n",
    "    else:\n",
    "        plot_grad(ms, bs, None, None, learning_rate, figsize=figsize)\n",
    "\n",
    "m = torch.tensor([[2.5]]).float()\n",
    "b = torch.tensor([[2]]).float()\n",
    "m.requires_grad = True\n",
    "b.requires_grad = True\n",
    "\n",
    "plot_optimization_steps(m, b, x, y, .02, steps=10, plot_grads=True)"
   ]
  },
  {
   "cell_type": "markdown",
   "metadata": {
    "id": "3QmzOZ1-Oqu8"
   },
   "source": [
    "After 10 optimization steps, we were not able to reach the minimal loss, so let's start over and optimize for 100 steps."
   ]
  },
  {
   "cell_type": "code",
   "execution_count": 154,
   "metadata": {
    "id": "-m8vGQOgOqu9"
   },
   "outputs": [
    {
     "data": {
      "image/png": "[encoded data removed]",
      "text/plain": [
       "<Figure size 800x800 with 1 Axes>"
      ]
     },
     "metadata": {},
     "output_type": "display_data"
    }
   ],
   "source": [
    "m = torch.tensor([[2.5]]).float()\n",
    "b = torch.tensor([[2]]).float()\n",
    "m.requires_grad = True\n",
    "b.requires_grad = True\n",
    "\n",
    "plot_optimization_steps(m, b, x, y, .02, steps=100, plot_grads=False)"
   ]
  },
  {
   "cell_type": "markdown",
   "metadata": {
    "id": "v3A6lgqpOqu9"
   },
   "source": [
    "After 100 steps we are pretty close to reaching the optimal point.\n",
    "For fun, go ahead and execute the code below, which performs 20 optimization steps with a larger learning rate."
   ]
  },
  {
   "cell_type": "code",
   "execution_count": 155,
   "metadata": {
    "id": "l62dQWJROqu9"
   },
   "outputs": [
    {
     "data": {
      "image/png": "[encoded data removed]",
      "text/plain": [
       "<Figure size 800x800 with 1 Axes>"
      ]
     },
     "metadata": {},
     "output_type": "display_data"
    }
   ],
   "source": [
    "m = torch.tensor([[2.5]]).float()\n",
    "b = torch.tensor([[2]]).float()\n",
    "m.requires_grad = True\n",
    "b.requires_grad = True\n",
    "\n",
    "plot_optimization_steps(m, b, x, y, .085, steps=20, plot_grads=True)"
   ]
  },
  {
   "cell_type": "markdown",
   "metadata": {
    "id": "bHwRsmTkOqu-"
   },
   "source": [
    "It is interesting that the learning rate is a little too big for the intercept (not big enough for it to jump away from the minimal point though), but it is better for our slope, which converges faster than the previous examples.\n",
    "In the future you will learn about optimizers that can handle this issue."
   ]
  },
  {
   "cell_type": "markdown",
   "metadata": {
    "id": "iymNI1hrOqu-"
   },
   "source": [
    "This process of gradient descent is the power house of deep learning.\n",
    "We will usually not be able to visualize the optimization process in detail because once we scale up the number of parameters we are optimizing we lose our ability to visualize the loss surface, but this process still happens in that high-dimensional space."
   ]
  },
  {
   "cell_type": "markdown",
   "metadata": {
    "id": "8ddyvUr9Oqu-"
   },
   "source": [
    "---\n",
    "\n",
    "# Lab Submission Information:\n",
    "\n",
    "Colab stores the saved changes of your notebook on your Google Drive (NOT the file on your device). Remember to download your notebook as an .ipynb file to get your changes, and submit the downloaded file. The file should contain all the changes you've made, including code and output cells: if you can see it in Colab, it will be stored in the .ipynb file. If you download the file as .py, it will not contain the outputs.\n",
    "\n",
    "Submit your .ipynb file online."
   ]
  }
 ],
 "metadata": {
  "colab": {
   "provenance": []
  },
  "kernelspec": {
   "display_name": "base",
   "language": "python",
   "name": "python3"
  },
  "language_info": {
   "codemirror_mode": {
    "name": "ipython",
    "version": 3
   },
   "file_extension": ".py",
   "mimetype": "text/x-python",
   "name": "python",
   "nbconvert_exporter": "python",
   "pygments_lexer": "ipython3",
   "version": "3.12.2"
  }
 },
 "nbformat": 4,
 "nbformat_minor": 4
}
